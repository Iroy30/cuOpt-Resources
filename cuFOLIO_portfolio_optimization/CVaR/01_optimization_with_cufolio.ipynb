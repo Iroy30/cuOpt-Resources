{
 "cells": [
  {
   "cell_type": "markdown",
   "id": "26c5250f",
   "metadata": {},
   "source": [
    "### **cuFOLIO: Portfolio Optimization on GPU**\n",
    "\n",
    "This tutorial explores portfolio optimization techniques using the `cuOpt` solver on GPU. \n",
    "\n",
    "### **Introduction**\n",
    "This tutorial explores **GPU-accelerated portfolio optimization** using **Conditional Value at Risk (CVaR)**. It demonstrates how to construct the **Efficient Frontier**, compare **CPU vs. GPU optimization**, and analyze **portfolio performance across market regimes**. The goal is to optimize asset allocation while managing risk efficiently.\n",
    "\n",
    "### **Steps Covered**\n",
    "1. **Portfolio Optimization Setup** – Import necessary libraries and configure solver settings.  \n",
    "2. **Solving Optimization on GPU** – Define optimization parameters and execute on GPU.  \n",
    "3. **Constructing the Efficient Frontier** – Visualize optimal risk-return portfolios.  \n",
    "4. **Comparing CPU and GPU Performance** – Evaluate performance solving optimization problem on GPU vs CPU."
   ]
  },
  {
   "cell_type": "markdown",
   "id": "0e8036d8",
   "metadata": {},
   "source": [
    "#### **Importing Required Libraries**\n",
    "\n",
    "Before diving into portfolio optimization, we need to import the necessary libraries for optimization, data handling, visualization, and backtesting."
   ]
  },
  {
   "cell_type": "code",
   "execution_count": null,
   "id": "bcffb5b8",
   "metadata": {},
   "outputs": [],
   "source": [
    "# Install dependencies\n",
    "!pip install -q -r requirements.txt"
   ]
  },
  {
   "cell_type": "code",
   "execution_count": 1,
   "id": "761f1707",
   "metadata": {},
   "outputs": [],
   "source": [
    "import os\n",
    "import warnings\n",
    "warnings.filterwarnings(\"ignore\")\n",
    "\n",
    "# Optimization and numerical computation libraries\n",
    "from cufolio import cvar_optimizer, cvar_utils\n",
    "import cvxpy as cp\n",
    "import solver_settings"
   ]
  },
  {
   "cell_type": "markdown",
   "id": "955bdab2",
   "metadata": {},
   "source": [
    "#### **0. Formulation of the Optimization Problem**\n",
    "\n",
    "Mean-CVaR optimization can be formulated as follows:\n",
    "\n",
    "\\begin{align}\n",
    "\\text{max: } &\\mu^\\top \\mathbf{w} - \\lambda_{risk}\\left(t + \\frac{1}{1-\\alpha}\\mathbf{p}^\\top \\mathbf{u}\\right)\\\\\n",
    "\\text{subject to: } & \\mathbf{1}^\\top \\mathbf{w} = 1\\\\\n",
    "&\\mathbf{u} \\geq -R^\\top \\mathbf{w} - t\\\\\n",
    "& \\mathbf{w}^{\\min} \\leq \\mathbf{w} \\leq \\mathbf{w}^{\\max}, c^{\\min} \\leq c \\leq c^{\\max},\\\\\n",
    "& L= \\Vert \\mathbf{w} \\Vert_1 \\leq L^{tar}\n",
    "\\end{align}\n",
    "\n",
    "All problem-related constants in the objective and constraints should be included in `cvar_params`. \n",
    "\n",
    "##### Additional Supported Constraints\n",
    "We support two additional types of constraints:\n",
    "\n",
    "1. **CVaR Limit** – Set a strict upper bound on the Conditional Value-at-Risk (CVaR).\n",
    "   - **How to use:** Specify `cvar_limit` in `cvar_params`.\n",
    "\n",
    "2. **Turnover Constraint** – Restrict portfolio turnover by limiting deviations from an existing portfolio.\n",
    "   - **How to use:** Provide an existing portfolio as a `Portfolio` object and set `T_tar` in `cvar_params`."
   ]
  },
  {
   "cell_type": "markdown",
   "id": "c3d52e4e",
   "metadata": {},
   "source": [
    "#### **1. Instantiate Parameters and Optimizer Objects**\n",
    "\n",
    "In this section, we define the parameters for Conditional Value-at-Risk (CVaR) optimization and initialize the optimizer.\n",
    "\n",
    "##### 1.1 Define CVaR Parameters\n",
    "\n",
    "The `CVaR_Parameters` object encapsulates key constraints and settings for portfolio optimization, ensuring risk-aware allocation.\n",
    "\n",
    "**Parameters:**\n",
    "\n",
    "- **Portfolio Constraints:**\n",
    "  - `w_min`, `w_max`: Minimum and maximum asset weights.\n",
    "  - `c_min`, `c_max`: Minimum and maximum cash holdings.\n",
    "  - `L_tar`: Leverage constraint, restricting the total long/short positions in the portfolio.\n",
    "\n",
    "- **Risk Constraints:**\n",
    "  - `risk_aversion`: Penalization factor for risk, controlling the trade-off between return and risk (higher values prioritize lower risk).\n",
    "  - `confidence`: The percentile (e.g., 95% or 99%) beyond which the average loss is computed. \n",
    "  - `num_scen`: Number of simulated return scenarios.\n",
    "\n",
    "- **Optional Constraints:**\n",
    "  - `T_tar`: Turnover constraint, restricting how much the portfolio deviates from an existing allocation.\n",
    "  - `cvar_limit`: Strict constraint on Conditional Value-at-Risk (CVaR).\n",
    "\n",
    "- **Fitting Method:**\n",
    "  - `fit_type`: Determines how return distributions are estimated:\n",
    "    - `'kde'` (Kernel Density Estimation) for non-parametric return modeling.\n",
    "    - `'no_fit'` to use historical return data directly."
   ]
  },
  {
   "cell_type": "code",
   "execution_count": 2,
   "id": "d0a9c131",
   "metadata": {},
   "outputs": [],
   "source": [
    "# Define CVaR optimization parameters\n",
    "cvar_params = cvar_optimizer.CVaR_Parameters(\n",
    "    w_min=-0.3,         # Minimum asset weight allocation\n",
    "    w_max=0.8,          # Maximum asset weight allocation\n",
    "    c_min=0.1,          # Minimum cash holdings\n",
    "    c_max=0.4,          # Maximum cash holdings\n",
    "    L_tar=1.6,          # Leverage constraint (total long/short weight change)\n",
    "    T_tar=None,         # Turnover constraint (limits portfolio deviation from an existing allocation)\n",
    "    cvar_limit=None,    # Maximum allowed Conditional Value-at-Risk (CVaR)\n",
    "    risk_aversion=0.5,  # Change to risk aversion levels (0 = maximize return subject to risk constraints)\n",
    "    confidence=0.95,    # Confidence level for CVaR calculation\n",
    "    num_scen=10000,     # Number of return scenarios to simulate\n",
    "    fit_type=\"kde\",     # Return distribution estimation method ('kde' for kernel density estimation, 'no_fit' for historical returns)\n",
    ")"
   ]
  },
  {
   "cell_type": "markdown",
   "id": "f09b5a71",
   "metadata": {},
   "source": [
    "##### 1.2 Load Returns Data  \n",
    "\n",
    "We first construct a **returns dictionary**, which contains essential market data and scenario definitions.  \n",
    "\n",
    "**Key Components:**  \n",
    "\n",
    "- **Return Type (`return_type`)**  \n",
    "  - Specifies the method for calculating returns.  \n",
    "  - `'LOG'`: Log-returns, commonly used for equities and FX.  \n",
    "\n",
    "- **Historical Dataset (`dataset_directory`)**  \n",
    "  - CSV file containing adjusted closing prices for selected assets to compute historical return.\n",
    "  \n",
    "- **Regime Information (`regime_dict`)**  \n",
    "  - Defines the market regime based on a specified time range.  \n",
    "  - Helps analyze portfolio behavior under different market conditions.  \n",
    "\n",
    "- **Scenario Modeling**  \n",
    "  - Returns data can be **historical** (using past market data) or **simulated** (via KDE).  \n",
    "  - The `device` parameter determines whether to compute the return distribution on **CPU** or **GPU**.  \n",
    "\n",
    "We now select a dataset and compute returns using `calculate_returns()`, specifying the desired time range and computational device.  \n"
   ]
  },
  {
   "cell_type": "code",
   "execution_count": 3,
   "id": "0b64a1c7",
   "metadata": {},
   "outputs": [],
   "source": [
    "# Select dataset and regime information\n",
    "dataset_name = \"sp500\"\n",
    "dataset_directory = f\"../data/stock_data/{dataset_name}.csv\"\n",
    "\n",
    "# Define return type and regime period\n",
    "\"\"\"\n",
    "# If you want to analyze different market conditions, you can use the following predefined periods:\n",
    "scenarios = {\n",
    "    'pre_crisis': ('2005-01-01', '2007-10-01'),\n",
    "    'crisis': ('2007-10-01', '2009-04-01'),\n",
    "    'post_crisis': ('2009-06-30', '2014-06-30'),\n",
    "    'oil_price_crash': ('2014-06-01', '2016-03-01'),\n",
    "    'FAANG_surge': ('2015-01-01', '2021-01-01'),\n",
    "    'covid': ('2020-01-01', '2023-01-01'),\n",
    "    'recent': ('2022-01-01', '2024-07-01')\n",
    "}\n",
    "\"\"\"\n",
    "return_type = \"LOG\"\n",
    "regime_dict = {\"name\": \"recent\", \"range\": (\"2022-01-04\", \"2024-07-07\")}\n",
    "\n",
    "# Compute returns dictionary (set device for KDE computation)\n",
    "returns_dict = cvar_utils.calculate_returns(\n",
    "    dataset_directory, regime_dict, return_type, cvar_params, device=\"GPU\"\n",
    ")"
   ]
  },
  {
   "cell_type": "markdown",
   "id": "e66aa1b9",
   "metadata": {},
   "source": [
    "##### 1.3 Instantiate the CVaR Optimizer\n",
    "Finally, we create the CVaR optimizer object, which integrates the computed return data and optimization parameters."
   ]
  },
  {
   "cell_type": "code",
   "execution_count": 4,
   "id": "f90619f0",
   "metadata": {},
   "outputs": [],
   "source": [
    "# Instantiate CVaR optimization problem\n",
    "example_cvar_problem = cvar_optimizer.CVaR(\n",
    "    returns_dict=returns_dict, cvar_params=cvar_params\n",
    ")"
   ]
  },
  {
   "cell_type": "markdown",
   "id": "dc345ac3",
   "metadata": {},
   "source": [
    "#### **2. Solve the Optimization Problem on GPU**\n",
    "\n",
    "##### 2.1 Configure GPU Solver Settings and Solve the CVaR Optimization Problem on GPU"
   ]
  },
  {
   "cell_type": "code",
   "execution_count": 5,
   "id": "7960c7b1",
   "metadata": {
    "scrolled": true
   },
   "outputs": [
    {
     "name": "stdout",
     "output_type": "stream",
     "text": [
      "*************************\n",
      "--- GPU CVaR Results---\n",
      "recent: ('2022-01-04', '2024-07-07')\n",
      "Scenarios: 10000\n",
      "solver time: 0.7740 seconds\n",
      "IO time: 4.3264 seconds\n",
      "--- Optimal Portfolio ---\n",
      "Short--BIO: -0.019\n",
      "Long--FICO: 0.198\n",
      "Long--GE: 0.216\n",
      "Short--ILMN: -0.181\n",
      "Long--LLY: 0.429\n",
      "Long--MCK: 0.034\n",
      "Short--MTCH: -0.3\n",
      "Long--NVDA: 0.199\n",
      "Long--PWR: 0.003\n",
      "Long--VLO: 0.021\n",
      "cash: 0.4\n",
      "*************************\n",
      "\n"
     ]
    }
   ],
   "source": [
    "# Initialize solver settings\n",
    "gpu_settings = solver_settings.SolverSettings()\n",
    "gpu_settings.set_solver_mode(0)                     # Set solver mode (0: default, 1: legacy, 2: advanced hyper-parameter configurations)\n",
    "gpu_settings.set_infeasibility_detection(False)     # Disable infeasibility detection\n",
    "gpu_settings.set_optimality_tolerance(1e-4)         # Define optimality tolerance (default: 1e-4)\n",
    "gpu_settings.set_iteration_limit(1000)              # Set iteration limit to control convergence\n",
    "gpu_settings.set_time_limit(10)                     # Set time limit for the solver to 10 seconds\n",
    "\n",
    "# set network settings for cuopt server, if needed\n",
    "network_settings = {\"port\": 5000, \"ip\": \"cuopt\"}\n",
    "\n",
    "# Solve the optimization problem using the configured GPU solver settings\n",
    "gpu_result, gpu_portfolio = example_cvar_problem.solve_optimization_problem(\n",
    "    device=\"GPU\", gpu_settings=gpu_settings, network_settings=network_settings\n",
    ")"
   ]
  },
  {
   "cell_type": "markdown",
   "id": "01bc241f",
   "metadata": {},
   "source": [
    "##### 2.2 View Optimization Results\n",
    "\n",
    "Note that CVaR will be capped at your `cvar_limit` if you specified it in `cvar_params`"
   ]
  },
  {
   "cell_type": "code",
   "execution_count": 6,
   "id": "6ee7d4ae",
   "metadata": {},
   "outputs": [
    {
     "data": {
      "text/plain": [
       "regime          recent\n",
       "solve time       0.774\n",
       "return        0.003067\n",
       "CVaR           0.02709\n",
       "obj           -0.00232\n",
       "dtype: object"
      ]
     },
     "execution_count": 6,
     "metadata": {},
     "output_type": "execute_result"
    }
   ],
   "source": [
    "gpu_result"
   ]
  },
  {
   "cell_type": "markdown",
   "id": "d11fe03a",
   "metadata": {},
   "source": [
    "##### 2.3 Plot the Optimized Portfolio"
   ]
  },
  {
   "cell_type": "code",
   "execution_count": 7,
   "id": "e6d6406a",
   "metadata": {},
   "outputs": [
    {
     "data": {
      "image/png": "[encoded data removed]",
      "text/plain": [
       "<Figure size 1000x600 with 1 Axes>"
      ]
     },
     "metadata": {},
     "output_type": "display_data"
    }
   ],
   "source": [
    "ax = gpu_portfolio.plot_portfolio(\n",
    "    show_plot=True,\n",
    "    title=\"GPU Optimal Portfolio from \"\n",
    "    + regime_dict[\"range\"][0]\n",
    "    + \" to \"\n",
    "    + regime_dict[\"range\"][1],\n",
    ")"
   ]
  },
  {
   "cell_type": "markdown",
   "id": "63af8b6c",
   "metadata": {},
   "source": [
    "#### **3. Constructing the Efficient Frontier for Portfolio Optimization**\n",
    "\n",
    "**What Is the Efficient Frontier?**\n",
    "\n",
    "The efficient frontier is the set of optimal portfolios that offer the highest expected return for a defined level of risk or the lowest risk for a given level of expected return.\n",
    "\n",
    "Portfolios that lie below the efficient frontier are sub-optimal because they do not provide enough return for the level of risk. Portfolios that cluster to the right of the efficient frontier are sub-optimal because they have a higher level of risk for the defined rate of return.\n",
    "\n",
    "##### 3.1 Define CVaR parameters\n",
    "\n",
    "We redefine a set of parameters for this example."
   ]
  },
  {
   "cell_type": "code",
   "execution_count": 8,
   "id": "d5baf3f6",
   "metadata": {},
   "outputs": [],
   "source": [
    "cvar_params = cvar_optimizer.CVaR_Parameters(\n",
    "    w_min=0,\n",
    "    w_max=1,\n",
    "    c_min=0,\n",
    "    c_max=0,\n",
    "    L_tar=1.6,\n",
    "    T_tar=None,\n",
    "    risk_aversion=1,\n",
    "    cvar_limit=None,\n",
    "    confidence=0.95,\n",
    "    num_scen=10000,\n",
    "    fit_type=\"kde\",\n",
    ")"
   ]
  },
  {
   "cell_type": "markdown",
   "id": "3b9b7cd2",
   "metadata": {},
   "source": [
    "##### 3.2 Prepare Market Data for Optimization "
   ]
  },
  {
   "cell_type": "code",
   "execution_count": 9,
   "id": "11c255f2",
   "metadata": {},
   "outputs": [],
   "source": [
    "dataset_name = \"global_titans_proxy\"\n",
    "dataset_directory = f\"../data/stock_data/{dataset_name}.csv\"\n",
    "return_type = \"LOG\"\n",
    "regime_dict = {\"name\": \"recent\", \"range\": (\"2022-01-04\", \"2024-07-01\")}\n",
    "\n",
    "returns_dict = cvar_utils.calculate_returns(\n",
    "    dataset_directory, regime_dict, return_type, cvar_params\n",
    ")\n",
    "\n",
    "# Define directory for storing optimization data\n",
    "cuOpt_data_directory = \"cuopt_cvar\"\n",
    "folder_name = f\"{dataset_name}-{cvar_params.fit_type}\""
   ]
  },
  {
   "cell_type": "markdown",
   "id": "f5a71767",
   "metadata": {},
   "source": [
    "##### 3.3 Define Efficient Frontier Parameters\n",
    "The Efficient Frontier (EF) represents optimal portfolios balancing risk and return.\n",
    "\n",
    "**Parameters to construct efficient frontier**\n",
    "- `device`: Run optimization on CPU or GPU\n",
    "- `key_portfolios`: Type of the returns, e.g., 'LOG' for log-returns (used for equities, FX, ...)\n",
    "- `verbose`: Whether to display annotations\n",
    "- `custom_portfolios_dict` (optional): Custom portfolios to display on EF plot. Input as a dictionary\n",
    "- `title`: Title of the efficient frontier plot. Will use the default title if not provided \n",
    "- `EF_plot_png_name`: The directory to save the EF plot\n",
    "- `show_plot`: Display the EF plot\n",
    "- `min_risk_aversion`: the lower bound for the risk aversion parameter, expressed as the exponent (power of 10) \n",
    "- `max_risk_aversion`: the upper bound for the risk aversion parameter, expressed as the exponent (power of 10) \n",
    "-  `ra_num`: number of risk_aversion values in logspace to solve the problem with\n"
   ]
  },
  {
   "cell_type": "code",
   "execution_count": 10,
   "id": "b2a3d033",
   "metadata": {},
   "outputs": [],
   "source": [
    "# We define a custom portfolio in this example\n",
    "custom_portfolios_dict = {\n",
    "    \"NVDA-AMZN portfolio\": ({\"NVDA\": 0.72, \"AMZN\": 0.18}, 0.1),\n",
    "    \"AAPL-MSFT portfolio\": ({\"AAPL\": 0.29, \"NKE\": 0.01, \"MSFT\": 0.6}, 0.1),\n",
    "}\n",
    "\n",
    "# Set Efficient Frontier plot parameters\n",
    "title = \"EF Plot -\" + dataset_name\n",
    "\n",
    "# Create directory for results\n",
    "EF_folder_name = \"EF_results\"\n",
    "os.makedirs(EF_folder_name, exist_ok=True)\n",
    "\n",
    "EF_result_csv_name = EF_folder_name + \"/EF_results.csv\"\n",
    "EF_plot_png_name = EF_folder_name + \"/EF_plot.png\"\n",
    "\n",
    "# Define risk aversion range\n",
    "min_risk_aversion = (-3)  # loop through different levels of risk aversion, starting with 1e-3 (corresponds to high risk appetite)\n",
    "max_risk_aversion = 1     # up to 1e1 = 10, corresponds to risk-averse behavior\n",
    "ra_num = 30               # Number of risk aversion levels to loop through; the higher the number, the smoother the efficient frontier"
   ]
  },
  {
   "cell_type": "markdown",
   "id": "16366826",
   "metadata": {},
   "source": [
    "##### 3.4 Run Efficient Frontier Calculation (This will take some time to run)"
   ]
  },
  {
   "cell_type": "code",
   "execution_count": 11,
   "id": "10fe65cd",
   "metadata": {},
   "outputs": [
    {
     "data": {
      "image/png": "[encoded data removed]",
      "text/plain": [
       "<Figure size 1000x700 with 1 Axes>"
      ]
     },
     "metadata": {},
     "output_type": "display_data"
    }
   ],
   "source": [
    "result_dataframe = cvar_utils.generate_efficient_frontier(\n",
    "    returns_dict,\n",
    "    cvar_params,\n",
    "    device=\"GPU\",\n",
    "    opt_result_verbose=False,\n",
    "    folder_name=None,\n",
    "    custom_portfolios_dict=custom_portfolios_dict,\n",
    "    title=title,\n",
    "    EF_result_csv_name=EF_result_csv_name,\n",
    "    EF_plot_png_name=EF_plot_png_name,\n",
    "    show_plot=True,\n",
    "    min_risk_aversion=min_risk_aversion,\n",
    "    max_risk_aversion=max_risk_aversion,\n",
    "    ra_num=ra_num,\n",
    ")"
   ]
  },
  {
   "cell_type": "markdown",
   "id": "b4748d24",
   "metadata": {},
   "source": [
    "#### **4. Comparing CPU and GPU Optimization Across Market Regimes** \n",
    "\n",
    "This section compares portfolio optimization results across **different market regimes** using **CPU and GPU**. Run with `device=\"BOTH\"` to compare CPU and GPU performance.  "
   ]
  },
  {
   "cell_type": "code",
   "execution_count": 12,
   "id": "092d46b2",
   "metadata": {},
   "outputs": [
    {
     "name": "stdout",
     "output_type": "stream",
     "text": [
      "========================================\n",
      "Solver: CLARABEL\n",
      "*************************\n",
      "--- CPU CVaR Results---\n",
      "pre_crisis: ('2005-01-01', '2007-10-01')\n",
      "Scenarios: 10000\n",
      "solver time: 123.6051 seconds\n",
      "--- Optimal Portfolio ---\n",
      "Long--AAPL: 0.249\n",
      "Short--AXON: -0.013\n",
      "Short--BSX: -0.056\n",
      "Long--DLR: 0.067\n",
      "Long--HOLX: 0.151\n",
      "Long--ILMN: 0.225\n",
      "Long--ISRG: 0.072\n",
      "Short--JCI: -0.15\n",
      "Short--LEN: -0.161\n",
      "Long--MNST: 0.367\n",
      "Long--NDAQ: 0.021\n",
      "Long--NVDA: 0.022\n",
      "Long--SBAC: 0.045\n",
      "cash: 0.16\n",
      "*************************\n",
      "\n",
      "*************************\n",
      "--- GPU CVaR Results---\n",
      "pre_crisis: ('2005-01-01', '2007-10-01')\n",
      "Scenarios: 10000\n",
      "solver time: 0.9460 seconds\n",
      "IO time: 4.1884 seconds\n",
      "--- Optimal Portfolio ---\n",
      "Long--AAPL: 0.224\n",
      "Short--AXON: -0.018\n",
      "Long--BKNG: 0.016\n",
      "Short--BSX: -0.063\n",
      "Short--DHI: -0.018\n",
      "Long--DLR: 0.058\n",
      "Long--HOLX: 0.129\n",
      "Long--ILMN: 0.2\n",
      "Long--ISRG: 0.129\n",
      "Short--JCI: -0.155\n",
      "Short--LEN: -0.113\n",
      "Long--MNST: 0.363\n",
      "Long--NDAQ: 0.012\n",
      "Long--NVDA: 0.033\n",
      "Short--PHM: -0.024\n",
      "Long--SBAC: 0.029\n",
      "Long--VRTX: 0.015\n",
      "cash: 0.185\n",
      "*************************\n",
      "\n",
      "========================================\n",
      "Solver: CLARABEL\n",
      "*************************\n",
      "--- CPU CVaR Results---\n",
      "crisis: ('2007-10-01', '2009-04-01')\n",
      "Scenarios: 10000\n",
      "solver time: 121.9998 seconds\n",
      "--- Optimal Portfolio ---\n",
      "Short--AIG: -0.1\n",
      "Long--AZO: 0.38\n",
      "Short--CBRE: -0.022\n",
      "Long--EW: 0.434\n",
      "Long--ILMN: 0.042\n",
      "Long--JPM: 0.028\n",
      "Short--KIM: -0.042\n",
      "Short--LVS: -0.007\n",
      "Short--MGM: -0.264\n",
      "Long--NFLX: 0.129\n",
      "Long--OXY: 0.027\n",
      "Short--PFG: -0.04\n",
      "Long--ROST: 0.06\n",
      "Short--URI: -0.024\n",
      "cash: 0.4\n",
      "*************************\n",
      "\n",
      "*************************\n",
      "--- GPU CVaR Results---\n",
      "crisis: ('2007-10-01', '2009-04-01')\n",
      "Scenarios: 10000\n",
      "solver time: 1.6620 seconds\n",
      "IO time: 4.4824 seconds\n",
      "--- Optimal Portfolio ---\n",
      "Short--AIG: -0.097\n",
      "Long--AZO: 0.313\n",
      "Short--CBRE: -0.032\n",
      "Long--EW: 0.399\n",
      "Long--HES: 0.006\n",
      "Short--HST: -0.042\n",
      "Long--ILMN: 0.082\n",
      "Long--JPM: 0.02\n",
      "Short--KIM: -0.008\n",
      "Short--LVS: -0.006\n",
      "Short--MGM: -0.256\n",
      "Long--NFLX: 0.151\n",
      "Long--OXY: 0.006\n",
      "Short--PFG: -0.027\n",
      "Long--ROST: 0.122\n",
      "Short--URI: -0.031\n",
      "cash: 0.4\n",
      "*************************\n",
      "\n"
     ]
    }
   ],
   "source": [
    "dataset_name_regimes = \"sp500\"\n",
    "dataset_directory_regimes = f\"../data/stock_data/{dataset_name_regimes}.csv\"\n",
    "return_type = \"LOG\"\n",
    "\n",
    "\"\"\"\n",
    "# If you want to analyze different market conditions, you can use the following predefined periods:\n",
    "scenarios = {\n",
    "    'pre_crisis': ('2005-01-01', '2007-10-01'),\n",
    "    'crisis': ('2007-10-01', '2009-04-01'),\n",
    "    'post_crisis': ('2009-06-30', '2014-06-30'),\n",
    "    'oil_price_crash': ('2014-06-01', '2016-03-01'),\n",
    "    'FAANG_surge': ('2015-01-01', '2021-01-01'),\n",
    "    'covid': ('2020-01-01', '2023-01-01'),\n",
    "    'recent': ('2022-01-01', '2024-07-01')\n",
    "}\n",
    "\"\"\"\n",
    "# Define historical market regimes\n",
    "sp500_regime_dict = {\n",
    "    \"pre_crisis\": (\"2005-01-01\", \"2007-10-01\"),\n",
    "    \"crisis\": (\"2007-10-01\", \"2009-04-01\")\n",
    "}\n",
    "\n",
    "cvar_params_regimes = cvar_optimizer.CVaR_Parameters(\n",
    "    w_min=-0.3,\n",
    "    w_max=0.8,\n",
    "    c_min=0.1,\n",
    "    c_max=0.4,\n",
    "    L_tar=1.6,\n",
    "    T_tar=None,\n",
    "    cvar_limit=0.04,\n",
    "    risk_aversion=0.3,\n",
    "    confidence=0.95,\n",
    "    num_scen=10000,\n",
    "    fit_type=\"kde\",\n",
    ")\n",
    "\n",
    "# create the folder to save the results if non-existent\n",
    "regimes_folder_name = \"regime_results\"\n",
    "os.makedirs(regimes_folder_name, exist_ok=True)\n",
    "\n",
    "# Run both CPU and GPU (with 10k scenarios, about 2-3 mins/regime)\n",
    "both_results_csv = (\n",
    "    regimes_folder_name\n",
    "    + f\"/both_results_{dataset_name_regimes}_{cvar_params_regimes.num_scen}.csv\"\n",
    ")\n",
    "\n",
    "# CPU settings\n",
    "cpu_settings = {\"solver\": cp.CLARABEL, \"verbose\": False}\n",
    "# cuOpt Settings\n",
    "gpu_settings = solver_settings.SolverSettings()\n",
    "gpu_settings.set_solver_mode(1)\n",
    "gpu_settings.set_infeasibility_detection(False)\n",
    "gpu_settings.set_optimality_tolerance(1e-4)\n",
    "gpu_settings.set_iteration_limit(1000)\n",
    "gpu_settings.set_time_limit(10)\n",
    "\n",
    "# Run the optimization across all defined regimes on both CPU and GPU for performance comparison.\n",
    "both_results = cvar_utils.optimize_market_regimes(\n",
    "    input_file_name=dataset_directory_regimes,\n",
    "    return_type=return_type,\n",
    "    all_regimes=sp500_regime_dict,\n",
    "    device=\"BOTH\",\n",
    "    cpu_settings=cpu_settings,\n",
    "    gpu_settings=gpu_settings,\n",
    "    problem_from_folder=None,\n",
    "    cvar_params=cvar_params_regimes,\n",
    "    results_csv_file_name=both_results_csv,\n",
    ")"
   ]
  },
  {
   "cell_type": "code",
   "execution_count": null,
   "id": "5040e5e1",
   "metadata": {},
   "outputs": [],
   "source": [
    "SPDX-FileCopyrightText: Copyright (c) 2025 NVIDIA CORPORATION & AFFILIATES. All rights reserved.\n",
    "SPDX-License-Identifier: MIT\n",
    "Permission is hereby granted, free of charge, to any person obtaining a copy of this software and associated documentation files (the \"Software\"), to deal in the Software without restriction, including without limitation the rights to use, copy, modify, merge, publish, distribute, sublicense, and/or sell copies of the Software, and to permit persons to whom the Software is furnished to do so, subject to the following conditions: The above copyright notice and this permission notice shall be included in all copies or substantial portions of the Software.\n",
    "\n",
    "THE SOFTWARE IS PROVIDED \"AS IS\", WITHOUT WARRANTY OF ANY KIND, EXPRESS OR IMPLIED, INCLUDING BUT NOT LIMITED TO THE WARRANTIES OF MERCHANTABILITY, FITNESS FOR A PARTICULAR PURPOSE AND NONINFRINGEMENT. IN NO EVENT SHALL THE AUTHORS OR COPYRIGHT HOLDERS BE LIABLE FOR ANY CLAIM, DAMAGES OR OTHER LIABILITY, WHETHER IN AN ACTION OF CONTRACT, TORT OR OTHERWISE, ARISING FROM, OUT OF OR IN CONNECTION WITH THE SOFTWARE OR THE USE OR OTHER DEALINGS IN THE SOFTWARE."
   ]
  }
 ],
 "metadata": {
  "kernelspec": {
   "display_name": "Python 3 (ipykernel)",
   "language": "python",
   "name": "python3"
  },
  "language_info": {
   "codemirror_mode": {
    "name": "ipython",
    "version": 3
   },
   "file_extension": ".py",
   "mimetype": "text/x-python",
   "name": "python",
   "nbconvert_exporter": "python",
   "pygments_lexer": "ipython3",
   "version": "3.10.12"
  }
 },
 "nbformat": 4,
 "nbformat_minor": 5
}
