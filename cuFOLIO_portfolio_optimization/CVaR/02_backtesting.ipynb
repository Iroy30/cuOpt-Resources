{
 "cells": [
  {
   "cell_type": "markdown",
   "id": "8aafb38e",
   "metadata": {},
   "source": [
    "### **Backtesting**\n",
    "\n",
    "This tutorial demonstrates how to backtest an optimized portfolio.\n",
    "\n",
    "### **Introduction**\n",
    "\n",
    "This tutorial guides you through the process of evaluating a portfolio's performance using backtesting techniques. We will analyze historical stock data, compute returns, and assess performance using different backtesting methods. The goal is to understand how a given portfolio would have performed under past market conditions and compare it with benchmarks.\n",
    "\n",
    "By the end of this tutorial, you will be able to:\n",
    "- Define and apply a **backtesting methodology**.\n",
    "- Evaluate portfolio performance against **benchmarks**.\n",
    "- Visualize the **backtest results**.\n"
   ]
  },
  {
   "cell_type": "markdown",
   "id": "c7c6f96d",
   "metadata": {},
   "source": [
    "#### **Importing Required Libraries**\n",
    "\n",
    "Before diving into portfolio optimization, we need to import the necessary libraries for optimization, data handling, visualization, and backtesting."
   ]
  },
  {
   "cell_type": "code",
   "execution_count": 1,
   "id": "fc636863",
   "metadata": {},
   "outputs": [],
   "source": [
    "import warnings\n",
    "warnings.filterwarnings(\"ignore\")\n",
    "\n",
    "# Import modules from cuFOLIO\n",
    "from cufolio import backtest, cvar_optimizer, cvar_utils, utils\n",
    "\n",
    "# Solver settings for cuOpt integration\n",
    "import solver_settings"
   ]
  },
  {
   "cell_type": "markdown",
   "id": "59111043",
   "metadata": {},
   "source": [
    "#### **1. Problem Setup** "
   ]
  },
  {
   "cell_type": "code",
   "execution_count": 2,
   "id": "47bd5d24",
   "metadata": {},
   "outputs": [],
   "source": [
    "# Define CVaR optimization parameters\n",
    "cvar_params = cvar_optimizer.CVaR_Parameters(\n",
    "    w_min=-0.3,          # Minimum asset weight allocation\n",
    "    w_max=0.8,           # Maximum asset weight allocation\n",
    "    c_min=0.1,           # Minimum cash holdings\n",
    "    c_max=0.4,           # Maximum cash holdings\n",
    "    L_tar=1.6,           # Leverage constraint (total long/short weight change)\n",
    "    T_tar=None,          # Turnover constraint (limits portfolio deviation from an existing allocation)\n",
    "    cvar_limit=0.1,      # Maximum allowed Conditional Value-at-Risk (CVaR)\n",
    "    risk_aversion=0.5,   # Change to risk aversion levels (0 = maximize return subject to risk constraints)\n",
    "    confidence=0.95,     # Confidence level for CVaR calculation\n",
    "    num_scen=10000,      # Number of return scenarios to simulate\n",
    "    fit_type=\"kde\",      # Return distribution estimation method ('kde' for kernel density estimation, 'no_fit' for historical returns)\n",
    ")\n",
    "\n",
    "# Select dataset and regime information\n",
    "dataset_name = \"sp500\"\n",
    "dataset_directory = f\"../data/stock_data/{dataset_name}.csv\"\n",
    "\n",
    "# Define return type and regime period\n",
    "\"\"\"\n",
    "# If you want to analyze different market conditions, you can use the following predefined periods:\n",
    "scenarios = {\n",
    "    'pre_crisis': ('2005-01-01', '2007-10-01'),\n",
    "    'crisis': ('2007-10-01', '2009-04-01'),\n",
    "    'post_crisis': ('2009-06-30', '2014-06-30'),\n",
    "    'oil_price_crash': ('2014-06-01', '2016-03-01'),\n",
    "    'FAANG_surge': ('2015-01-01', '2021-01-01'),\n",
    "    'covid': ('2020-01-01', '2023-01-01'),\n",
    "    'recent': ('2022-01-01', '2024-07-01')\n",
    "}\n",
    "\"\"\"\n",
    "return_type = \"LOG\"\n",
    "in_sample_start_date = \"2022-01-04\"\n",
    "in_sample_end_date = \"2024-01-01\"\n",
    "regime_dict = {\"name\": \"recent\", \"range\": (in_sample_start_date, in_sample_end_date)}\n",
    "\n",
    "# Compute returns dictionary (set device for KDE computation)\n",
    "returns_dict = cvar_utils.calculate_returns(\n",
    "    dataset_directory, regime_dict, return_type, cvar_params, device=\"GPU\"\n",
    ")\n",
    "\n",
    "# Instantiate CVaR optimization problem\n",
    "example_cvar_problem = cvar_optimizer.CVaR(\n",
    "    returns_dict=returns_dict, cvar_params=cvar_params\n",
    ")"
   ]
  },
  {
   "cell_type": "markdown",
   "id": "0cf5827a",
   "metadata": {},
   "source": [
    "#### **2. Solve the Optimization Problem on GPU**"
   ]
  },
  {
   "cell_type": "code",
   "execution_count": 3,
   "id": "c90a4739",
   "metadata": {},
   "outputs": [
    {
     "name": "stdout",
     "output_type": "stream",
     "text": [
      "*************************\n",
      "--- GPU CVaR Results---\n",
      "recent: ('2022-01-04', '2024-01-01')\n",
      "Scenarios: 10000\n",
      "solver time: 1.0400 seconds\n",
      "IO time: 4.0476 seconds\n",
      "--- Optimal Portfolio ---\n",
      "Long--CAH: 0.119\n",
      "Short--EL: -0.085\n",
      "Long--FICO: 0.526\n",
      "Short--ILMN: -0.115\n",
      "Long--JBL: 0.073\n",
      "Long--LLY: 0.375\n",
      "Short--MTCH: -0.3\n",
      "Long--PHM: 0.007\n",
      "cash: 0.4\n",
      "*************************\n",
      "\n"
     ]
    }
   ],
   "source": [
    "# Initialize solver settings\n",
    "gpu_settings = solver_settings.SolverSettings()\n",
    "gpu_settings.set_solver_mode(0)                  # Set solver mode (0: default, 1: legacy, 2: advanced hyper-parameter configurations)\n",
    "gpu_settings.set_infeasibility_detection(False)  # Disable infeasibility detection\n",
    "gpu_settings.set_optimality_tolerance(1e-4)      # Define optimality tolerance (default: 1e-4)\n",
    "gpu_settings.set_iteration_limit(1000)           # Set iteration limit to control convergence\n",
    "gpu_settings.set_time_limit(10)                  # Set time limit for the solver to 10 seconds\n",
    "\n",
    "# set network settings for cuopt server, if needed\n",
    "network_settings = {\"port\": 5000, \"ip\": \"cuopt\"}\n",
    "\n",
    "# Solve the optimization problem using the configured GPU solver settings\n",
    "gpu_result, gpu_portfolio = example_cvar_problem.solve_optimization_problem(\n",
    "    device=\"GPU\", gpu_settings=gpu_settings, network_settings=network_settings\n",
    ")"
   ]
  },
  {
   "cell_type": "markdown",
   "id": "444c96b7",
   "metadata": {},
   "source": [
    "#### **3. Run Backtest**\n",
    "\n",
    "This section evaluates the performance of a given portfolio over a specified time period using different backtesting methods.\n",
    "\n",
    "**Parameters:**\n",
    "- **`test_portfolio`**: A `Portfolio` class object representing the portfolio to be tested.\n",
    "- **`test_returns_dict`**: A dictionary containing returns data for the specified test period.\n",
    "- **`risk_free`**: The risk-free rate used for cash.\n",
    "- **`test_method`**: The method used for testing, which can be:\n",
    "  - `'historical'` – Uses historical market data.\n",
    "  - `'kde-simulation'` – Applies kernel density estimation for return simulation.\n",
    "  - `'gaussian-simulation'` – Uses a Gaussian distribution to model returns.\n",
    "- **`benchmark_portfolios`**: Benchmark portfolios for comparison. This can be provided as a DataFrame or a user-defined dictionary.\n",
    "\n",
    "##### **3.1 Constructing the Test Returns Dictionary**\n",
    "\n",
    "We need to first set up the test dataset and computes log returns for a specified time range.\n",
    "\n",
    "**Steps:**\n",
    "1. Define the dataset name and directory.\n",
    "2. Specify the return calculation type (`LOG` returns).\n",
    "3. Set the testing time range (`test_regime_dict`).\n",
    "4. Compute returns using `cvar_utils.calculate_returns()`.\n"
   ]
  },
  {
   "cell_type": "code",
   "execution_count": 4,
   "id": "7b20f597",
   "metadata": {},
   "outputs": [],
   "source": [
    "# Define the test regime with a specified time range\n",
    "out_of_sample_end_date = \"2024-07-01\"\n",
    "test_regime_dict = {\n",
    "    \"name\": \"recent\",\n",
    "    \"range\": (in_sample_start_date, out_of_sample_end_date),\n",
    "}\n",
    "\n",
    "# Compute test returns dictionary using the specified parameters\n",
    "test_returns_dict = cvar_utils.calculate_returns(\n",
    "    dataset_directory, test_regime_dict, return_type, cvar_params\n",
    ")\n",
    "\n",
    "# Define the backtesting method (Options: 'historical', 'kde-simulation', 'gaussian-simulation')\n",
    "test_method = \"historical\"\n",
    "\n",
    "# Set the risk-free rate (assumed to be zero for cash holdings)\n",
    "risk_free = 0.0"
   ]
  },
  {
   "cell_type": "markdown",
   "id": "5d7c1e23",
   "metadata": {},
   "source": [
    "**(Optional) Creating Benchmark Portfolios**\n",
    "\n",
    "Users can define custom benchmark portfolios as a dictionary, where:\n",
    "- Each portfolio consists of asset allocations (weights) and a risk parameter.\n",
    "- The function `cvar_utils.generate_user_input_portfolios()` converts the dictionary into a usable format for comparison.\n",
    "\n",
    "Example:\n",
    "- `NVDA-JPM`: 72% NVIDIA, 18% JPMorgan, 10% cash.\n",
    "- `AAPL-MSFT`: 29% Apple, 61% Microsoft, 10% cash.\n",
    "- `NKE-MCD`: 65% McDonald's, 25% Nike, 10% cash.\n",
    "\n",
    "To use, uncomment the code below. You are also welcome to define your own portfolio following the same format as the examples. \n"
   ]
  },
  {
   "cell_type": "code",
   "execution_count": 5,
   "id": "a0cff4e8",
   "metadata": {},
   "outputs": [],
   "source": [
    "# Example: Define user-input benchmark portfolios\n",
    "# portfolios_dict = {\n",
    "#     'NVDA-JPM': ({'NVDA': 0.72, 'JPM': 0.18}, 0.1),\n",
    "#     'AAPL-MSFT': ({'AAPL': 0.29, 'MSFT': 0.61}, 0.1),\n",
    "#     'NKE-MCD': ({'MCD': 0.65, 'NKE': 0.25}, 0.1)\n",
    "# }\n",
    "\n",
    "# Convert user-defined portfolios into benchmark portfolios\n",
    "# benchmark_portfolios = cvar_utils.generate_user_input_portfolios(portfolios_dict, test_returns_dict)"
   ]
  },
  {
   "cell_type": "markdown",
   "id": "3df38a6e",
   "metadata": {},
   "source": [
    "##### **3.2 Running the Portfolio Backtest**\n",
    "\n",
    "This section initializes and runs the portfolio backtester to evaluate the portfolio's performance over the specified time period. The backtesting method used is defined earlier (`historical`, `kde-simulation`, or `gaussian-simulation`), and the results can be compared against benchmark portfolios if provided.\n",
    "\n",
    "**Steps:**\n",
    "1. Set the **cut-off date** for backtesting.\n",
    "2. Initialize the `portfolio_backtester` with:\n",
    "   - The test portfolio (`gpu_portfolio`).\n",
    "   - Computed returns (`test_returns_dict`).\n",
    "   - The assumed **risk-free rate** (`risk_free`).\n",
    "   - The selected **backtesting method** (`test_method`).\n",
    "   - Optional **benchmark portfolios** (set to `None` by default).\n",
    "3. Run the backtest and retrieve the results.\n"
   ]
  },
  {
   "cell_type": "code",
   "execution_count": 6,
   "id": "2884a488",
   "metadata": {},
   "outputs": [
    {
     "data": {
      "text/html": [
       "<div>\n",
       "<style scoped>\n",
       "    .dataframe tbody tr th:only-of-type {\n",
       "        vertical-align: middle;\n",
       "    }\n",
       "\n",
       "    .dataframe tbody tr th {\n",
       "        vertical-align: top;\n",
       "    }\n",
       "\n",
       "    .dataframe thead th {\n",
       "        text-align: right;\n",
       "    }\n",
       "</style>\n",
       "<table border=\"1\" class=\"dataframe\">\n",
       "  <thead>\n",
       "    <tr style=\"text-align: right;\">\n",
       "      <th></th>\n",
       "      <th>returns</th>\n",
       "      <th>cumulative returns</th>\n",
       "      <th>mean portfolio return</th>\n",
       "      <th>sharpe</th>\n",
       "      <th>sortino</th>\n",
       "      <th>max drawdown</th>\n",
       "    </tr>\n",
       "    <tr>\n",
       "      <th>portfolio name</th>\n",
       "      <th></th>\n",
       "      <th></th>\n",
       "      <th></th>\n",
       "      <th></th>\n",
       "      <th></th>\n",
       "      <th></th>\n",
       "    </tr>\n",
       "  </thead>\n",
       "  <tbody>\n",
       "    <tr>\n",
       "      <th>GPU_optimal</th>\n",
       "      <td>[-0.010312766143715003, 0.013140583341789414, ...</td>\n",
       "      <td>[0.9897402281001869, 1.0028318192445902, 1.006...</td>\n",
       "      <td>0.002877</td>\n",
       "      <td>2.915102</td>\n",
       "      <td>5.288617</td>\n",
       "      <td>0.110666</td>\n",
       "    </tr>\n",
       "    <tr>\n",
       "      <th>equal-weight</th>\n",
       "      <td>[-0.00890644828151314, 0.0007397801512687985, ...</td>\n",
       "      <td>[0.991133096640298, 0.9918665885103696, 0.9900...</td>\n",
       "      <td>0.000014</td>\n",
       "      <td>0.033667</td>\n",
       "      <td>0.05091</td>\n",
       "      <td>0.130163</td>\n",
       "    </tr>\n",
       "  </tbody>\n",
       "</table>\n",
       "</div>"
      ],
      "text/plain": [
       "                                                          returns  \\\n",
       "portfolio name                                                      \n",
       "GPU_optimal     [-0.010312766143715003, 0.013140583341789414, ...   \n",
       "equal-weight    [-0.00890644828151314, 0.0007397801512687985, ...   \n",
       "\n",
       "                                               cumulative returns  \\\n",
       "portfolio name                                                      \n",
       "GPU_optimal     [0.9897402281001869, 1.0028318192445902, 1.006...   \n",
       "equal-weight    [0.991133096640298, 0.9918665885103696, 0.9900...   \n",
       "\n",
       "               mean portfolio return    sharpe   sortino max drawdown  \n",
       "portfolio name                                                         \n",
       "GPU_optimal                 0.002877  2.915102  5.288617     0.110666  \n",
       "equal-weight                0.000014  0.033667   0.05091     0.130163  "
      ]
     },
     "execution_count": 6,
     "metadata": {},
     "output_type": "execute_result"
    }
   ],
   "source": [
    "# Define the cut-off date for backtesting\n",
    "cut_off_date = in_sample_end_date\n",
    "\n",
    "# Initialize the portfolio backtester with the given parameters\n",
    "backtester = backtest.portfolio_backtester(\n",
    "    gpu_portfolio,\n",
    "    test_returns_dict,\n",
    "    risk_free,\n",
    "    test_method,\n",
    "    benchmark_portfolios=None,  # No benchmark portfolios provided in this example\n",
    ")\n",
    "\n",
    "# Run the backtest against benchmarks (if any) and retrieve results\n",
    "backtest_result, _ = backtester.backtest_against_benchmarks(\n",
    "    plot_returns=False, cut_off_date=cut_off_date\n",
    ")\n",
    "\n",
    "# Display backtesting results\n",
    "backtest_result"
   ]
  },
  {
   "cell_type": "markdown",
   "id": "4fead5d7",
   "metadata": {},
   "source": [
    "##### **3.3 Visualizing Backtest Results**\n",
    "\n",
    "This section generates a performance plot for the tested portfolio using the backtest results. The visualization helps assess how the portfolio performed over the specified period.\n",
    "\n",
    "### Steps:\n",
    "1. Use `portfolio_plot_with_backtest()` to plot portfolio performance.\n",
    "2. Provide the **portfolio** (`gpu_portfolio`).\n",
    "3. Use the initialized **backtester** (`backtester`) to retrieve backtest data.\n",
    "4. Set the **cut-off date** (`cut_off_date`) to specify the boundary between in-sample and out-of-sample testing: data from the start date up to the cut-off is used to optimize the portfolio, and data beyond the cut-off is used for backtesting and rolling the portfolio forward.\n",
    "5. Assign a **title** (`Backtest Results`) for the plot.\n"
   ]
  },
  {
   "cell_type": "code",
   "execution_count": 7,
   "id": "a70a4615",
   "metadata": {},
   "outputs": [
    {
     "data": {
      "image/png": "[encoded data removed]",
      "text/plain": [
       "<Figure size 1000x500 with 2 Axes>"
      ]
     },
     "metadata": {},
     "output_type": "display_data"
    }
   ],
   "source": [
    "# Generate and display the backtest performance plot\n",
    "utils.portfolio_plot_with_backtest(\n",
    "    portfolio=gpu_portfolio,\n",
    "    backtester=backtester,\n",
    "    cut_off_date=cut_off_date,\n",
    "    backtest_plot_title=\"Backtest Results\",\n",
    ")"
   ]
  },
  {
   "cell_type": "code",
   "execution_count": null,
   "id": "2da547ac",
   "metadata": {},
   "outputs": [],
   "source": [
    "SPDX-FileCopyrightText: Copyright (c) 2025 NVIDIA CORPORATION & AFFILIATES. All rights reserved.\n",
    "SPDX-License-Identifier: MIT\n",
    "Permission is hereby granted, free of charge, to any person obtaining a copy of this software and associated documentation files (the \"Software\"), to deal in the Software without restriction, including without limitation the rights to use, copy, modify, merge, publish, distribute, sublicense, and/or sell copies of the Software, and to permit persons to whom the Software is furnished to do so, subject to the following conditions: The above copyright notice and this permission notice shall be included in all copies or substantial portions of the Software.\n",
    "\n",
    "THE SOFTWARE IS PROVIDED \"AS IS\", WITHOUT WARRANTY OF ANY KIND, EXPRESS OR IMPLIED, INCLUDING BUT NOT LIMITED TO THE WARRANTIES OF MERCHANTABILITY, FITNESS FOR A PARTICULAR PURPOSE AND NONINFRINGEMENT. IN NO EVENT SHALL THE AUTHORS OR COPYRIGHT HOLDERS BE LIABLE FOR ANY CLAIM, DAMAGES OR OTHER LIABILITY, WHETHER IN AN ACTION OF CONTRACT, TORT OR OTHERWISE, ARISING FROM, OUT OF OR IN CONNECTION WITH THE SOFTWARE OR THE USE OR OTHER DEALINGS IN THE SOFTWARE."
   ]
  }
 ],
 "metadata": {
  "kernelspec": {
   "display_name": "Python 3 (ipykernel)",
   "language": "python",
   "name": "python3"
  },
  "language_info": {
   "codemirror_mode": {
    "name": "ipython",
    "version": 3
   },
   "file_extension": ".py",
   "mimetype": "text/x-python",
   "name": "python",
   "nbconvert_exporter": "python",
   "pygments_lexer": "ipython3",
   "version": "3.10.12"
  }
 },
 "nbformat": 4,
 "nbformat_minor": 5
}
