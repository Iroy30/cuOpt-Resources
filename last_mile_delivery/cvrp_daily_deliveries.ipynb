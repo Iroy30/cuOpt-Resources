{
 "cells": [
  {
   "cell_type": "code",
   "execution_count": 1,
   "id": "installation-cell",
   "metadata": {},
   "outputs": [],
   "source": [
    "# Install dependencies\n",
    "!pip install -q -r requirements.txt"
   ]
  },
  {
   "cell_type": "code",
   "execution_count": 2,
   "id": "import-cell",
   "metadata": {},
   "outputs": [],
   "source": [
    "import os\n",
    "import pandas as pd\n",
    "import numpy as np\n",
    "import cudf\n",
    "import notebook_utils.notebook_helpers as utils\n",
    "from cuopt import routing"
   ]
  },
  {
   "cell_type": "markdown",
   "id": "title-cell",
   "metadata": {},
   "source": [
    "# Daily Deliveries\n",
    "## Capacitated Vehicle Routing Problem (CVRP)"
   ]
  },
  {
   "cell_type": "markdown",
   "id": "intro-cell",
   "metadata": {},
   "source": [
    "Micro fulfillment centers allow retailers to move predictable, high volume products closer to the end consumer allowing for lower costs and shorter overall delivery times.\n",
    "\n",
    "In this scenario we have a number of same-day delivery orders that we would like to process for a given area from a given micro fulfillment center. We have the requisite number of delivery vehicles and enough time to deliver all packages over the course of a single day. Each delivery vehicle has a maximum capacity of orders it can carry and we are looking for the route assignment that minimizes the total distance driven by all vehicles."
   ]
  },
  {
   "cell_type": "markdown",
   "id": "problem-details-cell",
   "metadata": {},
   "source": [
    "### Problem Details:\n",
    "- 8 Locations each with an associated demand\n",
    "    - 1 MFC \n",
    "        - demand: [0]\n",
    "    - 7 Delivery Locations\n",
    "        - demand: [4, 4, 2, 2, 1, 2, 1]\n",
    "    \n",
    "\n",
    "- 3 Delivery vehicles each with an associated capacity\n",
    "    - 2 trucks\n",
    "        - capacity: [8, 8]\n",
    "    - 1 van\n",
    "        - capacity: [4]\n",
    "        "
   ]
  },
  {
   "cell_type": "markdown",
   "id": "vis-intro-cell",
   "metadata": {},
   "source": [
    "Below we visualize the delivery locations with respect to the MFC. The cost from all locations to all other locations (a cost matrix) will be required for optimization. To see an example of cost matrix generation from map data or a waypoint graph, refer to the [cost_matrix_and_waypoint_graph_creation.ipynb](../intra-factory_transport/cost_matrix_and_waypoint_graph_creation.ipynb) notebook. For the purpose of this simple example we will omit the cost matrix calculation."
   ]
  },
  {
   "cell_type": "code",
   "execution_count": null,
   "id": "location-cell",
   "metadata": {},
   "outputs": [],
   "source": [
    "location_names       = [ \"MFC\",     \"A\",    \"B\",    \"C\",    \"D\",    \"E\",    \"F\",    \"G\"  ]\n",
    "location_coordinates = [ [4, 4],    [1, 3], [8, 1], [2, 1], [6, 7], [0, 2], [7, 6], [5, 3] ]\n",
    "location_coordinates_df = pd.DataFrame(location_coordinates, columns=['xcord', 'ycord'], index=location_names)\n",
    "utils.gen_plot(location_coordinates_df).show()"
   ]
  },
  {
   "cell_type": "markdown",
   "id": "cost-matrix-intro-cell",
   "metadata": {},
   "source": [
    "### Cost Matrix"
   ]
  },
  {
   "cell_type": "markdown",
   "id": "cost-matrix-description-cell",
   "metadata": {},
   "source": [
    "The cost matrix dictates the cost of travel between locations of interest. The cost itself can be anything relevant to the user. In this case we simply use distance as our cost.\n",
    "\n",
    "Here is the cost(distance) matrix corresponding to the above locations:"
   ]
  },
  {
   "cell_type": "code",
   "execution_count": null,
   "id": "cost-matrix-cell",
   "metadata": {},
   "outputs": [],
   "source": [
    "distance_matrix = [\n",
    "    [0.0, 3.1, 5.0, 3.6, 3.6, 4.5, 3.6, 1.4],\n",
    "    [3.1, 0.0, 7.3, 2.2, 6.4, 1.4, 6.7, 4.0],\n",
    "    [5.0, 7.3, 0.0, 6.0, 6.3, 8.1, 5.1, 3.6],\n",
    "    [3.6, 2.2, 6.0, 0.0, 7.2, 2.2, 7.1, 3.6],\n",
    "    [3.6, 6.4, 6.3, 7.2, 0.0, 7.8, 1.4, 4.1],\n",
    "    [4.5, 1.4, 8.1, 2.2, 7.8, 0.0, 8.1, 5.1],\n",
    "    [3.6, 6.7, 5.1, 7.1, 1.4, 8.1, 0.0, 3.6],\n",
    "    [1.4, 4.0, 3.6, 3.6, 4.1, 5.1, 3.6, 0.0]\n",
    "]\n",
    "\n",
    "# Convert to cudf DataFrame for cuOpt\n",
    "distance_matrix_df = cudf.DataFrame(np.array(distance_matrix).astype(np.float32))\n",
    "distance_matrix_df"
   ]
  },
  {
   "cell_type": "markdown",
   "id": "demand-capacity-intro-cell",
   "metadata": {},
   "source": [
    " ### Demand and Capacity"
   ]
  },
  {
   "cell_type": "markdown",
   "id": "demand-capacity-description-cell",
   "metadata": {},
   "source": [
    "Set up the demand for each location and the capacity for each vehicle"
   ]
  },
  {
   "cell_type": "code",
   "execution_count": 5,
   "id": "demand-capacity-cell",
   "metadata": {},
   "outputs": [],
   "source": [
    "# All locations including the MFC\n",
    "location_demand = cudf.Series([0, 4, 4, 2, 2, 1, 2, 1], dtype=np.int32)\n",
    "\n",
    "# Vehicle capacities\n",
    "vehicle_capacity = cudf.Series([8, 8, 4], dtype=np.int32)\n",
    "n_vehicles = len(vehicle_capacity)"
   ]
  },
  {
   "cell_type": "markdown",
   "id": "model-init-intro-cell",
   "metadata": {},
   "source": [
    "# Initialize cuOpt Problem Model"
   ]
  },
  {
   "cell_type": "code",
   "execution_count": 6,
   "id": "model-init-cell",
   "metadata": {
    "scrolled": true
   },
   "outputs": [],
   "source": [
    "# Create a routing model with 8 locations (including depot) and 3 vehicles\n",
    "n_locations = len(location_demand)\n",
    "data_model = routing.DataModel(n_locations, n_vehicles)"
   ]
  },
  {
   "cell_type": "markdown",
   "id": "cost-matrix-add-intro-cell",
   "metadata": {},
   "source": [
    "### Set Cost Matrix\n",
    "\n",
    "Add the cost matrix to the model"
   ]
  },
  {
   "cell_type": "code",
   "execution_count": 7,
   "id": "cost-matrix-add-cell",
   "metadata": {},
   "outputs": [],
   "source": [
    "# Add the distance matrix as our cost matrix\n",
    "data_model.add_cost_matrix(distance_matrix_df)"
   ]
  },
  {
   "cell_type": "markdown",
   "id": "demand-add-intro-cell",
   "metadata": {},
   "source": [
    "### Set Demand and Capacity\n",
    "\n",
    "Add demand and capacity data to the model"
   ]
  },
  {
   "cell_type": "code",
   "execution_count": 8,
   "id": "demand-add-cell",
   "metadata": {},
   "outputs": [],
   "source": [
    "# Add demand and capacity dimension\n",
    "data_model.add_capacity_dimension(\"demand\", location_demand, vehicle_capacity)"
   ]
  },
  {
   "cell_type": "markdown",
   "id": "vehicle-data-intro-cell",
   "metadata": {},
   "source": [
    "### Set Vehicle Data\n",
    "\n",
    "Set vehicle start locations (all at depot 0)"
   ]
  },
  {
   "cell_type": "code",
   "execution_count": 9,
   "id": "vehicle-data-cell",
   "metadata": {},
   "outputs": [],
   "source": [
    "# All vehicles start and end at the depot (location 0)\n",
    "veh_start_locations = cudf.Series([0, 0, 0])\n",
    "veh_end_locations = cudf.Series([0, 0, 0])\n",
    "data_model.set_vehicle_locations(veh_start_locations, veh_end_locations)"
   ]
  },
  {
   "cell_type": "markdown",
   "id": "solver-settings-intro-cell",
   "metadata": {},
   "source": [
    "### Set Solver Settings\n",
    "\n",
    "Configure the solver"
   ]
  },
  {
   "cell_type": "code",
   "execution_count": 10,
   "id": "solver-settings-cell",
   "metadata": {},
   "outputs": [],
   "source": [
    "# Create solver settings\n",
    "solver_settings = routing.SolverSettings()\n",
    "solver_settings.set_time_limit(5)"
   ]
  },
  {
   "cell_type": "markdown",
   "id": "solve-intro-cell",
   "metadata": {},
   "source": [
    "### Get Optimized Routes"
   ]
  },
  {
   "cell_type": "code",
   "execution_count": null,
   "id": "solve-cell",
   "metadata": {},
   "outputs": [],
   "source": [
    "# Solve the problem\n",
    "solution = routing.Solve(data_model, solver_settings)\n",
    "\n",
    "# Process returned data\n",
    "if solution.get_status() == 0:  # Success\n",
    "    print(\"Cost for the routing in distance: \", solution.get_total_objective())\n",
    "    print(\"Vehicle count to complete routing: \", solution.get_vehicle_count())\n",
    "    \n",
    "    # Get the routes\n",
    "    routes_df = solution.get_route()\n",
    "    \n",
    "    # Display the routes by vehicle\n",
    "    for vehicle_id in routes_df['truck_id'].unique().to_pandas():\n",
    "        vehicle_route = routes_df[routes_df['truck_id'] == vehicle_id]\n",
    "        route_locations = vehicle_route['route'].to_arrow().to_pylist()\n",
    "        route_names = [location_names[loc] for loc in route_locations]\n",
    "        print(f\"Vehicle {vehicle_id} route: {' → '.join(route_names)}\")\n",
    "else:\n",
    "    print(\"NVIDIA cuOpt Failed to find a feasible solution. Status:\", solution.get_status())"
   ]
  },
  {
   "cell_type": "code",
   "execution_count": null,
   "id": "visualize-cell",
   "metadata": {},
   "outputs": [],
   "source": [
    "# Display the routes visually\n",
    "vehicle_colors = [\"red\", \"green\", \"blue\"]\n",
    "utils.map_vehicle_routes(location_coordinates_df, solution, vehicle_colors).show()"
   ]
  },
  {
   "cell_type": "markdown",
   "id": "constraints-intro-cell",
   "metadata": {},
   "source": [
    "### Additional Constraints \n",
    "##### Minimum Vehicles"
   ]
  },
  {
   "cell_type": "markdown",
   "id": "constraints-description-cell",
   "metadata": {},
   "source": [
    "cuOpt has found a solution that does not require all available vehicles because the combined capacity of the two larger vehicles (16) is equal to total location demand (16).  In some cases, this is a great solution as it gives the option to save on the costs associated with additional vehicles.  In other cases there is value to assigning all available resources.  In the latter case we can require that cuOpt use all 3 available vehicles and re-solve the problem with this constraint."
   ]
  },
  {
   "cell_type": "markdown",
   "id": "min-vehicles-intro-cell",
   "metadata": {},
   "source": [
    "**Update the model with minimum vehicles constraint and re-optimize**"
   ]
  },
  {
   "cell_type": "code",
   "execution_count": 13,
   "id": "min-vehicles-cell",
   "metadata": {},
   "outputs": [],
   "source": [
    "# Set minimum vehicles constraint\n",
    "data_model.set_min_vehicles(n_vehicles)"
   ]
  },
  {
   "cell_type": "code",
   "execution_count": null,
   "id": "resolve-cell",
   "metadata": {},
   "outputs": [],
   "source": [
    "# Re-solve the problem\n",
    "solution = routing.Solve(data_model, solver_settings)\n",
    "\n",
    "# Process returned data\n",
    "if solution.get_status() == 0:  # Success\n",
    "    print(\"Cost for the routing in distance: \", solution.get_total_objective())\n",
    "    print(\"Vehicle count to complete routing: \", solution.get_vehicle_count())\n",
    "    \n",
    "    # Get the routes\n",
    "    routes_df = solution.get_route()\n",
    "    \n",
    "    # Display the routes by vehicle\n",
    "    for vehicle_id in routes_df['truck_id'].unique().to_pandas():\n",
    "        vehicle_route = routes_df[routes_df['truck_id'] == vehicle_id]\n",
    "        route_locations = vehicle_route['route'].to_arrow().to_pylist()\n",
    "        route_names = [location_names[loc] for loc in route_locations]\n",
    "        print(f\"Vehicle {vehicle_id} route: {' → '.join(route_names)}\")\n",
    "else:\n",
    "    print(\"NVIDIA cuOpt Failed to find a feasible solution. Status:\", solution.get_status())"
   ]
  },
  {
   "cell_type": "code",
   "execution_count": null,
   "id": "revisualize-cell",
   "metadata": {},
   "outputs": [],
   "source": [
    "# Display the updated routes visually\n",
    "utils.map_vehicle_routes(location_coordinates_df, solution, vehicle_colors).show()"
   ]
  },
  {
   "cell_type": "markdown",
   "id": "copyright-cell",
   "metadata": {},
   "source": [
    "\n",
    "SPDX-FileCopyrightText: Copyright (c) 2025 NVIDIA CORPORATION & AFFILIATES. All rights reserved.\n",
    "SPDX-License-Identifier: MIT\n",
    "Permission is hereby granted, free of charge, to any person obtaining a copy of this software and associated documentation files (the \"Software\"), to deal in the Software without restriction, including without limitation the rights to use, copy, modify, merge, publish, distribute, sublicense, and/or sell copies of the Software, and to permit persons to whom the Software is furnished to do so, subject to the following conditions: The above copyright notice and this permission notice shall be included in all copies or substantial portions of the Software.\n",
    "\n",
    "THE SOFTWARE IS PROVIDED \"AS IS\", WITHOUT WARRANTY OF ANY KIND, EXPRESS OR IMPLIED, INCLUDING BUT NOT LIMITED TO THE WARRANTIES OF MERCHANTABILITY, FITNESS FOR A PARTICULAR PURPOSE AND NONINFRINGEMENT. IN NO EVENT SHALL THE AUTHORS OR COPYRIGHT HOLDERS BE LIABLE FOR ANY CLAIM, DAMAGES OR OTHER LIABILITY, WHETHER IN AN ACTION OF CONTRACT, TORT OR OTHERWISE, ARISING FROM, OUT OF OR IN CONNECTION WITH THE SOFTWARE OR THE USE OR OTHER DEALINGS IN THE SOFTWARE."
   ]
  }
 ],
 "metadata": {
  "kernelspec": {
   "display_name": "cuopt_12_8",
   "language": "python",
   "name": "python3"
  },
  "language_info": {
   "codemirror_mode": {
    "name": "ipython",
    "version": 3
   },
   "file_extension": ".py",
   "mimetype": "text/x-python",
   "name": "python",
   "nbconvert_exporter": "python",
   "pygments_lexer": "ipython3",
   "version": "3.12.10"
  }
 },
 "nbformat": 4,
 "nbformat_minor": 5
}
