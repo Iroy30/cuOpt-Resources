{
 "cells": [
  {
   "cell_type": "code",
   "execution_count": 16,
   "id": "afc57ab3",
   "metadata": {},
   "outputs": [],
   "source": [
    "# Install dependencies\n",
    "!pip install -q -r requirements.txt"
   ]
  },
  {
   "cell_type": "code",
   "execution_count": 17,
   "id": "f93a5ec5",
   "metadata": {},
   "outputs": [],
   "source": [
    "import os\n",
    "import numpy as np\n",
    "import pandas as pd\n",
    "from scipy.spatial import distance\n",
    "import notebook_utils.notebook_helpers as utils\n",
    "from cuopt import routing\n",
    "import cudf"
   ]
  },
  {
   "cell_type": "markdown",
   "id": "0d500386",
   "metadata": {},
   "source": [
    "# Benchmark Gehring & Homberger\n",
    "## Capacitated Vehicle Routing Problem with Time Windows (CVRPTW)"
   ]
  },
  {
   "cell_type": "markdown",
   "id": "30e63d74",
   "metadata": {},
   "source": [
    "While other notebooks such as [cvrptw_service_team_routing.ipynb](cvrptw_service_team_routing.ipynb) focus on the cuOpt API and high level problem modeling, here we focus on performance.\n",
    "\n",
    "cuOpt offers a unique benefit over other solver_settingss, specifically, time to solution.  In addition to achieving world class accuracy, cuOpt also produces these solutions in a time frame that allows for re-optimization in dynamic environments and rapid iteration over possible problem configurations.\n",
    "\n",
    "Here we are demonstrating this performance on a large popular academic [dataset by Gehring & Homberger](https://www.sintef.no/projectweb/top/vrptw/homberger-benchmark/).  These problems are well studied and used as the basis for comparison for VRP research and product offerings. The particular instance we will test with is from the group of largest (1000 location) problems.  Each problem instance has an associated best known solution, the one we will measure against is shown below\n",
    "\n",
    "**API Reference**: [cuOpt Documentation](https://docs.nvidia.com/cuopt)"
   ]
  },
  {
   "cell_type": "code",
   "execution_count": 18,
   "id": "65860d5d",
   "metadata": {},
   "outputs": [],
   "source": [
    "homberger_1000_file = 'notebook_utils/data/C1_10_1.TXT'\n",
    "\n",
    "best_known_solution = {\n",
    "    \"n_vehicles\": 100,\n",
    "    \"cost\": 42478.95\n",
    "}"
   ]
  },
  {
   "cell_type": "markdown",
   "id": "af25d3f9",
   "metadata": {},
   "source": [
    "### Problem Data\n",
    "The data for this problem instance are provided via text file.  cuOpt has a utility function available specifically for the Gehring & Homberger benchmark which converts the problem into the components required by cuOpt."
   ]
  },
  {
   "cell_type": "code",
   "execution_count": null,
   "id": "fd6089b5",
   "metadata": {},
   "outputs": [],
   "source": [
    "orders, vehicle_capacity, n_vehicles = utils.create_from_file(homberger_1000_file)\n",
    "n_locations = orders[\"demand\"].shape[0]-1\n",
    "print(\"Number of locations          : \", n_locations)\n",
    "print(\"Number of vehicles available : \", n_vehicles)\n",
    "print(\"Capacity of each vehicle     : \", vehicle_capacity)\n",
    "print(\"\\nInitial Orders information\")\n",
    "print(orders)"
   ]
  },
  {
   "cell_type": "markdown",
   "id": "4890f027",
   "metadata": {},
   "source": [
    "# Initialize cuOpt Problem Model"
   ]
  },
  {
   "cell_type": "code",
   "execution_count": 20,
   "id": "d57690c9",
   "metadata": {},
   "outputs": [],
   "source": [
    "# Create a routing model with the necessary locations and vehicles\n",
    "data_model = routing.DataModel(n_locations + 1, n_vehicles)"
   ]
  },
  {
   "cell_type": "markdown",
   "id": "ba4eb34d",
   "metadata": {},
   "source": [
    "### Cost Matrix"
   ]
  },
  {
   "cell_type": "code",
   "execution_count": 21,
   "id": "0cc3ced9",
   "metadata": {},
   "outputs": [],
   "source": [
    "coords = list(zip(orders['xcord'].to_list(),\n",
    "                  orders['ycord'].to_list()))\n",
    "\n",
    "cost_matrix = distance.cdist(coords, coords, 'euclidean')\n",
    "cost_matrix_df = cudf.DataFrame(cost_matrix.astype(np.float32))"
   ]
  },
  {
   "cell_type": "markdown",
   "id": "c938e463",
   "metadata": {},
   "source": [
    "### Set Cost Matrix"
   ]
  },
  {
   "cell_type": "code",
   "execution_count": 22,
   "id": "8493081f",
   "metadata": {},
   "outputs": [],
   "source": [
    "# Add the distance matrix as our cost matrix\n",
    "data_model.add_cost_matrix(cost_matrix_df)"
   ]
  },
  {
   "cell_type": "markdown",
   "id": "9ad17098",
   "metadata": {},
   "source": [
    "### Set Fleet Data"
   ]
  },
  {
   "cell_type": "code",
   "execution_count": 23,
   "id": "45f8aa47",
   "metadata": {},
   "outputs": [],
   "source": [
    "# All vehicles start and end at the depot (location 0)\n",
    "veh_start_locations = cudf.Series([0] * n_vehicles)\n",
    "veh_end_locations = cudf.Series([0] * n_vehicles)\n",
    "data_model.set_vehicle_locations(veh_start_locations, veh_end_locations)\n",
    "\n",
    "# Set vehicle capacities\n",
    "vehicle_capacities = cudf.Series([vehicle_capacity] * n_vehicles, dtype=np.int32)"
   ]
  },
  {
   "cell_type": "markdown",
   "id": "800db055",
   "metadata": {},
   "source": [
    "### Set Demand and Capacity"
   ]
  },
  {
   "cell_type": "code",
   "execution_count": 24,
   "id": "638df884",
   "metadata": {},
   "outputs": [],
   "source": [
    "# Convert demand to cudf Series\n",
    "location_demand = cudf.Series(orders['demand'].values, dtype=np.int32)\n",
    "\n",
    "# Add demand and capacity dimension\n",
    "data_model.add_capacity_dimension(\"demand\", location_demand, vehicle_capacities)"
   ]
  },
  {
   "cell_type": "markdown",
   "id": "aac2d7e8",
   "metadata": {},
   "source": [
    "### Set Time Windows"
   ]
  },
  {
   "cell_type": "code",
   "execution_count": 25,
   "id": "6b2f73ec",
   "metadata": {},
   "outputs": [],
   "source": [
    "# Set time windows for locations\n",
    "earliest_times = cudf.Series(orders['earliest_time'].values, dtype=np.int32)\n",
    "latest_times = cudf.Series(orders['latest_time'].values, dtype=np.int32)\n",
    "data_model.set_order_time_windows(earliest_times, latest_times)\n",
    "\n",
    "# Set service times\n",
    "service_times = cudf.Series(orders['service_time'].values, dtype=np.int32)\n",
    "data_model.set_order_service_times(service_times)"
   ]
  },
  {
   "cell_type": "markdown",
   "id": "8944c315",
   "metadata": {},
   "source": [
    "### Helper functions to solve and process the output"
   ]
  },
  {
   "cell_type": "code",
   "execution_count": 26,
   "id": "5382727c",
   "metadata": {},
   "outputs": [],
   "source": [
    "def solution_eval(vehicles, cost, best_known_solution):\n",
    "    \n",
    "    print(f\"- cuOpt provides a solution using {vehicles} vehicles\")\n",
    "    print(f\"- This represents {vehicles - best_known_solution['n_vehicles']} more than the best known solution\")\n",
    "    print(f\"- Vehicle Percent Difference {(vehicles/best_known_solution['n_vehicles'] - 1)*100}% \\n\\n\")\n",
    "    print(f\"- In addition cuOpt provides a solution cost of {cost}\") \n",
    "    print(f\"- Best known solution cost is {best_known_solution['cost']}\")\n",
    "    print(f\"- Cost Percent Difference {(cost/best_known_solution['cost'] - 1)*100}%\")"
   ]
  },
  {
   "cell_type": "markdown",
   "id": "24ef0f5f",
   "metadata": {},
   "source": [
    "### Get Optimized Results\n",
    "\n",
    "Update solver config and test different run-time "
   ]
  },
  {
   "cell_type": "markdown",
   "id": "04ef0c21",
   "metadata": {},
   "source": [
    "**1 Minute Time Limit**\n",
    "\n",
    "Note: due to the large amount of data network transfer time can exceed the requested solve time.\n"
   ]
  },
  {
   "cell_type": "code",
   "execution_count": null,
   "id": "3934d8de",
   "metadata": {},
   "outputs": [],
   "source": [
    "# Create solver settings with 60 second time limit\n",
    "solver_settings = routing.SolverSettings()\n",
    "solver_settings.set_time_limit(60.0)\n",
    "\n",
    "# Solve the problem\n",
    "solution = routing.Solve(data_model, solver_settings)\n",
    "\n",
    "# Get solution metrics\n",
    "if solution.get_status() == 0:  # Success\n",
    "    num_vehicles = solution.get_vehicle_count()\n",
    "    solution_cost = solution.get_total_objective()\n",
    "    print(f\"Solution found with status: {solution.get_status()}\")\n",
    "    print(f\"Number of vehicles used: {num_vehicles}\")\n",
    "    print(f\"Total solution cost: {solution_cost}\")\n",
    "else:\n",
    "    print(f\"Failed to find a solution. Status: {solution.get_status()}\")"
   ]
  },
  {
   "cell_type": "code",
   "execution_count": null,
   "id": "7ab5e6d1",
   "metadata": {},
   "outputs": [],
   "source": [
    "# Evaluation:\n",
    "if solution.get_status() == 0:  # Success\n",
    "    solution_eval(num_vehicles, solution_cost, best_known_solution)"
   ]
  },
  {
   "cell_type": "markdown",
   "id": "a9a1b855",
   "metadata": {},
   "source": [
    "**2 Minute Time Limit**"
   ]
  },
  {
   "cell_type": "code",
   "execution_count": null,
   "id": "e0c38643",
   "metadata": {},
   "outputs": [],
   "source": [
    "# Create solver settings with 120 second time limit\n",
    "solver_settings = routing.SolverSettings()\n",
    "solver_settings.set_time_limit(120.0)\n",
    "\n",
    "# Solve the problem\n",
    "solution = routing.Solve(data_model, solver_settings)\n",
    "\n",
    "# Get solution metrics\n",
    "if solution.get_status() == 0:  # Success\n",
    "    num_vehicles = solution.get_vehicle_count()\n",
    "    solution_cost = solution.get_total_objective()\n",
    "    print(f\"Solution found with status: {solution.get_status()}\")\n",
    "    print(f\"Number of vehicles used: {num_vehicles}\")\n",
    "    print(f\"Total solution cost: {solution_cost}\")\n",
    "else:\n",
    "    print(f\"Failed to find a solution. Status: {solution.get_status()}\")"
   ]
  },
  {
   "cell_type": "code",
   "execution_count": null,
   "id": "ff80118b",
   "metadata": {},
   "outputs": [],
   "source": [
    "# Evaluation:\n",
    "if solution.get_status() == 0:  # Success\n",
    "    solution_eval(num_vehicles, solution_cost, best_known_solution)"
   ]
  },
  {
   "cell_type": "markdown",
   "id": "3cdc82e5-f4b0-4dcd-935a-254e04fb3841",
   "metadata": {},
   "source": [
    "\n",
    "SPDX-FileCopyrightText: Copyright (c) 2025 NVIDIA CORPORATION & AFFILIATES. All rights reserved.\n",
    "SPDX-License-Identifier: MIT\n",
    "Permission is hereby granted, free of charge, to any person obtaining a copy of this software and associated documentation files (the \"Software\"), to deal in the Software without restriction, including without limitation the rights to use, copy, modify, merge, publish, distribute, sublicense, and/or sell copies of the Software, and to permit persons to whom the Software is furnished to do so, subject to the following conditions: The above copyright notice and this permission notice shall be included in all copies or substantial portions of the Software.\n",
    "\n",
    "THE SOFTWARE IS PROVIDED \"AS IS\", WITHOUT WARRANTY OF ANY KIND, EXPRESS OR IMPLIED, INCLUDING BUT NOT LIMITED TO THE WARRANTIES OF MERCHANTABILITY, FITNESS FOR A PARTICULAR PURPOSE AND NONINFRINGEMENT. IN NO EVENT SHALL THE AUTHORS OR COPYRIGHT HOLDERS BE LIABLE FOR ANY CLAIM, DAMAGES OR OTHER LIABILITY, WHETHER IN AN ACTION OF CONTRACT, TORT OR OTHERWISE, ARISING FROM, OUT OF OR IN CONNECTION WITH THE SOFTWARE OR THE USE OR OTHER DEALINGS IN THE SOFTWARE."
   ]
  }
 ],
 "metadata": {
  "kernelspec": {
   "display_name": "cuopt_12_8",
   "language": "python",
   "name": "python3"
  },
  "language_info": {
   "codemirror_mode": {
    "name": "ipython",
    "version": 3
   },
   "file_extension": ".py",
   "mimetype": "text/x-python",
   "name": "python",
   "nbconvert_exporter": "python",
   "pygments_lexer": "ipython3",
   "version": "3.12.10"
  }
 },
 "nbformat": 4,
 "nbformat_minor": 5
}
