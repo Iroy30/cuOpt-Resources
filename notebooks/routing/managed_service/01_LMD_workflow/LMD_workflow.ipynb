{
 "cells": [
  {
   "cell_type": "markdown",
   "id": "03a2f04e",
   "metadata": {},
   "source": [
    "## Import dependencies"
   ]
  },
  {
   "cell_type": "code",
   "execution_count": null,
   "id": "cfc83aad",
   "metadata": {},
   "outputs": [],
   "source": [
    "import pandas as pd\n",
    "from IPython.display import HTML\n",
    "import requests\n",
    "import json\n",
    "from scipy.spatial import distance\n",
    "\n",
    "from helper_function.notebook_helpers import show_vehicle_routes, get_minutes_from_datetime\n",
    "from helper_function.map_helpers import get_map_by_vehicle\n",
    "\n",
    "from cuopt_thin_client import CuOptServiceClient"
   ]
  },
  {
   "cell_type": "markdown",
   "id": "327d93b2",
   "metadata": {},
   "source": [
    "## Read input data from CSV files"
   ]
  },
  {
   "cell_type": "markdown",
   "id": "4910c811",
   "metadata": {},
   "source": [
    "Suppose you are working as an Optimization Scientist at a grocery chain throughout New York City. There are 97 stores and 3 distribution centers. Every day, stores place an order for food that must be delivered the next day to ensure they are fully stocked. Given input data about stores' orders, distribution centers, and the available fleet of vehicles, it is your job to calculate the route for each vehicle such that all orders are fulfilled while minimizing vehicles' travel time and cost. For a problem space of 100 locations there are about 100! possible routes. You can do the math yourself- but that's a lot. Lucky for you, you have access to the cuOpt solver. All you need to do is read the input data and preprocess the data. Once all the data is ready, you just need to save it to one Python dictionary and send it to cuOpt, which does all the hard computation for you.\n",
    "\n",
    "Let's walk through these steps. "
   ]
  },
  {
   "cell_type": "markdown",
   "id": "4e2f06bb",
   "metadata": {},
   "source": [
    "For the Last Mile Delivery (LMD) use case, we need 3 datasets with the following features:\n",
    "\n",
    "- Depots\n",
    "    - Name\n",
    "    - Location\n",
    "    - Start and end time (operation hours)\n",
    "- Orders\n",
    "    - Store Name\n",
    "    - Location\n",
    "    - Start and end time (store hours)\n",
    "    - Demand\n",
    "    - Service time\n",
    "    - Loyalty Member\n",
    "    - Delivery Requirement\n",
    "- Vehicles\n",
    "    - Name/ID Number\n",
    "    - Assigned depot\n",
    "    - Start and end time (vehicle/driver shift hours)\n",
    "    - Break time\n",
    "    - Capacity\n",
    "    - Max time\n",
    "    \n",
    "You may have additional features depending on the problem at hand.\n",
    "\n",
    "Location data needs to be in the form of coordinate points (longitude and latitude values). Our data already has coordinate points included. If you're using new data and need to do so yourself, you will need to use a third party tool.\n"
   ]
  },
  {
   "cell_type": "markdown",
   "id": "3961bd53-8dd8-4dd9-be82-904788b8c828",
   "metadata": {},
   "source": [
    "In this workflow, we are using locations from the following [Kaggle dataset](https://www.kaggle.com/datasets/arianazmoudeh/airbnbopendata). This is a dataset of Airbnbs in New York City. Our problem space has 100 locations total which includes 3 depots and 97 orders. The coordinate points are taken from the dataset and the rest of the features are synthetic data. We have 15 vehicles available."
   ]
  },
  {
   "cell_type": "code",
   "execution_count": null,
   "id": "98067624",
   "metadata": {},
   "outputs": [],
   "source": [
    "DATA_PATH = \"data/\"\n",
    "\n",
    "orders_df = pd.read_csv(DATA_PATH+\"orders_lmd.csv\")\n",
    "depots_df = pd.read_csv(DATA_PATH+\"depots_lmd.csv\")\n",
    "vehicles_df = pd.read_csv(DATA_PATH+\"vehicles_lmd.csv\")"
   ]
  },
  {
   "cell_type": "code",
   "execution_count": null,
   "id": "1377201a-aed2-4289-9afb-fa010549c232",
   "metadata": {},
   "outputs": [],
   "source": [
    "n_depots = len(depots_df.index)\n",
    "n_orders = len(orders_df.index)\n",
    "n_vehicles = len(vehicles_df.index)\n",
    "\n",
    "n_loc_total = n_orders + n_depots"
   ]
  },
  {
   "cell_type": "code",
   "execution_count": null,
   "id": "3f7410c2-ab27-4e34-a1ec-be7a0a81ebbe",
   "metadata": {},
   "outputs": [],
   "source": [
    "locations_df = (pd.concat([depots_df[[\"Name\",\"Longitude\",\"Latitude\"]], orders_df[[\"Name\",\"Longitude\",\"Latitude\"]]], ignore_index=True)).reset_index()"
   ]
  },
  {
   "cell_type": "markdown",
   "id": "ee8cfacb",
   "metadata": {},
   "source": [
    "# Create Cost Matrices\n",
    "\n",
    "The **cost matrix** models the cost between each pair of locations.  It is used by cuOpt to compute the cost of traveling from any location to any other. The cost matrix needs to be a square matrix of dimension equal to the total number of locations which inlcludes both depots and orders. In this Vehicle Routing Problem, our cost metrics are distance and travel time. These are the costs we want to minimize. \n",
    "\n"
   ]
  },
  {
   "cell_type": "markdown",
   "id": "0e5550d7",
   "metadata": {},
   "source": [
    "### Cost Matrix - Distance \n",
    "\n",
    "For our primary <code style=\"background:lightgreen;color:black\">cost_matrix</code>, we will use travel distance. In practical applications, you can integrate this to a third-party map data provider like Esri or Google Maps to get live traffic data and run dynamic/real-time re-routing using cuOpt.\n",
    "\n",
    "\n",
    "Let's create a cost matrix using Google Maps API.\n",
    "\n",
    "If you want to build the cost matrix on your own, or if you are working with your own data, execute the next few cells. We've already created this cost matrix using Google API and saved it as a csv, so, alternatively, you can read it from the csv file.\n"
   ]
  },
  {
   "cell_type": "markdown",
   "id": "fb0a6906",
   "metadata": {},
   "source": [
    "#### Option 1: Create you own cost matrix using Google API\n",
    "\n",
    "Before you start using the Google Maps API, you need a project with a billing account and the Distance Matrix API enabled. To learn more, see Set up in [Cloud Console](https://developers.google.com/maps/documentation/distance-matrix/cloud-setup).\n",
    "\n",
    "In order to do this, please create your own API key [here](https://developers.google.com/maps/documentation/distance-matrix/get-api-key).\n"
   ]
  },
  {
   "cell_type": "code",
   "execution_count": null,
   "id": "74851eae",
   "metadata": {
    "scrolled": true
   },
   "outputs": [],
   "source": [
    "import googlemaps\n",
    "\n",
    "google_api_key = \"<your_google_api_key>\"\n",
    "gmaps = googlemaps.Client(key=google_api_key)\n",
    "\n",
    "time_list = []\n",
    "distance_list = []\n",
    "origin_id_list = []\n",
    "destination_id_list = []\n"
   ]
  },
  {
   "cell_type": "code",
   "execution_count": null,
   "id": "182eae8d",
   "metadata": {},
   "outputs": [],
   "source": [
    "#this might take around 15 minutes to run\n",
    "for (i1, row1) in locations_df.iterrows():\n",
    "    LatOrigin = row1['Latitude']\n",
    "    LongOrigin = row1['Longitude']\n",
    "    origin = (LatOrigin, LongOrigin)\n",
    "    origin_id = row1['Name'] \n",
    "    for (i2, row2) in  locations_df.iterrows():\n",
    "        LatDestination = row2['Latitude']\n",
    "        LongDestination = row2['Longitude']\n",
    "        destination_id = row2['Name']\n",
    "        destination = (LatDestination, LongDestination)\n",
    "        result = gmaps.distance_matrix(origin, destination, mode = 'driving')\n",
    "        result_distance = result[\"rows\"][0][\"elements\"][0][\"distance\"][\"value\"]\n",
    "        result_time = result[\"rows\"][0][\"elements\"][0][\"duration\"][\"value\"]\n",
    "\n",
    "    \n",
    "        time_list.append(result_time)\n",
    "        distance_list.append(result_distance)\n",
    "        origin_id_list.append(origin_id)\n",
    "        destination_id_list.append(destination_id)"
   ]
  },
  {
   "cell_type": "code",
   "execution_count": null,
   "id": "25e5ecdd",
   "metadata": {},
   "outputs": [],
   "source": [
    "output = pd.DataFrame(distance_list, columns = ['Distance in meter'])\n",
    "output['duration in seconds'] = time_list\n",
    "output['origin_id'] = origin_id_list\n",
    "output['destination_id'] = destination_id_list"
   ]
  },
  {
   "cell_type": "code",
   "execution_count": null,
   "id": "541cba32",
   "metadata": {},
   "outputs": [],
   "source": [
    "cost_matrix_distance = []\n",
    "for origin in output.origin_id.unique():\n",
    "    cost_matrix_distance.append(output[output['origin_id'] == origin]['Distance in meter'].values.tolist())"
   ]
  },
  {
   "cell_type": "markdown",
   "id": "4f2d22c4",
   "metadata": {},
   "source": [
    "#### Option 2: read from csv file"
   ]
  },
  {
   "cell_type": "code",
   "execution_count": null,
   "id": "d7b4c11d",
   "metadata": {},
   "outputs": [],
   "source": [
    "import pandas as pd\n",
    "\n",
    "df = pd.read_csv('data/cost_matrix_distance.csv', header=None)\n",
    "cost_matrix_distance = df.astype(int).values.tolist()"
   ]
  },
  {
   "cell_type": "markdown",
   "id": "5bd27fe5",
   "metadata": {},
   "source": [
    "### Cost Matrix - Time\n",
    "\n",
    "Next, let's create the <code style=\"background:lightgreen;color:black\">travel_time_matrix</code>.\n",
    "We already have travel time data from Google Maps API (this data is in the 'durations in sections' column in our output dataframe. However, let's take a look at using a different tool for this. We will use OSRM to calculate the travel time in minutes between each two pairs of locations which. \n",
    "\n",
    "[OSRM](https://project-osrm.org/) is a free and open and open source routing engine, which we will use for route mapping and visualization later on. \n"
   ]
  },
  {
   "cell_type": "code",
   "execution_count": null,
   "id": "94e40ef3-9e44-4022-97e8-27b46ab2f3f9",
   "metadata": {},
   "outputs": [],
   "source": [
    "latitude = locations_df.Latitude.to_numpy()\n",
    "longitude = locations_df.Longitude.to_numpy()\n",
    "    \n",
    "locations=\"\"\n",
    "n_orders = len(locations_df)\n",
    "for i in range(n_orders):\n",
    "    locations = locations + \"{},{};\".format(longitude[i], latitude[i])\n",
    "r = requests.get(\"http://router.project-osrm.org/table/v1/car/\"+ locations[:-1])\n",
    "routes = json.loads(r.content)\n",
    "    \n",
    "# OSRM returns duration in seconds. Here we are converting to minutes\n",
    "for i in routes['durations']:\n",
    "    i[:] = [x / 60 for x in i]\n",
    "    \n",
    "coords_index = { i: (latitude[i], longitude[i]) for i in range(df.shape[0])}\n",
    "time_matrix_df = pd.DataFrame(routes['durations'])\n",
    "time_matrix = time_matrix_df.values.tolist()"
   ]
  },
  {
   "cell_type": "markdown",
   "id": "87dbc6d9",
   "metadata": {},
   "source": [
    "### Set Fleet Data"
   ]
  },
  {
   "cell_type": "markdown",
   "id": "1ee272e2",
   "metadata": {},
   "source": [
    "Here we take our raw data from the csv file and convert it into data that we can send to the cuOpt solver.\n",
    "\n",
    "<code style=\"background:lightgreen;color:black\">vehicle_locations</code> is a list of the start and end location of the vehicles. Each vehicle is assigned to a depot from which it departs in the morning and returns to at night. For example, a vehicle that starts and ends in depot 1 which is the location at index 0 would have the vehicle location of [0,0]. "
   ]
  },
  {
   "cell_type": "code",
   "execution_count": null,
   "id": "f9cdc911",
   "metadata": {},
   "outputs": [],
   "source": [
    "depot_names_to_indices_dict = {locations_df[\"Name\"].values.tolist()[i]: i for i in range(n_depots)}\n",
    "vehicle_locations = vehicles_df[[\"assigned_depot\",\"assigned_depot\"]].replace(depot_names_to_indices_dict).values.tolist()"
   ]
  },
  {
   "cell_type": "markdown",
   "id": "b14b0bc5",
   "metadata": {},
   "source": [
    "<code style=\"background:lightgreen;color:black\">capacities</code> is a list of how much goods each vehicle can carry in weight. Here we have two different types of vehicles: trucks and EV vans. A truck can carry up to 20,000 pounds and an EV van can carry up to 8,000 pounds. This is essential when assigning orders to vehicles because one vehicle can only carry so many orders at once. \n"
   ]
  },
  {
   "cell_type": "code",
   "execution_count": null,
   "id": "8140752d",
   "metadata": {},
   "outputs": [],
   "source": [
    "capacities = [[int(a) for a in vehicles_df['vehicle_capacity'].tolist()]]"
   ]
  },
  {
   "cell_type": "markdown",
   "id": "3b6c92cf",
   "metadata": {},
   "source": [
    "<code style=\"background:lightgreen;color:black\">vehicle_time_windows</code> is a list of the integer representation of the operating time of each vehicle. Equivalently, the shift of each vehicle driver. We convert the UTC timestamp to epoch time (integer representation in minutes)."
   ]
  },
  {
   "cell_type": "code",
   "execution_count": null,
   "id": "f0520835",
   "metadata": {},
   "outputs": [],
   "source": [
    "vehicle_time_windows = pd.concat((vehicles_df['vehicle_start'].apply(get_minutes_from_datetime).to_frame(), vehicles_df['vehicle_end'].apply(get_minutes_from_datetime).to_frame()), axis=1).values.tolist()"
   ]
  },
  {
   "cell_type": "markdown",
   "id": "8440f0cb",
   "metadata": {},
   "source": [
    "<code style=\"background:lightgreen;color:black\">vehicle_break_time_windows</code>\n",
    " is a list of the integer representation of break time of each vehicle within its operating time. For a driver working an 8 hour shift, this break in the middle of the day represents their lunch break. These time windows are when their lunch break may occur.\n",
    "A driver can have multiple breaks throughout their day. "
   ]
  },
  {
   "cell_type": "code",
   "execution_count": null,
   "id": "4c91b7db-e09c-44ea-b004-354fb6f87a05",
   "metadata": {},
   "outputs": [],
   "source": [
    "vehicle_break_time_windows = [pd.concat((vehicles_df['break_start'].apply(get_minutes_from_datetime).to_frame(), vehicles_df['break_end'].apply(get_minutes_from_datetime).to_frame()), axis=1).values.tolist()]"
   ]
  },
  {
   "cell_type": "markdown",
   "id": "9ef662c4",
   "metadata": {},
   "source": [
    " <code style=\"background:lightgreen;color:black\">vehicle_break_durations</code> is the length of the break. Here, we set the duration to be 30 minutes for all vehicles. \n"
   ]
  },
  {
   "cell_type": "code",
   "execution_count": null,
   "id": "5b905b81-3881-4217-8f89-d4ebd44aa6be",
   "metadata": {},
   "outputs": [],
   "source": [
    "vehicle_break_durations = [[30] * n_vehicles]"
   ]
  },
  {
   "cell_type": "markdown",
   "id": "9f02b33f",
   "metadata": {},
   "source": [
    "<code style=\"background:lightgreen;color:black\">vehicle_max_time</code> is a list of the maximum time a vehicle can operate. Even if a driver is available for a long period of time, this constraint enforces a maximum length for a driver's shift. This is also given in minutes. A driver's time window represents total availability which may be longer than a standard shift length. If a driver says they are available to work from 9am to 9pm, we still want to limit their shift to be shorter. A truck driver can drive up to 7 hours, and an EV driver can drive up to 4 hours. "
   ]
  },
  {
   "cell_type": "code",
   "execution_count": null,
   "id": "1567d1b2-caca-4fb0-9706-20c97db350ef",
   "metadata": {},
   "outputs": [],
   "source": [
    "vehicles_max_time = vehicles_df['max_time'].tolist()"
   ]
  },
  {
   "cell_type": "markdown",
   "id": "49c9a0d3",
   "metadata": {},
   "source": [
    "### Set Task Data\n"
   ]
  },
  {
   "cell_type": "markdown",
   "id": "16fc19fb",
   "metadata": {},
   "source": [
    "Here we take our raw data from the csv file and convert it into data that we can send to the cuOpt solver.\n",
    "\n",
    "<code style=\"background:lightgreen;color:black\">task_locations</code> is the list of stores that have placed an order. This list is simply the index of each location. "
   ]
  },
  {
   "cell_type": "code",
   "execution_count": null,
   "id": "36ed75d3",
   "metadata": {},
   "outputs": [],
   "source": [
    "task_locations = locations_df.index.tolist()[n_depots:]"
   ]
  },
  {
   "cell_type": "markdown",
   "id": "34282b02",
   "metadata": {},
   "source": [
    "<code style=\"background:lightgreen;color:black\">demand</code> is the list of weight demand for each order. Here, these values are between 40 and 200 pounds. "
   ]
  },
  {
   "cell_type": "code",
   "execution_count": null,
   "id": "a7b46d22",
   "metadata": {},
   "outputs": [],
   "source": [
    "demands = [[int(a) for a in orders_df['Demand'].values.tolist()]]"
   ]
  },
  {
   "cell_type": "markdown",
   "id": "480a42fc",
   "metadata": {},
   "source": [
    "<code style=\"background:lightgreen;color:black\">service_times</code> is the list of the length of time for orders to be dropped off once the vehicle reaches the location. Here, these values are between 15 and 30 minutes."
   ]
  },
  {
   "cell_type": "code",
   "execution_count": null,
   "id": "1215178a",
   "metadata": {},
   "outputs": [],
   "source": [
    "service_times = orders_df['ServiceTime'].values.tolist()"
   ]
  },
  {
   "cell_type": "markdown",
   "id": "bf6053ba",
   "metadata": {},
   "source": [
    "<code style=\"background:lightgreen;color:black\">task_time_windows</code> \n",
    " is the list of integer representation of opening hours for each store. We convert the UTC timestamp to epoch time (integer representation in minutes)."
   ]
  },
  {
   "cell_type": "code",
   "execution_count": null,
   "id": "6d734475",
   "metadata": {},
   "outputs": [],
   "source": [
    "task_time_windows = pd.concat((orders_df['order_start_time'].apply(get_minutes_from_datetime).to_frame(), orders_df['order_end_time'].apply(get_minutes_from_datetime).to_frame()), axis=1).values.tolist()"
   ]
  },
  {
   "cell_type": "markdown",
   "id": "dc140306",
   "metadata": {},
   "source": [
    "<code style=\"background:lightgreen;color:black\">vehicle_match_list</code> allows us to ensure that some orders are assigned to specific vehicles. In this use case, some of the orders are frozen and can be delivered in trucks and not EV vans. Here we can indicate that the frozen orders are assigned specifically to vehicles that are trucks.  "
   ]
  },
  {
   "cell_type": "code",
   "execution_count": null,
   "id": "061e0701-de16-45fc-9bac-556d8af25be8",
   "metadata": {},
   "outputs": [],
   "source": [
    "trucks_ids = vehicles_df['vehicle_type'][vehicles_df['vehicle_type']==\"Truck\"].index.values.tolist()"
   ]
  },
  {
   "cell_type": "code",
   "execution_count": null,
   "id": "0447d298-94b0-4630-bc20-1a7ace475ae3",
   "metadata": {
    "tags": []
   },
   "outputs": [],
   "source": [
    "vehicle_match_list = []\n",
    "for i in orders_df['is_frozen'][orders_df['is_frozen']==1].index.values.tolist():\n",
    "    vehicle_match_list.append({\"order_id\": i, \"vehicle_ids\": trucks_ids})"
   ]
  },
  {
   "cell_type": "markdown",
   "id": "84383472",
   "metadata": {},
   "source": [
    "### Set Solver configuration"
   ]
  },
  {
   "cell_type": "markdown",
   "id": "93be6922",
   "metadata": {},
   "source": [
    "Before we send our data to the cuOpt solver, we will add a configuration setting.\n",
    "\n",
    "<code style=\"background:lightgreen;color:black\">time_limit</code> is the maximum time allotted to find a solution. This depends on the user, who has the flexibility of setting a higher time‑limit for better results. \n",
    "\n",
    "The cuOpt solver does not interrupt the initial solution. So if the user specifies a shorter time than it takes for the initial solution, the initial solution is returned when it is computed."
   ]
  },
  {
   "cell_type": "code",
   "execution_count": null,
   "id": "da3d8294",
   "metadata": {},
   "outputs": [],
   "source": [
    "# Set the time limit \n",
    "time_limit = 5"
   ]
  },
  {
   "cell_type": "markdown",
   "id": "bf0db186",
   "metadata": {},
   "source": [
    "## Save data in a dictionary\n",
    "\n",
    "Here, we take all the data we have prepared so far and save it to one dictionary. This includes the cost matrices, task data, fleet data, and solver config. This is all the data that cuOpt needs to solve our LMD problem. "
   ]
  },
  {
   "cell_type": "code",
   "execution_count": null,
   "id": "5596a044-d26c-4c2a-8ed5-db7374564ccc",
   "metadata": {},
   "outputs": [],
   "source": [
    "cuopt_problem_data = {\"cost_matrix_data\": {\"data\": {\"0\": cost_matrix_distance }},\n",
    "        \n",
    "        \"travel_time_matrix_data\": {\"data\": {\"0\": time_matrix }},        \n",
    "        \n",
    "        \"task_data\": {\"task_locations\": task_locations,\n",
    "                      \"demand\": demands,\n",
    "                      \"task_time_windows\": task_time_windows,\n",
    "                      \"service_times\":service_times,\n",
    "                      \"order_vehicle_match\": vehicle_match_list,\n",
    "                     \n",
    "                     },\n",
    "\n",
    "        \"fleet_data\": {\"vehicle_locations\": vehicle_locations,\n",
    "                       \"capacities\": capacities,\n",
    "                       \"vehicle_time_windows\": vehicle_time_windows,\n",
    "                       \"vehicle_break_time_windows\": vehicle_break_time_windows,\n",
    "                       \"vehicle_break_durations\": vehicle_break_durations,\n",
    "                       \"vehicle_max_times\": vehicles_max_time,\n",
    "                      },\n",
    "        \n",
    "        \"solver_config\": { \"time_limit\": 5}\n",
    "       \n",
    "       }\n"
   ]
  },
  {
   "cell_type": "markdown",
   "id": "9e07895f",
   "metadata": {},
   "source": [
    "## Create a Service Client Instance\n",
    "\n",
    "Now that we have prepared all of our data, we can establish a connection to the cuOpt service. \n",
    "\n",
    "In the cell below, there is a place to paste a client SAK which you can generate from the API Catalog. \n",
    "\n",
    "Here, we create an instance of the cuOpt Service Client to establish a connection. \n"
   ]
  },
  {
   "cell_type": "code",
   "execution_count": null,
   "id": "1a8c425f",
   "metadata": {},
   "outputs": [],
   "source": [
    "# Currently this notebook works with spoofed SAK and FUNCTION ID, but users need to use their own SAK and FUNCTION ID if\n",
    "# they are going to run this notebook in their local environment\n",
    "\n",
    "cuopt_client_sak = \"<YOUR CLIENT SAK>\"\n",
    "\n",
    "cuopt_service_client = CuOptServiceClient(\n",
    "    sak=cuopt_client_sak,\n",
    "    function_id=\"<FUNCTION_ID_OBTAINED_FROM_NGC>\"\n",
    "    )"
   ]
  },
  {
   "cell_type": "markdown",
   "id": "5568eafb",
   "metadata": {},
   "source": [
    "## Send data to the cuOpt service and get the routes\n",
    "\n",
    "When using the cuOpt Managed Service, we send all the data in a single call and wait for the response."
   ]
  },
  {
   "cell_type": "code",
   "execution_count": null,
   "id": "c67efeef-bfeb-4674-bf63-c3c52b846a11",
   "metadata": {},
   "outputs": [],
   "source": [
    "# Solve the problem\n",
    "solver_response = cuopt_service_client.get_optimized_routes(\n",
    "    cuopt_problem_data\n",
    ")\n",
    "\n",
    "# Process returned data\n",
    "solver_resp = solver_response[\"response\"]\n",
    "if \"solver_response\" in solver_resp:\n",
    "    solver_resp = solver_resp[\"solver_response\"]\n",
    "else:\n",
    "    solver_resp = solver_resp[\"solver_infeasible_response\"]\n",
    "\n",
    "location_names = [str(x) for x in locations_df.index.tolist()]\n",
    "\n",
    "if solver_resp[\"status\"] == 0:\n",
    "    print(\"Cost for the routing in distance: \", solver_resp[\"solution_cost\"])\n",
    "    print(\"Vehicle count to complete routing: \", solver_resp[\"num_vehicles\"])\n",
    "    show_vehicle_routes(solver_resp, location_names)\n",
    "else:\n",
    "    print(\"NVIDIA cuOpt Failed to find a solution with status : \", solver_resp[\"status\"])"
   ]
  },
  {
   "cell_type": "markdown",
   "id": "be379147",
   "metadata": {},
   "source": [
    "## Visualize the routes\n",
    "\n",
    "\n",
    "In the drop down menu below, you can select different vehicle ID's to see if they are dispatched. If they are, we print their assigned route on a map.\n",
    "\n",
    "\n",
    "Generating a route and map uses third party tools and takes about 30 seconds to run."
   ]
  },
  {
   "cell_type": "code",
   "execution_count": null,
   "id": "51c436bf",
   "metadata": {},
   "outputs": [],
   "source": [
    "from IPython.display import display, Markdown, clear_output\n",
    "import ipywidgets as widgets\n",
    "from ipywidgets import interact\n",
    "\n",
    "w = widgets.Dropdown(\n",
    "    options = list(vehicles_df.index.values),\n",
    "    description='Vehicle ID:',\n",
    ")\n",
    "\n",
    "def on_change(value):\n",
    "    if str(value) in list(solver_resp['vehicle_data'].keys()):\n",
    "        if len(solver_resp[\"vehicle_data\"][str(value)]['route']) == 1:\n",
    "            l = solver_resp[\"vehicle_data\"][str(value)]['route'][0]\n",
    "            solver_resp[\"vehicle_data\"][str(value)]['route'] = [l,l]\n",
    "        curr_route_df = pd.DataFrame(solver_resp[\"vehicle_data\"][str(value)]['route'], columns=[\"stop_index\"])\n",
    "        curr_route_df = pd.merge(curr_route_df, locations_df, how=\"left\", left_on=[\"stop_index\"], right_on=[\"index\"])\n",
    "        display(get_map_by_vehicle(curr_route_df, False))        \n",
    "    else:\n",
    "        print(\"This Vehicle is not assigned to any order!\")\n",
    "\n",
    "interact(on_change, value=w)"
   ]
  },
  {
   "cell_type": "markdown",
   "id": "a2acdfa1-39c6-4bad-ac87-02d6ba70a896",
   "metadata": {},
   "source": [
    "## Prize Collection"
   ]
  },
  {
   "cell_type": "markdown",
   "id": "f9a4c2a8",
   "metadata": {},
   "source": [
    "Imagine some of the drivers called out sick last minute, and now we have only 5 vehicles in our fleet. However, our orders remain in same. It is impossible for only 5 drivers to fulfill all of these tasks. Still, we want to deliver as many orders as we can while respecting all of the constraints.\n",
    "\n",
    "With cuOpt, we can prioritize specific orders. This variation of VRP is called <code style=\"background:lightgreen;color:black\">Prize Collection</code>. Each task has an associated prize, and when introducing this constraint, cuOpt will try to maximize the total prize while still minimizing the total cost of the solution.\n",
    "\n",
    "Let's imagine that we have a preferred members program, and some of the stores are members and some are not. Since we are limited in how many orders we can fulfill today, we want to make sure we deliver orders to the stores that are preferred members, and then deliver as many as the remaing order as possible."
   ]
  },
  {
   "cell_type": "markdown",
   "id": "88f36233",
   "metadata": {},
   "source": [
    "Let's start by truncating our fleet to 5 vehicles. \n",
    "\n",
    "P.s. you can play around with this parameter and see how the number of vehicles affects the solution"
   ]
  },
  {
   "cell_type": "code",
   "execution_count": null,
   "id": "57a5d5b6",
   "metadata": {},
   "outputs": [],
   "source": [
    "new_n_vehicles = 5"
   ]
  },
  {
   "cell_type": "code",
   "execution_count": null,
   "id": "2c6f3f6c",
   "metadata": {},
   "outputs": [],
   "source": [
    "vehicle_locations_truncated = vehicle_locations[:new_n_vehicles]\n",
    "\n",
    "capacities_truncated = [capacities[0][:new_n_vehicles]]\n",
    "\n",
    "vehicle_time_windows_truncated = vehicle_time_windows[:new_n_vehicles]\n",
    "\n",
    "vehicle_break_time_windows_truncated = [vehicle_break_time_windows[0][:new_n_vehicles]]\n",
    "\n",
    "vehicle_break_durations_truncated = [vehicle_break_durations[0][:new_n_vehicles]]\n",
    "\n",
    "vehicles_max_time_truncated = vehicles_max_time[:new_n_vehicles]"
   ]
  },
  {
   "cell_type": "code",
   "execution_count": null,
   "id": "b979c7f8",
   "metadata": {},
   "outputs": [],
   "source": [
    "trucks_ids_truncated = [truck_id for truck_id in trucks_ids if truck_id<new_n_vehicles]\n",
    "\n",
    "vehicle_match_list_truncated = []\n",
    "for i in orders_df['is_frozen'][orders_df['is_frozen']==1].index.values.tolist():\n",
    "    vehicle_match_list_truncated.append({\"order_id\": i, \"vehicle_ids\": trucks_ids_truncated})"
   ]
  },
  {
   "cell_type": "markdown",
   "id": "7524528b",
   "metadata": {},
   "source": [
    "In our orders dataset, we have a column indicating whether stores are part of the preferred members program. Approximately 1/3 of the stores are part of the program.\n",
    "Stores that are part of the preferred members program are marked with the value `1`, and stores that are not are `0`.\n",
    "\n",
    "However, this does't directly translate to prize value for cuOpt. we want all stores to have a prize associated to prevent cuOpt from dropping tasks. Since we are incroporating Prize Collection, cuOpt has no incentive to deliver tasks that have an associated prize value of `0`. We will increase all values by 1, such that stores that are part of the preferred members program are marked with the value `2`, and stores that are not are `1`."
   ]
  },
  {
   "cell_type": "code",
   "execution_count": null,
   "id": "490c8aeb",
   "metadata": {},
   "outputs": [],
   "source": [
    "prizes = orders_df['preferred_customer'].values.tolist()\n",
    "updated_prizes = [x+1 for x in prizes]"
   ]
  },
  {
   "cell_type": "markdown",
   "id": "758521a2",
   "metadata": {},
   "source": [
    "Finally, Let's update our data for the API call. \n",
    "\n",
    "Here, we introduce <code style=\"background:lightgreen;color:black\">Objectives</code> in the solver config. To implement Prize Collection, we set the `prize` objective to be greater than 0 while we set the rest of the objectives to 0."
   ]
  },
  {
   "cell_type": "code",
   "execution_count": null,
   "id": "3ba04331",
   "metadata": {},
   "outputs": [],
   "source": [
    "cuopt_problem_data_pc = {\"cost_matrix_data\": {\"data\": {\"0\": cost_matrix_distance }},\n",
    "        \n",
    "        \"travel_time_matrix_data\": {\"data\": {\"0\": time_matrix }},        \n",
    "        \n",
    "        \"task_data\": {\"task_locations\": task_locations,\n",
    "                     \"demand\": demands,\n",
    "                      \"task_time_windows\": task_time_windows,\n",
    "                    \"service_times\":service_times,\n",
    "                      \"order_vehicle_match\": vehicle_match_list_truncated,\n",
    "                     \"prizes\": updated_prizes\n",
    "                     \n",
    "                     },\n",
    "\n",
    "        \"fleet_data\": {\"vehicle_locations\": vehicle_locations_truncated,\n",
    "                      \"capacities\": capacities_truncated,\n",
    "                       \"vehicle_time_windows\": vehicle_time_windows_truncated,\n",
    "                        \"vehicle_break_time_windows\": vehicle_break_time_windows_truncated,\n",
    "                        \"vehicle_break_durations\": vehicle_break_durations_truncated,\n",
    "                        \"vehicle_max_times\": vehicles_max_time_truncated,\n",
    "                      },\n",
    "        \n",
    "        \"solver_config\": { \"time_limit\": 10,\n",
    "                          \"objectives\": {\n",
    "                              \"cost\": 0,\n",
    "                              \"travel_time\": 0,\n",
    "                              \"variance_route_size\":0,\n",
    "                              \"variance_route_service_time\": 0,\n",
    "                              \"prize\": 10,\n",
    "                              \"vehicle_fixed_cost\": 0   \n",
    "                          }\n",
    "                         }\n",
    "       \n",
    "       }"
   ]
  },
  {
   "cell_type": "code",
   "execution_count": null,
   "id": "ca5e7212",
   "metadata": {},
   "outputs": [],
   "source": [
    "# Solve the problem\n",
    "solver_response = cuopt_service_client.get_optimized_routes(\n",
    "    cuopt_problem_data_pc\n",
    ")\n",
    "\n",
    "# Process returned data\n",
    "solver_resp = solver_response[\"response\"]\n",
    "if \"solver_response\" in solver_resp:\n",
    "    solver_resp = solver_resp[\"solver_response\"]\n",
    "else:\n",
    "    solver_resp = solver_resp[\"solver_infeasible_response\"]\n",
    "\n",
    "location_names = [str(x) for x in locations_df.index.tolist()]\n",
    "location_names = locations_df.Name.tolist()\n",
    "\n",
    "if solver_resp[\"status\"] == 0:\n",
    "    print(\"Cost for the routing in distance: \", solver_resp[\"solution_cost\"])\n",
    "    print(\"Vehicle count to complete routing: \", solver_resp[\"num_vehicles\"])\n",
    "    show_vehicle_routes(solver_resp, location_names)\n",
    "else:\n",
    "    print(\"NVIDIA cuOpt Failed to find a solution with status : \", solver_resp[\"status\"])"
   ]
  },
  {
   "cell_type": "markdown",
   "id": "5d1ac6e0",
   "metadata": {},
   "source": [
    "This time around, let's add the preferred members to our mapping data. Stops that are part of the perferred members program will have a blue pin on that map, and those that are not will have a green pin on the map. "
   ]
  },
  {
   "cell_type": "code",
   "execution_count": null,
   "id": "b230b55e",
   "metadata": {
    "scrolled": true
   },
   "outputs": [],
   "source": [
    "from IPython.display import display, Markdown, clear_output\n",
    "import ipywidgets as widgets\n",
    "from ipywidgets import interact\n",
    "\n",
    "w = widgets.Dropdown(\n",
    "    options = list(vehicles_df.index.values),\n",
    "    description='Vehicle ID:',\n",
    ")\n",
    "\n",
    "def on_change(value):\n",
    "    if str(value) in list(solver_resp['vehicle_data'].keys()):\n",
    "        if len(solver_resp[\"vehicle_data\"][str(value)]['route']) == 1:\n",
    "            l = solver_resp[\"vehicle_data\"][str(value)]['route'][0]\n",
    "            solver_resp[\"vehicle_data\"][str(value)]['route'] = [l,l]\n",
    "            # add information about prize collection\n",
    "        locations_df[\"preferred_members\"] = [0] * n_depots + prizes\n",
    "        curr_route_df = pd.DataFrame({\"stop_index\": solver_resp[\"vehicle_data\"][str(value)]['route'],\n",
    "                                      \"stop_type\":  solver_resp[\"vehicle_data\"][str(value)]['type']})        \n",
    "        curr_route_df = pd.merge(curr_route_df, locations_df, how=\"left\", left_on=[\"stop_index\"], right_on=[\"index\"])\n",
    "            \n",
    "        \n",
    "        display(get_map_by_vehicle(curr_route_df, True))        \n",
    "    else:\n",
    "        print(\"This Vehicle is not assigned to any order!!\")\n",
    "\n",
    "interact(on_change, value=w)"
   ]
  },
  {
   "cell_type": "markdown",
   "id": "aa05772f-e598-4466-8b82-41b87bd43542",
   "metadata": {},
   "source": [
    "## Objective Functions\n",
    "\n",
    "Prize Collection is one example of a solver objective. Let's look at a few more.\n",
    "\n",
    "By default, cuOpt tries to optimize on the cost (in this example, travel distance in meters). However, we can finetune the solution by changing the objectives in the `solver_config` section of our data.\n",
    "\n",
    "With the default objective values, our reponse looks like this"
   ]
  },
  {
   "cell_type": "code",
   "execution_count": null,
   "id": "88ce4e1f-f8ed-4829-aba8-7854dbd82bfc",
   "metadata": {},
   "outputs": [],
   "source": [
    "solver_response['response']['solver_response']['objective_values']"
   ]
  },
  {
   "cell_type": "markdown",
   "id": "4e1177e8-7475-43e8-943c-ec0b492e6f02",
   "metadata": {},
   "source": [
    "Let's assign minimizing the cost a heavier weight. We set <code style=\"background:lightgreen;color:black\">cost</code> to 20, an arbitrary value for the weight, while setting the rest of the objective values to `0`. Then we will look at the objective values in the solver config data. We will skip printing the routes here, but you can do so by copying the code above."
   ]
  },
  {
   "cell_type": "code",
   "execution_count": null,
   "id": "75d5b9ed-d8d9-4859-b569-bc815b902442",
   "metadata": {},
   "outputs": [],
   "source": [
    "cuopt_problem_data[\"solver_config\"][\"objectives\"]= {\n",
    "                              \"cost\": 20,\n",
    "                              \"travel_time\": 0,\n",
    "                              \"variance_route_size\":0,\n",
    "                              \"variance_route_service_time\": 0,\n",
    "                              \"prize\": 0,\n",
    "                              \"vehicle_fixed_cost\": 0  \n",
    "}"
   ]
  },
  {
   "cell_type": "code",
   "execution_count": null,
   "id": "dd69d980-fa7b-404a-90ff-d8bd2c387052",
   "metadata": {},
   "outputs": [],
   "source": [
    "# Solve the problem\n",
    "solver_response = cuopt_service_client.get_optimized_routes(\n",
    "    cuopt_problem_data\n",
    ")\n",
    "\n",
    "solver_response['response']['solver_response']['objective_values']"
   ]
  },
  {
   "cell_type": "markdown",
   "id": "031c6153-6885-42b4-94dd-4dc72cc6e247",
   "metadata": {},
   "source": [
    "Now, let's shift to minimizing travel time, rather than distance. We set <code style=\"background:lightgreen;color:black\">travel_time</code> to a positive value while the rest of the values are set to 0."
   ]
  },
  {
   "cell_type": "code",
   "execution_count": null,
   "id": "9d7f52d4-59dd-4f05-bb9f-9af1c69bc96c",
   "metadata": {},
   "outputs": [],
   "source": [
    "cuopt_problem_data[\"solver_config\"][\"objectives\"]= {\n",
    "                              \"cost\": 0,\n",
    "                              \"travel_time\": 20,\n",
    "                              \"variance_route_size\":0,\n",
    "                              \"variance_route_service_time\": 0,\n",
    "                              \"prize\": 0,\n",
    "                              \"vehicle_fixed_cost\": 0  \n",
    "}"
   ]
  },
  {
   "cell_type": "code",
   "execution_count": null,
   "id": "db6ef4f6-d2d3-4594-a99d-86d0243e079c",
   "metadata": {},
   "outputs": [],
   "source": [
    "# Solve the problem\n",
    "solver_response = cuopt_service_client.get_optimized_routes(\n",
    "    cuopt_problem_data\n",
    ")\n",
    "\n",
    "solver_response['response']['solver_response']['objective_values']"
   ]
  },
  {
   "cell_type": "markdown",
   "id": "ed437da4-155c-4cbe-a7d3-9dd4b74388fb",
   "metadata": {},
   "source": [
    "Notice how the travel time now is lower than it was earlier, since this is the value we are primarily opimizing on. Of course, this comes at the expense of distance, so the cost value is higher than it was earlier.\n",
    "\n",
    "**Note:** this doesn't have to be \"either or\". We can have positive values for both and instruct cuOpt on how to prioritize one over the other.\n",
    "\n",
    "**Note:** In this example our cost is distance in meters. When you use cuOpt for your own business use case, this could be another metric. For example, you cost could be gas usage, so you can optimize for both gas useage and time.  "
   ]
  },
  {
   "cell_type": "markdown",
   "id": "1d38b35d-1c2d-4d24-8e0c-b829ff8990b0",
   "metadata": {},
   "source": [
    "## License\n",
    "\n",
    "SPDX-FileCopyrightText: Copyright (c) 2024 NVIDIA CORPORATION & AFFILIATES. All rights reserved.\n",
    "\n",
    "SPDX-License-Identifier: MIT\n",
    "\n",
    "Permission is hereby granted, free of charge, to any person obtaining a copy of this software and associated documentation files (the \"Software\"), to deal in the Software without restriction, including without limitation the rights to use, copy, modify, merge, publish, distribute, sublicense, and/or sell copies of the Software, and to permit persons to whom the Software is furnished to do so, subject to the following conditions: The above copyright notice and this permission notice shall be included in all copies or substantial portions of the Software.\n",
    "\n",
    "THE SOFTWARE IS PROVIDED \"AS IS\", WITHOUT WARRANTY OF ANY KIND, EXPRESS OR IMPLIED, INCLUDING BUT NOT LIMITED TO THE WARRANTIES OF MERCHANTABILITY, FITNESS FOR A PARTICULAR PURPOSE AND NONINFRINGEMENT. IN NO EVENT SHALL THE AUTHORS OR COPYRIGHT HOLDERS BE LIABLE FOR ANY CLAIM, DAMAGES OR OTHER LIABILITY, WHETHER IN AN ACTION OF CONTRACT, TORT OR OTHERWISE, ARISING FROM, OUT OF OR IN CONNECTION WITH THE SOFTWARE OR THE USE OR OTHER DEALINGS IN THE SOFTWARE."
   ]
  }
 ],
 "metadata": {
  "kernelspec": {
   "display_name": "Python 3 (ipykernel)",
   "language": "python",
   "name": "python3"
  },
  "language_info": {
   "codemirror_mode": {
    "name": "ipython",
    "version": 3
   },
   "file_extension": ".py",
   "mimetype": "text/x-python",
   "name": "python",
   "nbconvert_exporter": "python",
   "pygments_lexer": "ipython3",
   "version": "3.11.9"
  }
 },
 "nbformat": 4,
 "nbformat_minor": 5
}
