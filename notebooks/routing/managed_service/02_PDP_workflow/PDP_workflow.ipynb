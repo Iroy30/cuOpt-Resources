{
 "cells": [
  {
   "cell_type": "markdown",
   "id": "eef080d8-01fe-44c7-9bb0-ffb1fec0b348",
   "metadata": {},
   "source": [
    "# step 1: Import Dependencies"
   ]
  },
  {
   "cell_type": "code",
   "execution_count": null,
   "id": "7f6cb537-043d-4e08-b229-ef271ccbf371",
   "metadata": {},
   "outputs": [],
   "source": [
    "import pandas as pd\n",
    "import requests\n",
    "import json\n",
    "\n",
    "from helper_function.helper_map import plot_order_locations, get_map_by_vehicle\n",
    "from helper_function.notebook_helpers import get_minutes_from_datetime,  show_vehicle_routes\n",
    "\n",
    "from cuopt_thin_client import CuOptServiceClient"
   ]
  },
  {
   "cell_type": "markdown",
   "id": "28765073",
   "metadata": {},
   "source": [
    "This grocery store is gaining popularity and people are placing orders. Instead of doing groceries themselves, they are getting a service like doordash so drivers can pick up their order from a selected grocery store and deliver it to their home address. \n",
    "Now, you're working as an Optimization Scientist in this company. You are given input about the customer's order, including the grocery store from which it must be picked up and their home address to which it must be delivered, their demand, depots, and the available fleet of vehicles. Again, you must calculate a route for each vehicle and ensure all orders are fulfilled while minimizing vehicles' travel time and cost. The same vehicle must handle both the pickup and delivery of the same order, and the pickup of the order must occur prior to the delivery. You can utilize cuOpt once again! All you need to do is read the input data and preprocess the data. Once all the data is ready, you save it to one dictionary and send it to cuOpt, which once again does all the hard computation for you. In this notebook, we will walk through the steps of this example."
   ]
  },
  {
   "cell_type": "markdown",
   "id": "eaea673f-52b7-44a9-bd0e-9dd8b37bab2e",
   "metadata": {},
   "source": [
    "# Read input data from CSV files\n",
    "For the Pickup and Delivery (PDP) use case, we need 3 datasets with the following features:\n",
    "\n",
    "- Depots\n",
    "    - Name\n",
    "    - Location\n",
    "    - Start and end time (operation hours)\n",
    "- Orders\n",
    "    - Order name (includes 'pickup' or 'delivery')\n",
    "    - Location\n",
    "    - Start and end time (store hours for 'pickup', customer time windows for 'dropoff')\n",
    "    - Demand (package weight and whether it is pickup or delivery)\n",
    "    - Service time\n",
    "- Vehicles\n",
    "    - Name/ID Number\n",
    "    - Vehicle type (car or bike)\n",
    "    - Start and end time (vehicle/driver shift hours)\n",
    "    - vehicle location\n",
    "    - Capacity\n",
    "    - Max distance\n",
    "    \n",
    "You may have additional features depending on the problem at hand."
   ]
  },
  {
   "cell_type": "code",
   "execution_count": null,
   "id": "22be743d-0ffa-47bf-b474-7ec4b0dec5bd",
   "metadata": {},
   "outputs": [],
   "source": [
    "DATA_PATH = \"data/\"\n",
    "\n",
    "orders_df = pd.read_csv(DATA_PATH+\"orders_pdp.csv\")\n",
    "depot_df = pd.read_csv(DATA_PATH+\"depots_pdp.csv\")\n",
    "vehicles_df = pd.read_csv(DATA_PATH+\"vehicles_pdp.csv\")"
   ]
  },
  {
   "cell_type": "code",
   "execution_count": null,
   "id": "7cd30cd0-23ba-4d85-867a-895b74b92c61",
   "metadata": {},
   "outputs": [],
   "source": [
    "n_depots = len(depot_df.index)\n",
    "n_orders = len(orders_df.index)\n",
    "n_vehicles = len(vehicles_df.index)\n",
    "\n",
    "n_loc_total = n_orders + n_depots"
   ]
  },
  {
   "cell_type": "code",
   "execution_count": null,
   "id": "040fee07-3936-4a70-9f17-b5f7a75567a7",
   "metadata": {},
   "outputs": [],
   "source": [
    "locations_df = pd.concat([orders_df, depot_df]).reset_index(drop=True)"
   ]
  },
  {
   "cell_type": "markdown",
   "id": "50645f74-dd9b-4e05-b737-4f10d67b138f",
   "metadata": {},
   "source": [
    "# Create Cost Matrices\n",
    "\n",
    "The <code style=\"background:lightgreen;color:black\">cost_matrix</code> models the cost between each pair of locations.  It is used by cuOpt to compute the cost of traveling from any location to any other. The cost matrix needs to be a square matrix of dimension equal to the total number of locations which inlcludes both depots and orders. In this Vehicle Routing Problem, our cost metric is travel time. This is cost we want to minimize. \n",
    "\n",
    "To build a a cost matrix of live traffic data, we need to use a third party map data provider. In this workflow, the cost matrix will calculate the travel time in minutes between each two pairs of locations which we build using OSRM. \n",
    "\n",
    "In this PDP use case we have a <code style=\"background:lightgreen;color:black\">mixed_fleet</code> consisting of two different types of vehicles: cars and bikes. We can imagine that these two different types of vehicles have different travel time in the crowded streets of NYC. A car is more likely to be stuck in traffic whereas a bike can bypass it. We create a different cost matrix for each vehicle type"
   ]
  },
  {
   "cell_type": "code",
   "execution_count": null,
   "id": "7378d11e-3ea8-4230-814e-88b9b4563110",
   "metadata": {},
   "outputs": [],
   "source": [
    "def build_time_cost_matrix(df, vehicle_type):\n",
    "    latitude = df[\"Latitude\"].to_numpy()\n",
    "    longitude = df[\"Longitude\"].to_numpy()\n",
    "    \n",
    "    locations=\"\"\n",
    "    n_orders = len(df)\n",
    "    for i in range(n_orders):\n",
    "        locations = locations + \"{},{};\".format(longitude[i], latitude[i])\n",
    "    r = requests.get(\"http://router.project-osrm.org/table/v1/\" + vehicle_type + \"/\" + locations[:-1])\n",
    "    routes = json.loads(r.content)\n",
    "    \n",
    "    # OSRM returns duration in seconds. Here we are converting to minutes\n",
    "    for i in routes['durations']:\n",
    "        i[:] = [x / 60 for x in i]\n",
    "    \n",
    "    coords_index = { i: (latitude[i], longitude[i]) for i in range(df.shape[0])}\n",
    "    time_matrix = pd.DataFrame(routes['durations'])\n",
    "    \n",
    "    return time_matrix"
   ]
  },
  {
   "cell_type": "code",
   "execution_count": null,
   "id": "34862e75-0778-4757-bb17-4fe0204d2e70",
   "metadata": {},
   "outputs": [],
   "source": [
    "bike_cost_matrix_df = build_time_cost_matrix(locations_df, \"bike\") "
   ]
  },
  {
   "cell_type": "code",
   "execution_count": null,
   "id": "9c915622-52a4-464c-9b7e-72bf20e257ec",
   "metadata": {},
   "outputs": [],
   "source": [
    "car_cost_matrix_df = build_time_cost_matrix(locations_df, \"car\") "
   ]
  },
  {
   "cell_type": "markdown",
   "id": "ee71e2f1-15b1-4829-a6a5-2f025fa0130c",
   "metadata": {},
   "source": [
    "# Visualize the locations\n",
    "\n",
    "Before we use cuOpt to calculate the optimal routes, let's map all the locations.\n",
    "\n",
    "In the map below, the depot is symbolized by the gray pin. The green pins are the pickup locations and the blue pins are delivery locations. "
   ]
  },
  {
   "cell_type": "code",
   "execution_count": null,
   "id": "6e45f6c2-9669-4a9e-8f24-4d82de39bbed",
   "metadata": {},
   "outputs": [],
   "source": [
    "plot_order_locations(locations_df, pdp=1)"
   ]
  },
  {
   "cell_type": "markdown",
   "id": "5b201c59-0101-4e32-aed8-5ad92afc5be0",
   "metadata": {},
   "source": [
    "## Set task data"
   ]
  },
  {
   "cell_type": "markdown",
   "id": "162a7bcf-01c0-43c6-85af-fddc28c526f8",
   "metadata": {},
   "source": [
    "Here we take our raw data from the csv file and convert it into data that we can send to the cuOpt solver.\n",
    "\n",
    "\n",
    "\n",
    "\n",
    "\n"
   ]
  },
  {
   "cell_type": "markdown",
   "id": "5a53ec0c",
   "metadata": {},
   "source": [
    "<code style=\"background:lightgreen;color:black\">pickup_and_delivery_pairs</code> is a list that maps a pickup order to its corresponding delivery order. "
   ]
  },
  {
   "cell_type": "code",
   "execution_count": null,
   "id": "8bc4e9d4-1e9d-49e8-8588-6e510aebe53a",
   "metadata": {},
   "outputs": [],
   "source": [
    "npair_orders = int(len(orders_df)/2)\n",
    "pickup_locations = [i for i in range(npair_orders)]\n",
    "delivery_locations = [i + npair_orders for i in range(npair_orders)]\n",
    "\n",
    "pickup_and_delivery_pairs = list(zip(pickup_locations, delivery_locations))"
   ]
  },
  {
   "cell_type": "markdown",
   "id": "5af5667f",
   "metadata": {},
   "source": [
    "<code style=\"background:lightgreen;color:black\">task_locations</code> is the list of locations to which orders must be picked up from and then delivered to.\n"
   ]
  },
  {
   "cell_type": "code",
   "execution_count": null,
   "id": "66ab6c0e-751a-44e7-b9fe-769b774f2ed7",
   "metadata": {},
   "outputs": [],
   "source": [
    "all_task_locations = pickup_locations + delivery_locations"
   ]
  },
  {
   "cell_type": "markdown",
   "id": "c81822f3",
   "metadata": {},
   "source": [
    "<code style=\"background:lightgreen;color:black\">task_time_windows</code> is the list of integer representation of opening hours for each store for 'pickup', and customer indicated time windows for 'dropoff'. We convert the UTC timestamp to epoch time (integer representation in minutes)."
   ]
  },
  {
   "cell_type": "code",
   "execution_count": null,
   "id": "8b04214d",
   "metadata": {},
   "outputs": [],
   "source": [
    "# Earliest a delivery can be made\n",
    "order_tw_earliest = orders_df['delivery_start'].apply(get_minutes_from_datetime)\n",
    "# Latest a delivery can be made\n",
    "order_tw_latest = orders_df['delivery_end'].apply(get_minutes_from_datetime)\n",
    "\n",
    "task_time_windows = list(zip(order_tw_earliest, order_tw_latest)) "
   ]
  },
  {
   "cell_type": "markdown",
   "id": "fb9c3597",
   "metadata": {},
   "source": [
    "<code style=\"background:lightgreen;color:black\">service_times</code> is the list of the length of time for orders to be picked up or dropped off once the vehicle reaches the location. Here, these values are between 15 and 30 minutes."
   ]
  },
  {
   "cell_type": "code",
   "execution_count": null,
   "id": "acae86ac-1d82-4f18-8956-4be30e310b77",
   "metadata": {},
   "outputs": [],
   "source": [
    "service_time = orders_df['service_time'].values.tolist()"
   ]
  },
  {
   "cell_type": "markdown",
   "id": "6016ab8a",
   "metadata": {},
   "source": [
    "<code style=\"background:lightgreen;color:black\">demand</code> is the list of weight demand for each order. Here, these values are between 15 and 40 pounds."
   ]
  },
  {
   "cell_type": "code",
   "execution_count": null,
   "id": "c1562691-e709-4d74-8460-60b606057925",
   "metadata": {},
   "outputs": [],
   "source": [
    "order_demand = [[int(a) for a in orders_df['order_wt'].values.tolist()]]"
   ]
  },
  {
   "cell_type": "markdown",
   "id": "44dd544e-0011-4cd4-8959-8f87d5107bb2",
   "metadata": {},
   "source": [
    "## Set fleet data\n",
    "\n",
    "Here we take our raw data from the csv file and convert it into data that we can send to the cuOpt solver.\n",
    "\n",
    "<code style=\"background:lightgreen;color:black\">vehicle_locations</code> is a list of the start and end location of the vehicles. In this example, we only have one depot so all the vehicles will start and end in the same location. "
   ]
  },
  {
   "cell_type": "code",
   "execution_count": null,
   "id": "006d662d-6122-4899-968e-76f4219dd52a",
   "metadata": {},
   "outputs": [],
   "source": [
    "vehicle_locations = list(zip(([len(orders_df)]*len(vehicles_df)), ([len(orders_df)]*len(vehicles_df))))"
   ]
  },
  {
   "cell_type": "markdown",
   "id": "5a938eb5",
   "metadata": {},
   "source": [
    "<code style=\"background:lightgreen;color:black\">vehicle_time_windows</code> is a list of the integer representation of the operating time of each vehicle. Equivalently, the shift of each vehicle driver. We convert the UTC timestamp to epoch time (integer representation in minutes).\n"
   ]
  },
  {
   "cell_type": "code",
   "execution_count": null,
   "id": "bed0f177-458d-4091-8d23-07b04621d81b",
   "metadata": {},
   "outputs": [],
   "source": [
    "vehicles_df['vehicle_start_in_minutes'] = vehicles_df['vehicle_start'].apply(get_minutes_from_datetime)\n",
    "vehicles_df['vehicle_end_in_minutes'] = vehicles_df['vehicle_end'].apply(get_minutes_from_datetime)\n",
    "\n",
    "# Earliest a vehicle can start \n",
    "v_tw_earliest = vehicles_df['vehicle_start_in_minutes']\n",
    "\n",
    "# Latest a vehicle will be working\n",
    "v_tw_latest = vehicles_df['vehicle_end_in_minutes']\n",
    "\n",
    "vehicle_time_windows = list(zip(v_tw_earliest, v_tw_latest)) "
   ]
  },
  {
   "cell_type": "markdown",
   "id": "d890a1ab",
   "metadata": {},
   "source": [
    "<code style=\"background:lightgreen;color:black\">capacities</code> is a list of how many orders each vehicle can carry in weight. In this example, a car can carry 800 lb and a bike can carry 50 lb."
   ]
  },
  {
   "cell_type": "code",
   "execution_count": null,
   "id": "ff13f3b4-bb8e-4939-af7f-3298f6ec345f",
   "metadata": {},
   "outputs": [],
   "source": [
    "vehicle_capacity = [vehicles_df['vehicle_capacity'].values.tolist()]"
   ]
  },
  {
   "cell_type": "markdown",
   "id": "32952758",
   "metadata": {},
   "source": [
    "<code style=\"background:lightgreen;color:black\">vehicle_types</code> is a list that indicates whether each vehicle is a car or a bike. "
   ]
  },
  {
   "cell_type": "code",
   "execution_count": null,
   "id": "d277773c-10b2-4ae2-a472-ec682c937650",
   "metadata": {},
   "outputs": [],
   "source": [
    "vehicle_type_map = {\"car\":0, \"bike\":1}\n",
    "vehicle_types = vehicles_df[\"vehicle_type\"].replace(vehicle_type_map).tolist()"
   ]
  },
  {
   "cell_type": "markdown",
   "id": "d9887ac5-916b-4e42-bd40-da15b1de2636",
   "metadata": {},
   "source": [
    "## Set solver configuration\n",
    "\n",
    "Before we send our data to the cuOpt solver, we will add a configuration setting.\n",
    "\n",
    "<code style=\"background:lightgreen;color:black\">time_limit</code> is the maximum time allotted to find a solution. This depends on the user, who has the flexibility of setting a higher time‑limit for better results. \n",
    "\n",
    "The cuOpt solver does not interrupt the initial solution. So if the user specifies a shorter time than it takes for the initial solution, the initial solution is returned when it is computed."
   ]
  },
  {
   "cell_type": "code",
   "execution_count": null,
   "id": "49685139-d80a-43c1-8a69-0b1c07df94ee",
   "metadata": {},
   "outputs": [],
   "source": [
    "# Set the time limit for solver to run\n",
    "time_limit = 1.0"
   ]
  },
  {
   "cell_type": "markdown",
   "id": "214e6b08-fd59-4c02-8b56-2f91c549c99b",
   "metadata": {},
   "source": [
    "## Save data in a dictionary\n",
    "\n",
    "Here, we take all the data we have prepared so far and save it to one dictionary. This includes the cost matrices, task data, fleet data, and solver config. This is all the data that cuOpt needs to solve our PDP problem. "
   ]
  },
  {
   "cell_type": "code",
   "execution_count": null,
   "id": "946de6a8",
   "metadata": {},
   "outputs": [],
   "source": [
    "cuopt_problem_data = {\n",
    "    \"cost_matrix_data\": {\n",
    "        \"data\": {\n",
    "            \"0\": car_cost_matrix_df.to_numpy().tolist(),\n",
    "            \"1\": bike_cost_matrix_df.to_numpy().tolist()\n",
    "        }\n",
    "    },\n",
    "    \"task_data\": {\n",
    "        \"task_locations\": all_task_locations,\n",
    "        \"pickup_and_delivery_pairs\": pickup_and_delivery_pairs,\n",
    "        \"task_time_windows\": task_time_windows,\n",
    "        \"service_times\": service_time,\n",
    "        \"demand\": order_demand,\n",
    "    },\n",
    "    \"fleet_data\": {\n",
    "        \"vehicle_locations\": vehicle_locations,\n",
    "        \"capacities\": vehicle_capacity,\n",
    "        \"vehicle_time_windows\": vehicle_time_windows,\n",
    "        \"vehicle_types\": vehicle_types,\n",
    "    },\n",
    "    \"solver_config\": {\n",
    "        \"time_limit\": time_limit,\n",
    "    }\n",
    "}"
   ]
  },
  {
   "cell_type": "markdown",
   "id": "4b5613ac",
   "metadata": {},
   "source": [
    "## Create a Service Client Instance\n",
    "\n",
    "Now that we have prepared all of our data, we can establish a connection to the cuOpt service. \n",
    "\n",
    "In the cell below, there is a place to paste a client SAK (Starfleet API Key) which you can generate from the NGC console. In this lab, you do not need to provide it.\n",
    "\n",
    "Here, we create an instance of the cuOpt Service Client to establish a connection. \n"
   ]
  },
  {
   "cell_type": "code",
   "execution_count": null,
   "id": "cf3df9ef",
   "metadata": {},
   "outputs": [],
   "source": [
    "# Currently this notebook works with spoofed SAK and FUNCTION ID, but users need to use their own SAK and FUNCTION ID if\n",
    "# they are going to run this notebook in their local environment\n",
    "\n",
    "cuopt_client_sak = \"<YOUR CLIENT SAK>\"\n",
    "\n",
    "cuopt_service_client = CuOptServiceClient(\n",
    "    sak=cuopt_client_sak,\n",
    "    function_id=\"<FUNCTION_ID_OBTAINED_FROM_NGC>\"\n",
    "    )"
   ]
  },
  {
   "cell_type": "markdown",
   "id": "3b601c14",
   "metadata": {},
   "source": [
    "## Send data to the cuOpt service and get the routes\n",
    "\n",
    "When using the cuOpt Managed Service, we send all the data in a single call and wait for the response."
   ]
  },
  {
   "cell_type": "code",
   "execution_count": null,
   "id": "b8e709a3",
   "metadata": {},
   "outputs": [],
   "source": [
    "# Solve the problem\n",
    "solver_response = cuopt_service_client.get_optimized_routes(\n",
    "    cuopt_problem_data\n",
    ")\n",
    "\n",
    "# Process returned data\n",
    "solver_resp = solver_response[\"response\"]\n",
    "if \"solver_response\" in solver_resp:\n",
    "    solver_resp = solver_resp[\"solver_response\"]\n",
    "else:\n",
    "    solver_resp = solver_resp[\"solver_infeasible_response\"]\n",
    "solver_resp = solver_response[\"response\"][\"solver_response\"]\n",
    "\n",
    "location_names = locations_df['name'].values.tolist()\n",
    "\n",
    "if solver_resp[\"status\"] == 0:\n",
    "    print(\"Cost for the routing in distance: \", solver_resp[\"solution_cost\"])\n",
    "    print(\"Vehicle count to complete routing: \", solver_resp[\"num_vehicles\"])\n",
    "    show_vehicle_routes(solver_resp, location_names)\n",
    "else:\n",
    "    print(\"NVIDIA cuOpt Failed to find a solution with status : \", solver_resp[\"status\"])"
   ]
  },
  {
   "cell_type": "markdown",
   "id": "787fb257",
   "metadata": {},
   "source": [
    "## Visualize the routes\n",
    "\n",
    "In this example, not all vehicles are dispatched. It is possible that vehicle 0 is not dispatched but vehicle 1 is.  \n",
    "\n",
    "In the drop down menu below, you can select different vehicle ID's to see if they are dispatched. If they are, we print their assigned route on a map. \n",
    "\n",
    "Generating a route and map uses third party tools and takes about 30 seconds to run. "
   ]
  },
  {
   "cell_type": "code",
   "execution_count": null,
   "id": "5d259c75",
   "metadata": {},
   "outputs": [],
   "source": [
    "from IPython.display import display, Markdown, clear_output\n",
    "import ipywidgets as widgets\n",
    "from ipywidgets import interact\n",
    "\n",
    "w = widgets.Dropdown(\n",
    "    options = list(vehicles_df.index.values),\n",
    "    description='Vehicle ID:',\n",
    ")\n",
    "\n",
    "def on_change(value):\n",
    "    if str(value) in list(solver_resp['vehicle_data'].keys()):\n",
    "        if len(solver_resp[\"vehicle_data\"][str(value)]['route']) == 1:\n",
    "            l = solver_resp[\"vehicle_data\"][str(value)]['route'][0]\n",
    "            solver_resp[\"vehicle_data\"][str(value)]['route'] = [l,l]\n",
    "        curr_route_df = pd.DataFrame(solver_resp[\"vehicle_data\"][str(0)]['route'], columns=[\"stop_index\"])\n",
    "        curr_route_df = pd.merge(curr_route_df, locations_df, how=\"left\", left_on=[\"stop_index\"], right_on=[locations_df.index])\n",
    "        display(get_map_by_vehicle(curr_route_df))        \n",
    "    else:\n",
    "        print(\"This Vehicle is not assigned to any order!\")\n",
    "\n",
    "interact(on_change, value=w) "
   ]
  },
  {
   "cell_type": "markdown",
   "id": "ab10f50e-e364-43d7-9ff7-a14dc9537528",
   "metadata": {},
   "source": [
    "## License\n",
    "\n",
    "SPDX-FileCopyrightText: Copyright (c) 2024 NVIDIA CORPORATION & AFFILIATES. All rights reserved.\n",
    "\n",
    "SPDX-License-Identifier: MIT \n",
    "\n",
    "Permission is hereby granted, free of charge, to any person obtaining a copy of this software and associated documentation files (the \"Software\"), to deal in the Software without restriction, including without limitation the rights to use, copy, modify, merge, publish, distribute, sublicense, and/or sell copies of the Software, and to permit persons to whom the Software is furnished to do so, subject to the following conditions: The above copyright notice and this permission notice shall be included in all copies or substantial portions of the Software.\n",
    "\n",
    "THE SOFTWARE IS PROVIDED \"AS IS\", WITHOUT WARRANTY OF ANY KIND, EXPRESS OR IMPLIED, INCLUDING BUT NOT LIMITED TO THE WARRANTIES OF MERCHANTABILITY, FITNESS FOR A PARTICULAR PURPOSE AND NONINFRINGEMENT. IN NO EVENT SHALL THE AUTHORS OR COPYRIGHT HOLDERS BE LIABLE FOR ANY CLAIM, DAMAGES OR OTHER LIABILITY, WHETHER IN AN ACTION OF CONTRACT, TORT OR OTHERWISE, ARISING FROM, OUT OF OR IN CONNECTION WITH THE SOFTWARE OR THE USE OR OTHER DEALINGS IN THE SOFTWARE."
   ]
  }
 ],
 "metadata": {
  "kernelspec": {
   "display_name": "Python 3 (ipykernel)",
   "language": "python",
   "name": "python3"
  },
  "language_info": {
   "codemirror_mode": {
    "name": "ipython",
    "version": 3
   },
   "file_extension": ".py",
   "mimetype": "text/x-python",
   "name": "python",
   "nbconvert_exporter": "python",
   "pygments_lexer": "ipython3",
   "version": "3.11.9"
  }
 },
 "nbformat": 4,
 "nbformat_minor": 5
}
