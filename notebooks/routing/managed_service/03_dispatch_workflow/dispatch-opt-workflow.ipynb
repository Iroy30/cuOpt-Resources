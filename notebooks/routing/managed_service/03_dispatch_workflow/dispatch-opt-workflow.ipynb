{
 "cells": [
  {
   "cell_type": "markdown",
   "id": "03a2f04e",
   "metadata": {},
   "source": [
    "## Import dependencies"
   ]
  },
  {
   "cell_type": "code",
   "execution_count": null,
   "id": "cfc83aad",
   "metadata": {},
   "outputs": [],
   "source": [
    "import pandas as pd\n",
    "import requests\n",
    "import json\n",
    "import random\n",
    "\n",
    "\n",
    "from helper_function.notebook_helpers import show_vehicle_routes, get_minutes_from_datetime\n",
    "from helper_function.map_helpers import get_map_by_vehicle\n",
    "\n",
    "from cuopt_thin_client import CuOptServiceClient"
   ]
  },
  {
   "cell_type": "markdown",
   "id": "d274393c",
   "metadata": {},
   "source": [
    "Finally, suppose you are working at a company for grocery store fridge installation and maintenance. Once again, you are working with the same grocery stores. Some of the grocery stores are new so they have put in a request to install fridges. Some of the stores already have fridges but request some sort of maintenance. Given input data about stores' service requests and the available fleet of vehicles, it is your job to calculate the route for each vehicle such that all service requests are fulfilled while minimizing vehicles' travel time and cost. In this notebook, we will walk through the data preprocessing steps needed in order to utilize cuOpt for this use case. "
   ]
  },
  {
   "cell_type": "markdown",
   "id": "327d93b2",
   "metadata": {},
   "source": [
    "## Read input data from CSV files"
   ]
  },
  {
   "cell_type": "markdown",
   "id": "4e2f06bb",
   "metadata": {},
   "source": [
    "For a Dispatch Optimization problem, we need 3 datasets with the following features:\n",
    "\n",
    "- Depots\n",
    "    - Name\n",
    "    - Location\n",
    "    - Start and end time (operation hours)\n",
    "\n",
    "- Orders\n",
    "    - Location\n",
    "    - Start and end time (customer indicated time window)\n",
    "    - Demand (service type- either install or maintenance)\n",
    "\n",
    "- Vehicles\n",
    "    - Name/ID Number\n",
    "    - Start and end depot name\n",
    "    - Start and end time (vehicle/driver shift hours)\n",
    "    - Capacity (in this problem is given in time- how long a driver can work for)\n",
    "    - Vehicle skills (whether this driver can provide install or maintenance service)\n",
    "\n"
   ]
  },
  {
   "cell_type": "markdown",
   "id": "3961bd53-8dd8-4dd9-be82-904788b8c828",
   "metadata": {},
   "source": [
    "You may have additional features depending on the problem at hand."
   ]
  },
  {
   "cell_type": "code",
   "execution_count": null,
   "id": "98067624",
   "metadata": {},
   "outputs": [],
   "source": [
    "depots_df = pd.read_csv('data/depots_do.csv')\n",
    "orders_df = pd.read_csv('data/orders_do.csv')\n",
    "vehicles_df = pd.read_csv('data/vehicles_do.csv')"
   ]
  },
  {
   "cell_type": "code",
   "execution_count": null,
   "id": "1377201a-aed2-4289-9afb-fa010549c232",
   "metadata": {},
   "outputs": [],
   "source": [
    "n_depots = len(depots_df.index)\n",
    "n_orders = len(orders_df.index)\n",
    "n_vehicles = len(vehicles_df.index)\n",
    "\n",
    "n_loc_total = n_orders + n_depots"
   ]
  },
  {
   "cell_type": "code",
   "execution_count": null,
   "id": "3f7410c2-ab27-4e34-a1ec-be7a0a81ebbe",
   "metadata": {},
   "outputs": [],
   "source": [
    "locations_df = (pd.concat([depots_df[[\"Name\",\"Longitude\",\"Latitude\"]], orders_df[[\"Name\",\"Longitude\",\"Latitude\"]]], ignore_index=True)).reset_index()"
   ]
  },
  {
   "cell_type": "markdown",
   "id": "2367a719",
   "metadata": {},
   "source": [
    "# Create cost matrices"
   ]
  },
  {
   "cell_type": "markdown",
   "id": "bc3193e7",
   "metadata": {},
   "source": [
    "### Cost Matrix - Distance \n",
    "\n",
    "For our primary <code style=\"background:lightgreen;color:black\">cost_matrix</code>, we will use travel distance. In practical applications, you can integrate this to a third-party map data provider like Esri or Google Maps to get live traffic data and run dynamic/real-time re-routing using cuOpt.\n",
    "\n",
    "We've already created this cost matrix using Google API and saved it as a csv so you can easily read it from the csv file.\n",
    "\n",
    "If you want to build the cost matrix on your own, or if you are working with your own data, refer to the [LMD notebook](../01_LMD_workflow/LMD_workflow.ipynb)\n"
   ]
  },
  {
   "cell_type": "code",
   "execution_count": null,
   "id": "2a75dbdd",
   "metadata": {},
   "outputs": [],
   "source": [
    "import pandas as pd\n",
    "\n",
    "df = pd.read_csv('data/cost_matrix_distance.csv', header=None)\n",
    "cost_matrix_distance = df.astype(int).values.tolist()"
   ]
  },
  {
   "cell_type": "markdown",
   "id": "33f3f316",
   "metadata": {},
   "source": [
    "### Cost Matrix - Time\n",
    "\n",
    "Next, let's create the <code style=\"background:lightgreen;color:black\">travel_time_matrix</code>.\n",
    "We already have travel time data from Google Maps API (this data is in the 'durations in sections' column in our output dataframe. However, let's take a look at using a different tool for this. We will use OSRM to calculate the travel time in minutes between each two pairs of locations which. \n",
    "\n",
    "[OSRM](https://project-osrm.org/) is a free and open and open source routing engine, which we will use for route mapping and visualization later on. \n"
   ]
  },
  {
   "cell_type": "code",
   "execution_count": null,
   "id": "54d9509f",
   "metadata": {},
   "outputs": [],
   "source": [
    "latitude = locations_df.Latitude.to_numpy()\n",
    "longitude = locations_df.Longitude.to_numpy()\n",
    "    \n",
    "locations=\"\"\n",
    "n_orders = len(locations_df)\n",
    "for i in range(n_orders):\n",
    "    locations = locations + \"{},{};\".format(longitude[i], latitude[i])\n",
    "r = requests.get(\"http://router.project-osrm.org/table/v1/car/\"+ locations[:-1])\n",
    "routes = json.loads(r.content)\n",
    "    \n",
    "# OSRM returns duration in seconds. Here we are converting to minutes\n",
    "for i in routes['durations']:\n",
    "    i[:] = [x / 60 for x in i]\n",
    "    \n",
    "coords_index = { i: (latitude[i], longitude[i]) for i in range(df.shape[0])}\n",
    "time_matrix_df = pd.DataFrame(routes['durations'])\n",
    "time_matrix = time_matrix_df.values.tolist()"
   ]
  },
  {
   "cell_type": "markdown",
   "id": "87dbc6d9",
   "metadata": {},
   "source": [
    "### Set fleet data"
   ]
  },
  {
   "cell_type": "markdown",
   "id": "1ee272e2",
   "metadata": {},
   "source": [
    "Here we take our raw data from the csv file and convert it into data that we can send to the cuOpt solver.\n",
    "\n",
    "<code style=\"background:lightgreen;color:black\">vehicle_locations</code> is a list of the start and end location of the vehicles. For example, a vehicle that starts and ends in depot 1 which is the location at index 0 would have the vehicle location of [0,0]. While each vehicle has an assigned location, in this use case, drivers may start and end their shift wherever they'd like. For example, they might wake up at home in the morning and go directly to their first task. Similarly, at the end of the day, they might finish their last task and go straight home without stopping in their depot. To represent this, we pass an array of booleans for <code style=\"background:lightgreen;color:black\">skip_first_trips</code> and <code style=\"background:lightgreen;color:black\">skip_last_trips</code>, where the value is True for all vehicles"
   ]
  },
  {
   "cell_type": "code",
   "execution_count": null,
   "id": "f9cdc911",
   "metadata": {},
   "outputs": [],
   "source": [
    "depot_names_to_indices_dict = {locations_df[\"Name\"].values.tolist()[i]: i for i in range(n_depots)}\n",
    "vehicle_locations = vehicles_df[[\"assigned_depot\",\"assigned_depot\"]].replace(depot_names_to_indices_dict).values.tolist()"
   ]
  },
  {
   "cell_type": "code",
   "execution_count": null,
   "id": "1b76291d-e6f1-4086-9a46-2cca5ad71889",
   "metadata": {},
   "outputs": [],
   "source": [
    "skip_first_trips = [True]*n_vehicles\n",
    "drop_return_trips = [True]*n_vehicles"
   ]
  },
  {
   "cell_type": "markdown",
   "id": "58f4b723",
   "metadata": {},
   "source": [
    "<code style=\"background:lightgreen;color:black\">vehicle_time_windows</code> is a list of the integer representation of the operating time of each vehicle. Equivalently, the shift of each vehicle driver. We convert the UTC timestamp to epoch time (integer representation in minutes)."
   ]
  },
  {
   "cell_type": "code",
   "execution_count": null,
   "id": "f0520835",
   "metadata": {},
   "outputs": [],
   "source": [
    "vehicle_time_windows = pd.concat((vehicles_df['vehicle_start'].apply(get_minutes_from_datetime).to_frame(), vehicles_df['vehicle_end'].apply(get_minutes_from_datetime).to_frame()), axis=1).values.tolist()"
   ]
  },
  {
   "cell_type": "markdown",
   "id": "d0159fbf",
   "metadata": {},
   "source": [
    "<code style=\"background:lightgreen;color:black\">vehicle_max_times</code> is the maximum length of a shift a driver should work. For example, a driver might be available to work for 9 hours in a day but a shift should not exceed 6 hours, such that the driver will work 6 out of these 9 hours."
   ]
  },
  {
   "cell_type": "code",
   "execution_count": null,
   "id": "bcf93221",
   "metadata": {},
   "outputs": [],
   "source": [
    "vehicle_max_times = vehicles_df['vehicle_capacity'].values.tolist()"
   ]
  },
  {
   "cell_type": "markdown",
   "id": "49c9a0d3",
   "metadata": {},
   "source": [
    "### Set task data\n"
   ]
  },
  {
   "cell_type": "markdown",
   "id": "16fc19fb",
   "metadata": {},
   "source": [
    "Here we take our raw data from the csv file and convert it into data that we can send to the cuOpt solver.\n",
    "\n",
    "<code style=\"background:lightgreen;color:black\">task_locations</code> is the locations where customers have requested service. "
   ]
  },
  {
   "cell_type": "code",
   "execution_count": null,
   "id": "70417939",
   "metadata": {},
   "outputs": [],
   "source": [
    "task_locations = locations_df.index.tolist()[n_depots:]"
   ]
  },
  {
   "cell_type": "markdown",
   "id": "763a4c17",
   "metadata": {},
   "source": [
    "<code style=\"background:lightgreen;color:black\">task_time_windows</code> is the list of integer representation of the customer indicated time window in which the service provider can come to deliver the requested service. "
   ]
  },
  {
   "cell_type": "code",
   "execution_count": null,
   "id": "36ed75d3",
   "metadata": {},
   "outputs": [],
   "source": [
    "task_time_windows = pd.concat((orders_df['order_start_time'].apply(get_minutes_from_datetime).to_frame(), orders_df['order_end_time'].apply(get_minutes_from_datetime).to_frame()), axis=1).values.tolist()"
   ]
  },
  {
   "cell_type": "markdown",
   "id": "9424a974",
   "metadata": {},
   "source": [
    "<code style=\"background:lightgreen;color:black\">demand_time</code> is the list of the length of time it takes for each service to be fulfilled. We let install service be 60 minutes, and maintenance service be 120 minutes."
   ]
  },
  {
   "cell_type": "code",
   "execution_count": null,
   "id": "a980d336-e2a9-4254-a326-91e83d756f5d",
   "metadata": {},
   "outputs": [],
   "source": [
    "demand_service_time = {\"install\":60, \"maintenance\":90}\n",
    "demand_time = orders_df[\"service\"].replace(demand_service_time).tolist()"
   ]
  },
  {
   "cell_type": "markdown",
   "id": "1f73c1a4",
   "metadata": {},
   "source": [
    "<code style=\"background:lightgreen;color:black\">order_vehicle_match</code> is a list of dictionaries that map which vehicles can provide the service requested in each location. Some vehicles can provide install service, some can provide maintenance service, and some can do both. For a task that has requested install service, we want to assign all the vehicles that can fulfill this type of request."
   ]
  },
  {
   "cell_type": "code",
   "execution_count": null,
   "id": "941e1c69-6aba-4bc2-8b99-11cc535f72c0",
   "metadata": {},
   "outputs": [],
   "source": [
    "install_tech_ids = vehicles_df['install_service'][vehicles_df['install_service']==1].index.values.tolist()\n",
    "maintenance_tech_ids = vehicles_df['maintenance_service'][vehicles_df['maintenance_service']==1].index.values.tolist()"
   ]
  },
  {
   "cell_type": "code",
   "execution_count": null,
   "id": "1bb9b74e-33f9-427a-9b79-1b2338d27328",
   "metadata": {},
   "outputs": [],
   "source": [
    "vehicle_match_list = []\n",
    "\n",
    "for i in range(len(orders_df['service'].index)):\n",
    "    if orders_df['service'][i] == 'install':\n",
    "        vehicle_match_list.append({\"order_id\": i, \"vehicle_ids\": install_tech_ids})\n",
    "    if orders_df['service'][i] == 'maintenance':\n",
    "        vehicle_match_list.append({\"order_id\": i, \"vehicle_ids\": maintenance_tech_ids}) \n"
   ]
  },
  {
   "cell_type": "markdown",
   "id": "84383472",
   "metadata": {},
   "source": [
    "### Set Solver configuration\n",
    "\n",
    "Before we send our data to the cuOpt solver, we will add two configuration settings.\n",
    "\n",
    "<code style=\"background:lightgreen;color:black\">time_limit</code> is the maximum time allotted to find a solution. This depends on the user, who has the flexibility of setting a higher time‑limit for better results. The cuOpt solver does not interrupt the initial solution. So if the user specifies a shorter time than it takes for the initial solution, the initial solution is returned when it is computed."
   ]
  },
  {
   "cell_type": "code",
   "execution_count": null,
   "id": "da3d8294",
   "metadata": {},
   "outputs": [],
   "source": [
    "# Set the time limit \n",
    "\n",
    "time_limit = 1.0"
   ]
  },
  {
   "cell_type": "markdown",
   "id": "71afd7ad",
   "metadata": {},
   "source": [
    "## Save data in a dictionary\n",
    "\n",
    "Here, we take all the data we have prepared so far and save it to one dictionary. This includes the cost matrices, task data, fleet data, and solver config. This is all the data that cuOpt needs to solve our dispatch optimization problem. "
   ]
  },
  {
   "cell_type": "code",
   "execution_count": null,
   "id": "a587efe2",
   "metadata": {},
   "outputs": [],
   "source": [
    "cuopt_problem_data = {\n",
    "    \"cost_matrix_data\": {\n",
    "        \"data\": {\n",
    "            \"0\": cost_matrix_distance\n",
    "        }\n",
    "    },\n",
    "    \"travel_time_matrix_data\": {\n",
    "        \"data\": {\n",
    "            \"0\": time_matrix\n",
    "        }\n",
    "    },\n",
    "    \"task_data\": {\n",
    "        \"task_locations\": task_locations,\n",
    "        \"task_time_windows\": task_time_windows,\n",
    "        \"service_times\": demand_time,\n",
    "        \"order_vehicle_match\": vehicle_match_list,\n",
    "    },\n",
    "    \"fleet_data\": {\n",
    "        \"vehicle_locations\": vehicle_locations,\n",
    "        \"skip_first_trips\" : skip_first_trips,\n",
    "        \"drop_return_trips\": drop_return_trips,\n",
    "        \"vehicle_max_times\": vehicle_max_times,\n",
    "        \"vehicle_time_windows\": vehicle_time_windows,\n",
    "    },\n",
    "    \"solver_config\": {\n",
    "        \"time_limit\": time_limit,\n",
    "    }\n",
    "}"
   ]
  },
  {
   "cell_type": "markdown",
   "id": "232575f7",
   "metadata": {},
   "source": [
    "## Create a Service Client Instance\n",
    "\n",
    "Now that we have prepared all of our data, we can establish a connection to the cuOpt service. \n",
    "\n",
    "In the cell below, there is a place to paste a client SAK (Starfleet API Key) which you can generate from the NGC console. In this lab, you do not need to provide it.\n",
    "\n",
    "Here, we create an instance of the cuOpt Service Client to establish a connection. \n"
   ]
  },
  {
   "cell_type": "code",
   "execution_count": null,
   "id": "9d4aed76",
   "metadata": {},
   "outputs": [],
   "source": [
    "# Currently this notebook works with spoofed SAK and FUNCTION ID, but users need to use their own SAK and FUNCTION ID if\n",
    "# they are going to run this notebook in their local environment\n",
    "\n",
    "cuopt_client_sak = \"<YOUR CLIENT SAK>\"\n",
    "\n",
    "cuopt_service_client = CuOptServiceClient(\n",
    "    sak=cuopt_client_sak,\n",
    "    function_id=\"<FUNCTION_ID_OBTAINED_FROM_NGC>\"\n",
    "    )"
   ]
  },
  {
   "cell_type": "markdown",
   "id": "722d0ab2",
   "metadata": {},
   "source": [
    "## Send data to the cuOpt service and get the routes\n",
    "\n",
    "When using the cuOpt Managed Service, we send all the data in a single call and wait for the response."
   ]
  },
  {
   "cell_type": "code",
   "execution_count": null,
   "id": "7ee7e3a3-1c32-4c59-83f0-5efd3a1a3825",
   "metadata": {
    "vscode": {
     "languageId": "plaintext"
    }
   },
   "outputs": [],
   "source": [
    "\n",
    "# Solve the problem\n",
    "solver_response = cuopt_service_client.get_optimized_routes(\n",
    "    cuopt_problem_data\n",
    ")\n",
    "\n",
    "# Process returned data\n",
    "solver_resp = solver_response[\"response\"]\n",
    "if \"solver_response\" in solver_resp:\n",
    "    solver_resp = solver_resp[\"solver_response\"]\n",
    "else:\n",
    "    # For our purposes here if we get an infeasible response,\n",
    "    # we treat it as a successful solution\n",
    "    solver_resp = solver_resp[\"solver_infeasible_response\"]\n",
    "    solver_resp[\"status\"] = 0\n",
    "    print(\"Infeasible solution found!\")\n",
    "\n",
    "location_names = [str(x) for x in locations_df.index.tolist()]\n",
    "\n",
    "if solver_resp[\"status\"] == 0:\n",
    "    print(\"Cost for the routing in distance: \", solver_resp[\"solution_cost\"])\n",
    "    print(\"Vehicle count to complete routing: \", solver_resp[\"num_vehicles\"])\n",
    "    show_vehicle_routes(solver_resp, location_names)\n",
    "else:\n",
    "    print(\"NVIDIA cuOpt Failed to find a solution with status : \", solver_resp[\"status\"])"
   ]
  },
  {
   "cell_type": "markdown",
   "id": "3f923b5e",
   "metadata": {},
   "source": [
    "# Visualize the routes\n",
    "\n",
    "In this example, not all vehicles are dispatched. It is possible that vehicle 0 is not dispatched but vehicle 1 is.  \n",
    "\n",
    "In the drop down menu below, you can select different vehicle ID's to see if they are dispatched. If they are, we print their assigned route on a map. \n",
    "\n",
    "Generating a route and map uses third party tools and takes about 30 seconds to run. \n"
   ]
  },
  {
   "cell_type": "code",
   "execution_count": null,
   "id": "cf985ebd",
   "metadata": {},
   "outputs": [],
   "source": [
    "from IPython.display import display, Markdown, clear_output\n",
    "import ipywidgets as widgets\n",
    "from ipywidgets import interact\n",
    "\n",
    "w = widgets.Dropdown(\n",
    "    options = list(vehicles_df.index.values),\n",
    "    description='Vehicle ID:',\n",
    ")\n",
    "\n",
    "def on_change(value):\n",
    "    if str(value) in list(solver_resp['vehicle_data'].keys()):\n",
    "        if len(solver_resp[\"vehicle_data\"][str(value)]['route']) == 1:\n",
    "            l = solver_resp[\"vehicle_data\"][str(value)]['route'][0]\n",
    "            solver_resp[\"vehicle_data\"][str(value)]['route'] = [l,l]\n",
    "        curr_route_df = pd.DataFrame(solver_resp[\"vehicle_data\"][str(value)]['route'], columns=[\"stop_index\"])\n",
    "        curr_route_df = pd.merge(curr_route_df, locations_df, how=\"left\", left_on=[\"stop_index\"], right_on=[\"index\"])\n",
    "        display(get_map_by_vehicle(curr_route_df))        \n",
    "    else:\n",
    "        print(\"This Vehicle is not assigned to any order!!\")\n",
    "\n",
    "interact(on_change, value=w)"
   ]
  },
  {
   "cell_type": "markdown",
   "id": "466e847e-9f45-4c8d-bd87-42b7f2c8d164",
   "metadata": {},
   "source": [
    "## Objective Functions"
   ]
  },
  {
   "cell_type": "markdown",
   "id": "190e70a7-707a-4866-8a0d-b72d6c0348b1",
   "metadata": {},
   "source": [
    "<code style=\"background:lightgreen;color:black\">variance_route_size</code> allows us to uniformly distribute the tasks across the vehicles. Because cuOpt still tries to minimize the number of vehicle, we need to overwite this by adding <code style=\"background:lightgreen;color:black\">min_vehicles</code> in the Fleet Data."
   ]
  },
  {
   "cell_type": "code",
   "execution_count": null,
   "id": "1b1010ba-f123-41a9-bc43-0daf2337aa85",
   "metadata": {},
   "outputs": [],
   "source": [
    "import math"
   ]
  },
  {
   "cell_type": "code",
   "execution_count": null,
   "id": "b527f818-fc45-4706-9562-49cd94c8b737",
   "metadata": {},
   "outputs": [],
   "source": [
    "orders_per_vehicle = 3\n",
    "cuopt_problem_data[\"solver_config\"][\"objectives\"]= {\n",
    "                              \"cost\": 0,\n",
    "                              \"travel_time\": 0,\n",
    "                              \"variance_route_size\":orders_per_vehicle,\n",
    "                              \"variance_route_service_time\": 0,\n",
    "                              \"prize\": 0,\n",
    "                              \"vehicle_fixed_cost\": 0   \n",
    "                          }\n",
    "cuopt_problem_data[\"fleet_data\"][\"min_vehicles\"] = math.ceil(len(task_locations)/orders_per_vehicle)"
   ]
  },
  {
   "cell_type": "code",
   "execution_count": null,
   "id": "028e6263-3e20-4e91-a0ce-b4acb084653f",
   "metadata": {
    "scrolled": true
   },
   "outputs": [],
   "source": [
    "# Solve the problem\n",
    "solver_response = cuopt_service_client.get_optimized_routes(\n",
    "    cuopt_problem_data\n",
    ")\n",
    "\n",
    "# Process returned data\n",
    "solver_resp = solver_response[\"response\"]\n",
    "if \"solver_response\" in solver_resp:\n",
    "    solver_resp = solver_resp[\"solver_response\"]\n",
    "else:\n",
    "    # For our purposes here if we get an infeasible response,\n",
    "    # we treat it as a successful solution\n",
    "    solver_resp = solver_resp[\"solver_infeasible_response\"]\n",
    "    solver_resp[\"status\"] = 0\n",
    "    print(\"Infeasible solution found!\")\n",
    "\n",
    "location_names = [str(x) for x in locations_df.index.tolist()]\n",
    "\n",
    "if solver_resp[\"status\"] == 0:\n",
    "    print(\"Cost for the routing in distance: \", solver_resp[\"solution_cost\"])\n",
    "    print(\"Vehicle count to complete routing: \", solver_resp[\"num_vehicles\"])\n",
    "    show_vehicle_routes(solver_resp, location_names)\n",
    "else:\n",
    "    print(\"NVIDIA cuOpt Failed to find a solution with status : \", solver_resp[\"status\"])"
   ]
  },
  {
   "cell_type": "markdown",
   "id": "0a24df3a-0142-41e9-abad-ef6f34a1451b",
   "metadata": {},
   "source": [
    "Similarly, <code style=\"background:lightgreen;color:black\">variance_route_service_time</code> allows us to uniformly distribute the service time across the vehicles. We know that install service takes 60 minutes and maintenance service takes 90 minutes. With a higher value, the routes are more venly distributed. \n",
    "\n",
    "cuOpt still tries to minimize the number of vehicles used in the solution, which could mean some routes are still longer than others. We can overwrite this by introducing <code style=\"background:lightgreen;color:black\">min_vehicles</code>, where we set the minimum number of vehicles to be ised in the solution. In this case, we want this number to be higher than cuOpt's default response. \n",
    "\n",
    "\n",
    "Feel free to play around with these value to see how they affects the solution."
   ]
  },
  {
   "cell_type": "code",
   "execution_count": null,
   "id": "1edce626-cef7-4d08-b147-e803aa01461f",
   "metadata": {},
   "outputs": [],
   "source": [
    "variance_route_service_time = 300\n",
    "cuopt_problem_data[\"solver_config\"][\"objectives\"]= {\n",
    "                              \"cost\": 0,\n",
    "                              \"travel_time\": 0,\n",
    "                              \"variance_route_size\":variance_route_service_time,\n",
    "                              \"variance_route_service_time\": 0,\n",
    "                              \"prize\": 0,\n",
    "                              \"vehicle_fixed_cost\": 0   \n",
    "}\n",
    "cuopt_problem_data[\"fleet_data\"][\"min_vehicles\"] = math.ceil(sum(demand_time)/variance_route_service_time)"
   ]
  },
  {
   "cell_type": "code",
   "execution_count": null,
   "id": "767ae59d-c69b-4fb5-835d-591542126473",
   "metadata": {},
   "outputs": [],
   "source": [
    "# Solve the problem\n",
    "solver_response = cuopt_service_client.get_optimized_routes(\n",
    "    cuopt_problem_data\n",
    ")\n",
    "\n",
    "# Process returned data\n",
    "solver_resp = solver_response[\"response\"]\n",
    "if \"solver_response\" in solver_resp:\n",
    "    solver_resp = solver_resp[\"solver_response\"]\n",
    "else:\n",
    "    # For our purposes here if we get an infeasible response,\n",
    "    # we treat it as a successful solution\n",
    "    solver_resp = solver_resp[\"solver_infeasible_response\"]\n",
    "    solver_resp[\"status\"] = 0\n",
    "    print(\"Infeasible solution found!\")\n",
    "\n",
    "location_names = [str(x) for x in locations_df.index.tolist()]\n",
    "\n",
    "if solver_resp[\"status\"] == 0:\n",
    "    print(\"Cost for the routing in distance: \", solver_resp[\"solution_cost\"])\n",
    "    print(\"Vehicle count to complete routing: \", solver_resp[\"num_vehicles\"])\n",
    "    show_vehicle_routes(solver_resp, location_names)\n",
    "else:\n",
    "    print(\"NVIDIA cuOpt Failed to find a solution with status : \", solver_resp[\"status\"])"
   ]
  },
  {
   "cell_type": "markdown",
   "id": "12ea4f07-1407-4eb7-9f5c-bf49305d682f",
   "metadata": {},
   "source": [
    "Finally, let's take a look at <code style=\"background:lightgreen;color:black\">vehicle_fixed_cost</code>. Let's imagine some workers are full time employees and some are contracters. Fulltime workers are already on payroll so there is no additional costs, whereas contract workers must be paid extra. This is meaningful when the number of full time workers are not sufficient and the businesses have to hire contractors fulfill the requirement.  \n",
    "\n",
    "First, let's delete the min_vehicles we set for the objective function above, since it is not relevant in setting Vehicle Fixed Cost.\n",
    "\n",
    "Let's start by setting this associated cost for vehicles. We will randomly select half of the drivers to be full time employees with an associated fixed cost of 200, and the other half will be contract workers with an associated fixed cost of 300."
   ]
  },
  {
   "cell_type": "code",
   "execution_count": null,
   "id": "1365fbb8-0731-464a-9087-423ac1642a22",
   "metadata": {},
   "outputs": [],
   "source": [
    "del cuopt_problem_data[\"fleet_data\"][\"min_vehicles\"]"
   ]
  },
  {
   "cell_type": "code",
   "execution_count": null,
   "id": "d2ff6dee-f36a-474b-b24c-df6133d4bf8d",
   "metadata": {},
   "outputs": [],
   "source": [
    "fixed_cost = [200] * int(n_vehicles/2) + [300] * int(n_vehicles/2)\n",
    "random.shuffle(fixed_cost)\n",
    "\n",
    "cuopt_problem_data[\"fleet_data\"][\"vehicle_fixed_costs\"] = fixed_cost"
   ]
  },
  {
   "cell_type": "code",
   "execution_count": null,
   "id": "a352c907-a498-4a10-a858-3abea15b9693",
   "metadata": {},
   "outputs": [],
   "source": [
    "#saving two lists of full time employees and contractors\n",
    "full_time_drivers = []\n",
    "contractors = []\n",
    "for index, v in enumerate(fixed_cost):\n",
    "    if v==200:\n",
    "        full_time_drivers.append(index)\n",
    "    else:\n",
    "        contractors.append(index)"
   ]
  },
  {
   "cell_type": "markdown",
   "id": "c83939a0-efc4-442f-8381-4bc79a9a72fe",
   "metadata": {},
   "source": [
    "Similarly to the other objectives, let's set these values in the solver config section of our data. "
   ]
  },
  {
   "cell_type": "code",
   "execution_count": null,
   "id": "91e9b4b8-ea26-42bd-9acb-c9eadc6696da",
   "metadata": {},
   "outputs": [],
   "source": [
    "cuopt_problem_data[\"solver_config\"][\"objectives\"]= {\n",
    "                              \"cost\": 1,\n",
    "                              \"travel_time\": 0,\n",
    "                              \"variance_route_size\": 0,\n",
    "                              \"variance_route_service_time\": 0,\n",
    "                              \"prize\": 0,\n",
    "                              \"vehicle_fixed_cost\": 500   \n",
    "}"
   ]
  },
  {
   "cell_type": "code",
   "execution_count": null,
   "id": "1e40c15d-28c3-4dbf-92b1-9234857fd8cc",
   "metadata": {
    "scrolled": true
   },
   "outputs": [],
   "source": [
    "solver_response = cuopt_service_client.get_optimized_routes(\n",
    "    cuopt_problem_data\n",
    ")\n",
    "\n",
    "# Process returned data\n",
    "solver_resp = solver_response[\"response\"]\n",
    "if \"solver_response\" in solver_resp:\n",
    "    solver_resp = solver_resp[\"solver_response\"]\n",
    "else:\n",
    "    # For our purposes here if we get an infeasible response,\n",
    "    # we treat it as a successful solution\n",
    "    solver_resp = solver_resp[\"solver_infeasible_response\"]\n",
    "    solver_resp[\"status\"] = 0\n",
    "    print(\"Infeasible solution found!\")\n",
    "\n",
    "location_names = [str(x) for x in locations_df.index.tolist()]\n",
    "\n",
    "if solver_resp[\"status\"] == 0:\n",
    "    print(\"Cost for the routing in distance: \", solver_resp[\"solution_cost\"])\n",
    "    print(\"Vehicle count to complete routing: \", solver_resp[\"num_vehicles\"])\n",
    "    show_vehicle_routes(solver_resp, location_names)\n",
    "else:\n",
    "    print(\"NVIDIA cuOpt Failed to find a solution with status : \", solver_resp[\"status\"])"
   ]
  },
  {
   "cell_type": "markdown",
   "id": "5e2e0b87-bd0e-4dbe-aee9-280d52cf35aa",
   "metadata": {},
   "source": [
    "Let's check how many full time workers vs. how many contractors are dispatched in the solution."
   ]
  },
  {
   "cell_type": "code",
   "execution_count": null,
   "id": "05fab302-d549-4b19-b414-e2a899c4b724",
   "metadata": {},
   "outputs": [],
   "source": [
    "full_time_count = 0\n",
    "contractors_count = 0\n",
    "for v in solver_response['response']['solver_response']['vehicle_data'].keys():\n",
    "    if int(v) in contractors:\n",
    "        contractors_count+=1\n",
    "    else: full_time_count+=1\n",
    "\n",
    "print(\"there are {} full time drivers dispatched in the solution\".format(full_time_count))\n",
    "print(\"there are {} contracted drivers dispatched in the solution\".format(contractors_count))"
   ]
  },
  {
   "cell_type": "markdown",
   "id": "7b8cfeee-0659-455a-ad74-7325643c8be4",
   "metadata": {},
   "source": [
    "The weight assigned to `vehicle_fixed_cost` in the objectives section of the `data_config` is somehwat arbitrary. The higher that weight is, the more cuOpt prioritizes using vehicles with lower cost. With the current value of 500, there are 3 contractors in the solution. With a value of 100, there are 5 contractors in the solution. PLay around with that value to see how it affects the solution."
   ]
  },
  {
   "cell_type": "markdown",
   "id": "faec361c-8859-4123-9ec7-28857a80e369",
   "metadata": {},
   "source": [
    "## License\n",
    "\n",
    "SPDX-FileCopyrightText: Copyright (c) 2024 NVIDIA CORPORATION & AFFILIATES. All rights reserved.\n",
    "\n",
    "SPDX-License-Identifier: MIT\n",
    "\n",
    "Permission is hereby granted, free of charge, to any person obtaining a copy of this software and associated documentation files (the \"Software\"), to deal in the Software without restriction, including without limitation the rights to use, copy, modify, merge, publish, distribute, sublicense, and/or sell copies of the Software, and to permit persons to whom the Software is furnished to do so, subject to the following conditions: The above copyright notice and this permission notice shall be included in all copies or substantial portions of the Software.\n",
    "\n",
    "THE SOFTWARE IS PROVIDED \"AS IS\", WITHOUT WARRANTY OF ANY KIND, EXPRESS OR IMPLIED, INCLUDING BUT NOT LIMITED TO THE WARRANTIES OF MERCHANTABILITY, FITNESS FOR A PARTICULAR PURPOSE AND NONINFRINGEMENT. IN NO EVENT SHALL THE AUTHORS OR COPYRIGHT HOLDERS BE LIABLE FOR ANY CLAIM, DAMAGES OR OTHER LIABILITY, WHETHER IN AN ACTION OF CONTRACT, TORT OR OTHERWISE, ARISING FROM, OUT OF OR IN CONNECTION WITH THE SOFTWARE OR THE USE OR OTHER DEALINGS IN THE SOFTWARE."
   ]
  }
 ],
 "metadata": {
  "kernelspec": {
   "display_name": "Python 3 (ipykernel)",
   "language": "python",
   "name": "python3"
  },
  "language_info": {
   "codemirror_mode": {
    "name": "ipython",
    "version": 3
   },
   "file_extension": ".py",
   "mimetype": "text/x-python",
   "name": "python",
   "nbconvert_exporter": "python",
   "pygments_lexer": "ipython3",
   "version": "3.11.9"
  }
 },
 "nbformat": 4,
 "nbformat_minor": 5
}
