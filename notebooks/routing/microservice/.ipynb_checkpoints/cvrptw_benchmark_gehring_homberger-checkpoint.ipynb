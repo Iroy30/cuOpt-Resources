{
 "cells": [
  {
   "cell_type": "markdown",
   "id": "a05e01aa",
   "metadata": {},
   "source": [
    "<details><summary> </summary>\n",
    "\n",
    "# Skip notebook test\n",
    "\n",
    "</details>"
   ]
  },
  {
   "cell_type": "code",
   "execution_count": null,
   "id": "afc57ab3",
   "metadata": {},
   "outputs": [],
   "source": [
    "import pandas as pd\n",
    "import numpy as np\n",
    "import requests\n",
    "from scipy.spatial import distance\n",
    "import notebook_utils.notebook_helpers as utils"
   ]
  },
  {
   "cell_type": "markdown",
   "id": "0d500386",
   "metadata": {},
   "source": [
    "# Benchmark Gehring & Homberger\n",
    "## Capacitated Vehicle Routing Problem with Time Windows (CVRPTW)"
   ]
  },
  {
   "cell_type": "markdown",
   "id": "30e63d74",
   "metadata": {},
   "source": [
    "While other notebooks such as [cvrptw_service_team_routing.ipynb](cvrptw_service_team_routing.ipynb) focus on the cuOpt API and high level problem modeling, here we focus on performance.\n",
    "\n",
    "cuOpt offers a unique benefit over other solver_settingss, specifically, time to solution.  In addition to achieving world class accuracy, cuOpt also produces these solutions in a time frame that allows for re-optimization in dynamic environments and rapid iteration over possible problem configurations.\n",
    "\n",
    "Here we are demonstrating this performance on a large popular academic [dataset by Gehing & Homberger](https://www.sintef.no/projectweb/top/vrptw/homberger-benchmark/).  These problems are well studied and used as the basis for comparison for VRP research and product offerings. The particular instance we will test with is from the group of largest (1000 location) problems.  Each problem instance has an associated best known solution, the one we will measure against is shown below\n",
    "\n",
    "**API Reference**: [cuOpt Server Documentation](https://docs.nvidia.com/cuopt/serv_api.html)"
   ]
  },
  {
   "cell_type": "code",
   "execution_count": null,
   "id": "65860d5d",
   "metadata": {},
   "outputs": [],
   "source": [
    "homberger_1000_file = 'notebook_utils/data/C1_10_1.TXT'\n",
    "\n",
    "best_known_solution = {\n",
    "    \"n_vehicles\": 100,\n",
    "    \"cost\": 42478.95\n",
    "}"
   ]
  },
  {
   "cell_type": "markdown",
   "id": "af25d3f9",
   "metadata": {},
   "source": [
    "### Problem Data\n",
    "The data for this problem instance are provided via text file.  cuOpt has a utility function available specifically for the Gehring & Homberger benchmark which converts the problem into the components required by cuOpt."
   ]
  },
  {
   "cell_type": "code",
   "execution_count": null,
   "id": "fd6089b5",
   "metadata": {},
   "outputs": [],
   "source": [
    "orders, vehicle_capacity, n_vehicles = utils.create_from_file(homberger_1000_file)\n",
    "n_locations = orders[\"demand\"].shape[0]-1\n",
    "print(\"Number of locations          : \", n_locations)\n",
    "print(\"Number of vehicles available : \", n_vehicles)\n",
    "print(\"Capacity of each vehicle     : \", vehicle_capacity)\n",
    "print(\"\\nInitial Orders information\")\n",
    "print(orders)"
   ]
  },
  {
   "cell_type": "markdown",
   "id": "4890f027",
   "metadata": {},
   "source": [
    "### Setup the cuOpt server and test the health of the server\n",
    "\n",
    "**NOTE**: Please update **ip** and **port** on which the server is running."
   ]
  },
  {
   "cell_type": "code",
   "execution_count": null,
   "id": "d57690c9",
   "metadata": {},
   "outputs": [],
   "source": [
    "ip = \"0.0.0.0\"\n",
    "port = \"5000\"\n",
    "url = \"http://\" + ip + \":\" + port + \"/cuopt/\"\n",
    "\n",
    "# Test the health of the cuOpt server\n",
    "assert requests.get(url + \"health\").status_code == 200"
   ]
  },
  {
   "cell_type": "markdown",
   "id": "ba4eb34d",
   "metadata": {},
   "source": [
    "### Cost Matrix"
   ]
  },
  {
   "cell_type": "code",
   "execution_count": null,
   "id": "0cc3ced9",
   "metadata": {},
   "outputs": [],
   "source": [
    "coords = list(zip(orders['xcord'].to_list(),\n",
    "                  orders['ycord'].to_list()))\n",
    "\n",
    "cost_matrix = pd.DataFrame(distance.cdist(coords, coords, 'euclidean')).astype(np.float32)\n",
    "print(f\"Shape of cost matrix: {cost_matrix.shape}\")"
   ]
  },
  {
   "cell_type": "markdown",
   "id": "c938e463",
   "metadata": {},
   "source": [
    "### Set Cost Matrix"
   ]
  },
  {
   "cell_type": "code",
   "execution_count": null,
   "id": "8493081f",
   "metadata": {},
   "outputs": [],
   "source": [
    "data_params = {\"return_data_state\": False}\n",
    "cost_data = {\"cost_matrix\": {0: cost_matrix.values.tolist()}}\n",
    "response_set = requests.post(\n",
    "    url + \"add_cost_matrix\", params=data_params, json=cost_data\n",
    ")\n",
    "assert response_set.status_code == 200"
   ]
  },
  {
   "cell_type": "markdown",
   "id": "9ad17098",
   "metadata": {},
   "source": [
    "### Set Fleet Data"
   ]
  },
  {
   "cell_type": "code",
   "execution_count": null,
   "id": "45f8aa47",
   "metadata": {},
   "outputs": [],
   "source": [
    "# Set the fleet data\n",
    "vehicle_locations = [[0, 0]] * n_vehicles\n",
    "fleet_data = {\n",
    "    \"vehicle_locations\": vehicle_locations,\n",
    "    \"capacities\": [[vehicle_capacity] * n_vehicles],\n",
    "}\n",
    "\n",
    "# Dispatch the fleet data to the cuOpt server\n",
    "response_set = requests.post(\n",
    "    url + \"set_fleet_data\", json=fleet_data\n",
    ")\n",
    "assert response_set.status_code == 200"
   ]
  },
  {
   "cell_type": "markdown",
   "id": "800db055",
   "metadata": {},
   "source": [
    "### Set Task Data"
   ]
  },
  {
   "cell_type": "code",
   "execution_count": null,
   "id": "638df884",
   "metadata": {},
   "outputs": [],
   "source": [
    "# Set the task data\n",
    "task_data = {\n",
    "    \"task_locations\": orders['vertex'].values.tolist(),\n",
    "    \"task_time_windows\": list(zip(orders['earliest_time'].values.tolist(),\n",
    "                  orders['latest_time'].values.tolist())),\n",
    "    \"service_times\": orders['service_time'].values.tolist(),\n",
    "    \"demand\": [orders['demand'].values.tolist()],\n",
    "}\n",
    "\n",
    "# Dispatch the task data to the cuOpt server\n",
    "response_set = requests.post(\n",
    "    url + \"set_task_data\", json=task_data\n",
    ")\n",
    "assert response_set.status_code == 200"
   ]
  },
  {
   "cell_type": "markdown",
   "id": "e4f9a455",
   "metadata": {},
   "source": [
    "### Set Solver configuration"
   ]
  },
  {
   "cell_type": "code",
   "execution_count": null,
   "id": "3eddb994",
   "metadata": {},
   "outputs": [],
   "source": [
    "solver_settings = {\n",
    "    \"time_limit\": 0.5,\n",
    "    \"number_of_climbers\": 2048,\n",
    "}\n",
    "# set number of climbers that will try to search for an optimal routes in parallel\n",
    "response_set = requests.post(\n",
    "    url + \"set_solver_config\", json=solver_settings\n",
    ")\n",
    "assert response_set.status_code == 200"
   ]
  },
  {
   "cell_type": "markdown",
   "id": "8944c315",
   "metadata": {},
   "source": [
    "### Helper functions to solve and process the output"
   ]
  },
  {
   "cell_type": "code",
   "execution_count": null,
   "id": "5382727c",
   "metadata": {},
   "outputs": [],
   "source": [
    "# Here we will examine the quality of the solution we increase the time budget provided to cuOpt\n",
    "def solve_problem(problem_size):\n",
    "    solver_response = requests.get(url + \"get_optimized_routes\")\n",
    "    solver_resp = solver_response.json()[\"response\"][\"solver_response\"]\n",
    "    if solver_resp[\"status\"] == 0:\n",
    "        print(\"Cost for the routing in time: \", solver_resp[\"solution_cost\"])\n",
    "        print(\"Vehicle count to complete routing: \", solver_resp[\"num_vehicles\"])\n",
    "        utils.show_vehicle_routes(solver_resp, [\"Depot\"]+[str(i) for i in range(1, problem_size+1)])\n",
    "    else:\n",
    "        print(\"NVIDIA cuOpt Failed to find a solution with status : \", solver_resp[\"status\"])\n",
    "        \n",
    "    return(solver_resp[\"num_vehicles\"], solver_resp[\"solution_cost\"])\n",
    "\n",
    "def solution_eval(vehicles, cost, best_known_solution):\n",
    "    \n",
    "    print(f\"- cuOpt provides a solution using {vehicles} vehicles\")\n",
    "    print(f\"- This represents {vehicles - best_known_solution['n_vehicles']} more than the best known solution\")\n",
    "    print(f\"- Vehicle Percent Difference {(vehicles/best_known_solution['n_vehicles'] - 1)*100}% \\n\\n\")\n",
    "    print(f\"- In addition cuOpt provides a solution cost of {cost}\") \n",
    "    print(f\"- Best known solution cost is {best_known_solution['cost']}\")\n",
    "    print(f\"- Cost Percent Difference {(cost/best_known_solution['cost'] - 1)*100}%\")"
   ]
  },
  {
   "cell_type": "markdown",
   "id": "24afe2f5",
   "metadata": {},
   "source": [
    "### Get Optimized Results\n",
    "\n",
    "Update solver config and test different run-time "
   ]
  },
  {
   "cell_type": "markdown",
   "id": "0941d56f",
   "metadata": {},
   "source": [
    "**1 Second Time Limit**"
   ]
  },
  {
   "cell_type": "code",
   "execution_count": null,
   "id": "70f12ffa",
   "metadata": {},
   "outputs": [],
   "source": [
    "solver_settings[\"time_limit\"] = 1\n",
    "# update the time limit for solving the problem\n",
    "response_set = requests.put(\n",
    "    url + \"update_solver_config\", json=solver_settings\n",
    ")\n",
    "assert response_set.status_code == 200\n",
    "# re-solve the problem with time limit equals 1\n",
    "vehicles, cost = solve_problem(len(cost_matrix))"
   ]
  },
  {
   "cell_type": "code",
   "execution_count": null,
   "id": "a2453b1b",
   "metadata": {},
   "outputs": [],
   "source": [
    "# Evaluation:\n",
    "solution_eval(vehicles, cost, best_known_solution)"
   ]
  },
  {
   "cell_type": "markdown",
   "id": "04ef0c21",
   "metadata": {},
   "source": [
    "**10 Second Time Limit**"
   ]
  },
  {
   "cell_type": "code",
   "execution_count": null,
   "id": "3934d8de",
   "metadata": {},
   "outputs": [],
   "source": [
    "solver_settings[\"time_limit\"] = 10\n",
    "# update the time limit for solving the problem\n",
    "response_set = requests.put(\n",
    "    url + \"update_solver_config\", json=solver_settings\n",
    ")\n",
    "assert response_set.status_code == 200\n",
    "# re-solve the problem with time limit equals ten\n",
    "vehicles, cost = solve_problem(len(cost_matrix))"
   ]
  },
  {
   "cell_type": "code",
   "execution_count": null,
   "id": "7ab5e6d1",
   "metadata": {},
   "outputs": [],
   "source": [
    "# Evaluation:\n",
    "solution_eval(vehicles, cost, best_known_solution)"
   ]
  },
  {
   "cell_type": "markdown",
   "id": "a9a1b855",
   "metadata": {},
   "source": [
    "**20 Second Time Limit**"
   ]
  },
  {
   "cell_type": "code",
   "execution_count": null,
   "id": "e0c38643",
   "metadata": {},
   "outputs": [],
   "source": [
    "solver_settings[\"time_limit\"] = 20\n",
    "# update the time limit for solving the problem\n",
    "response_set = requests.put(\n",
    "    url + \"update_solver_config\", json=solver_settings\n",
    ")\n",
    "assert response_set.status_code == 200\n",
    "# re-solve the problem with time limit equals twenty\n",
    "vehicles, cost = solve_problem(len(cost_matrix))"
   ]
  },
  {
   "cell_type": "code",
   "execution_count": null,
   "id": "ff80118b",
   "metadata": {},
   "outputs": [],
   "source": [
    "# Evaluation:\n",
    "solution_eval(vehicles, cost, best_known_solution)"
   ]
  },
  {
   "cell_type": "markdown",
   "id": "15192c4a",
   "metadata": {},
   "source": [
    "_____\n",
    "\n",
    "#### SPDX-FileCopyrightText: Copyright (c) 2022 NVIDIA CORPORATION & AFFILIATES. All rights reserved.\n",
    "\n",
    "#### SPDX-License-Identifier: MIT\n",
    "\n",
    "Permission is hereby granted, free of charge, to any person obtaining a\n",
    "copy of this software and associated documentation files (the \"Software\"),\n",
    "to deal in the Software without restriction, including without limitation\n",
    "the rights to use, copy, modify, merge, publish, distribute, sublicense,\n",
    "and/or sell copies of the Software, and to permit persons to whom the\n",
    "Software is furnished to do so, subject to the following conditions:\n",
    "The above copyright notice and this permission notice shall be included in\n",
    "all copies or substantial portions of the Software.\n",
    "\n",
    "THE SOFTWARE IS PROVIDED \"AS IS\", WITHOUT WARRANTY OF ANY KIND, EXPRESS OR\n",
    "IMPLIED, INCLUDING BUT NOT LIMITED TO THE WARRANTIES OF MERCHANTABILITY,\n",
    "FITNESS FOR A PARTICULAR PURPOSE AND NONINFRINGEMENT. IN NO EVENT SHALL\n",
    "THE AUTHORS OR COPYRIGHT HOLDERS BE LIABLE FOR ANY CLAIM, DAMAGES OR OTHER\n",
    "LIABILITY, WHETHER IN AN ACTION OF CONTRACT, TORT OR OTHERWISE, ARISING\n",
    "FROM, OUT OF OR IN CONNECTION WITH THE SOFTWARE OR THE USE OR OTHER\n",
    "DEALINGS IN THE SOFTWARE.\n",
    "\n",
    "---"
   ]
  }
 ],
 "metadata": {
  "kernelspec": {
   "display_name": "Python 3 (ipykernel)",
   "language": "python",
   "name": "python3"
  },
  "language_info": {
   "codemirror_mode": {
    "name": "ipython",
    "version": 3
   },
   "file_extension": ".py",
   "mimetype": "text/x-python",
   "name": "python",
   "nbconvert_exporter": "python",
   "pygments_lexer": "ipython3",
   "version": "3.8.13"
  },
  "vscode": {
   "interpreter": {
    "hash": "0f29e496949dc4ef652a1afa2d601ce2913fc84758b70efb060a954cb0e2d83f"
   }
  }
 },
 "nbformat": 4,
 "nbformat_minor": 5
}
