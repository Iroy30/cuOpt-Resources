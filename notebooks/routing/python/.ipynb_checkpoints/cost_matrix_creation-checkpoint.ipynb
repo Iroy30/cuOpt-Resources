{
 "cells": [
  {
   "cell_type": "code",
   "execution_count": null,
   "id": "dfba40d6",
   "metadata": {},
   "outputs": [],
   "source": [
    "from cuopt import routing\n",
    "from cuopt import distance_engine\n",
    "import cudf\n",
    "from scipy.spatial import distance\n",
    "import numpy as np\n",
    "import requests\n",
    "import polyline\n",
    "import folium\n",
    "import json"
   ]
  },
  {
   "cell_type": "markdown",
   "id": "cd4716e9",
   "metadata": {},
   "source": [
    "# Cost Matrix Calculation"
   ]
  },
  {
   "cell_type": "markdown",
   "id": "bdff7c68",
   "metadata": {},
   "source": [
    "The cost matrix represents the user defined cost of traversing from one state/location in the optimization problem to another. This matrix is what cuOpt uses to assess the quality of a given solution as it seeks to minimize the total cost.\n",
    "\n",
    "The cost matrix is a square matrix of dimension equal to the number of locations in a given problem. In the example below we see an illustration of one such matrix."
   ]
  },
  {
   "cell_type": "markdown",
   "id": "991cad72",
   "metadata": {},
   "source": [
    "<img src=\"./notebook_utils/images/cost_matrix.png\" alt=\"cost_matrix.png not found]\" width=\"750\"/>"
   ]
  },
  {
   "cell_type": "markdown",
   "id": "ed85b5b1",
   "metadata": {},
   "source": [
    "Additionally:\n",
    "- The cost of going from a location to itself (e.g Cost(A,A)) is typically 0 \n",
    "- Cost(A,B) need not be equal to Cost(B,A)"
   ]
  },
  {
   "cell_type": "markdown",
   "id": "2fe0488b",
   "metadata": {},
   "source": [
    "## Simple Metric"
   ]
  },
  {
   "cell_type": "markdown",
   "id": "667af128",
   "metadata": {},
   "source": [
    "In some simple cases a cost matrix can be generated from a list of points according to a user defined metric (e.g. Euclidean, Manhattan, etc.)"
   ]
  },
  {
   "cell_type": "code",
   "execution_count": null,
   "id": "01c4a7de",
   "metadata": {},
   "outputs": [],
   "source": [
    "points = cudf.DataFrame({\"x_coord\": [1, 1, 2, 3], \"y_coord\":[3, 1, 4, 1]})\n",
    "points"
   ]
  },
  {
   "cell_type": "code",
   "execution_count": null,
   "id": "b52d43bb",
   "metadata": {},
   "outputs": [],
   "source": [
    "cost_matrix = distance.cdist(points.to_pandas().values, points.to_pandas().values, \"euclidean\")\n",
    "print(f\"Simple Metric Cost Matrix:\\n\\n{cost_matrix}\")"
   ]
  },
  {
   "cell_type": "markdown",
   "id": "eb39ea0f",
   "metadata": {},
   "source": [
    "## Weighted Waypoint Graph"
   ]
  },
  {
   "cell_type": "markdown",
   "id": "a72d76a3",
   "metadata": {},
   "source": [
    "In cases where a unique environment needs to be described such as in the case of factories or warehouses it can be useful to define a waypoint graph that defines the cost of travel between adjacent accessible points in the environment.\n",
    "\n",
    "cuOpt has built in functionality to compute a cost matrix based on key target locations within a given waypoint graph. In the graph below we model 10 distinct waypoints.  The target locations are 0, 4, 5, and 6."
   ]
  },
  {
   "cell_type": "markdown",
   "id": "d8afe1d6",
   "metadata": {},
   "source": [
    "<img src=\"./notebook_utils/images/waypoint_graph.png\" alt=\"waypoint_graph.png not found]\" width=\"550\"/>"
   ]
  },
  {
   "cell_type": "markdown",
   "id": "fadc253b",
   "metadata": {},
   "source": [
    "#### Graph Description\n",
    "A simple description of each node, it's outgoing edges and corresponding weights"
   ]
  },
  {
   "cell_type": "code",
   "execution_count": null,
   "id": "f8bf07e3",
   "metadata": {},
   "outputs": [],
   "source": [
    "graph = {\n",
    "    0:{\n",
    "        \"edges\":[2], \n",
    "        \"weights\":[2]},\n",
    "    1:{\n",
    "        \"edges\":[2, 4], \n",
    "        \"weights\":[2, 2]},\n",
    "    2:{\n",
    "        \"edges\":[0, 1, 3, 5], \n",
    "        \"weights\":[2, 2, 2, 2]},\n",
    "    3:{\n",
    "        \"edges\":[2, 6], \n",
    "        \"weights\":[2, 2]},\n",
    "    4:{\n",
    "        \"edges\":[1, 7], \n",
    "        \"weights\":[2, 1]},\n",
    "    5:{\n",
    "        \"edges\":[2, 8], \n",
    "        \"weights\":[2, 1]},\n",
    "    6:{\n",
    "        \"edges\":[3, 9], \n",
    "        \"weights\":[2, 1]},\n",
    "    7:{\n",
    "        \"edges\":[4, 8], \n",
    "        \"weights\":[1, 2]},\n",
    "    8:{\n",
    "        \"edges\":[5, 7, 9], \n",
    "        \"weights\":[1, 2, 2]},\n",
    "    9:{\n",
    "        \"edges\":[6, 8], \n",
    "        \"weights\":[1, 2]}\n",
    "}"
   ]
  },
  {
   "cell_type": "markdown",
   "id": "54d51f36",
   "metadata": {},
   "source": [
    "#### Convert to CSR\n",
    "cuOpt requires that the graph be in compressed sparse row (CSR) format.  Here we define a simple function that converts our graph to CSR."
   ]
  },
  {
   "cell_type": "code",
   "execution_count": null,
   "id": "ace5c271",
   "metadata": {},
   "outputs": [],
   "source": [
    "def convert_to_csr(graph):\n",
    "    num_nodes = len(graph)\n",
    "    \n",
    "    offsets = []\n",
    "    edges = []\n",
    "    weights = []\n",
    "    \n",
    "    cur_offset = 0\n",
    "    for node in range(num_nodes):\n",
    "        offsets.append(cur_offset)\n",
    "        cur_offset += len(graph[node][\"edges\"])\n",
    "        \n",
    "        edges = edges + graph[node][\"edges\"]\n",
    "        weights = weights + graph[node][\"weights\"]\n",
    "        \n",
    "    offsets.append(cur_offset)\n",
    "    \n",
    "    return np.array(offsets), np.array(edges), np.array(weights)"
   ]
  },
  {
   "cell_type": "code",
   "execution_count": null,
   "id": "fed80f3a",
   "metadata": {},
   "outputs": [],
   "source": [
    "offsets, edges, weights = convert_to_csr(graph)\n",
    "print(f\"offsets = {list(offsets)}\")\n",
    "print(f\"edges =   {list(edges)}\")\n",
    "print(f\"weights = {list(weights)}\")"
   ]
  },
  {
   "cell_type": "markdown",
   "id": "17f18f56",
   "metadata": {},
   "source": [
    "#### Define desired target locations and calculate the cost matrix "
   ]
  },
  {
   "cell_type": "code",
   "execution_count": null,
   "id": "45ddc548",
   "metadata": {},
   "outputs": [],
   "source": [
    "target_locations = np.array([0, 4, 5, 6])"
   ]
  },
  {
   "cell_type": "code",
   "execution_count": null,
   "id": "475edfd9",
   "metadata": {
    "scrolled": true
   },
   "outputs": [],
   "source": [
    "waypoint_graph = distance_engine.WaypointMatrix(\n",
    "    offsets,\n",
    "    edges,\n",
    "    weights\n",
    ")\n",
    "cost_matrix = waypoint_graph.compute_cost_matrix(target_locations)\n",
    "target_map = {k:v for k, v in enumerate(target_locations)}\n",
    "\n",
    "print(f\"Index <-> Waypoint Mapping: \\n{target_map}\\n\\n Waypoint Graph Cost Matrix: \\n{cost_matrix}\")"
   ]
  },
  {
   "cell_type": "markdown",
   "id": "cc7349c1",
   "metadata": {},
   "source": [
    "## Map Based"
   ]
  },
  {
   "cell_type": "markdown",
   "id": "c1ea0b6e",
   "metadata": {},
   "source": [
    "When dealing with problems in shipping and logistics, road distance and/or time is often used as a cost metric.  In these cases there are a number of tools available to calculate drive distance and/or time.  One such tool is the [Open Source Routing Machine](http://project-osrm.org/)(OSRM).  In the below example we create a cost matrix using OSRM from a list of lat/lon coordinates."
   ]
  },
  {
   "cell_type": "markdown",
   "id": "0c6a374a",
   "metadata": {},
   "source": [
    "#### Define Points of Interest"
   ]
  },
  {
   "cell_type": "code",
   "execution_count": null,
   "id": "3671b3e9",
   "metadata": {},
   "outputs": [],
   "source": [
    "lat_lon_coords = [\n",
    "    [33.698206, -117.851364],\n",
    "    [33.672260, -117.838925], \n",
    "    [33.721003, -117.864121], \n",
    "    [33.695563, -117.824500]\n",
    "] "
   ]
  },
  {
   "cell_type": "markdown",
   "id": "2bf8d58a",
   "metadata": {},
   "source": [
    "#### Create Distance Matrix via OSRM"
   ]
  },
  {
   "cell_type": "code",
   "execution_count": null,
   "id": "0b1e0a74",
   "metadata": {},
   "outputs": [],
   "source": [
    "locations=\"\"\n",
    "for loc in lat_lon_coords:\n",
    "    locations = locations + \"{},{};\".format(loc[1], loc[0])\n",
    "r = requests.get(\"http://router.project-osrm.org/table/v1/driving/\"+ locations[:-1])\n",
    "\n",
    "routes = json.loads(r.content)\n",
    "cols = [str(i) for i in lat_lon_coords]\n",
    "cost_matrix = cudf.DataFrame(routes['durations'], columns = cols, index= cols)\n",
    "print(f\"Cost Matrix via OSRM:\\n\")\n",
    "cost_matrix"
   ]
  },
  {
   "cell_type": "markdown",
   "id": "3f6e69fc",
   "metadata": {},
   "source": [
    "#### Map Visualization"
   ]
  },
  {
   "cell_type": "markdown",
   "id": "d71a3260",
   "metadata": {},
   "source": [
    "Visualization can be a helpful tool for understanding and communication.  Here we demonstrate a sample visualization implementation showing the routes represented by the cost matrix above."
   ]
  },
  {
   "cell_type": "code",
   "execution_count": null,
   "id": "15508e51",
   "metadata": {},
   "outputs": [],
   "source": [
    "def get_map(my_lat_longs):\n",
    "    m = folium.Map(location=[33.7, -117.83], #[52.52, 13.41],\n",
    "                   zoom_start=13)\n",
    "    folium.Marker(\n",
    "        location=[my_lat_longs[0][0],my_lat_longs[0][1]] ,\n",
    "        icon=folium.Icon(icon='play', color='red')\n",
    "    ).add_to(m)\n",
    "    for loc in my_lat_longs[1:]:\n",
    "        folium.Marker(\n",
    "            location=[loc[0], loc[1]],\n",
    "            icon=folium.Icon(icon='stop', color='green')\n",
    "        ).add_to(m)\n",
    "            \n",
    "    for src_idx in range(len(lat_lon_coords)):\n",
    "        for dst_idx in range(len(lat_lon_coords)):\n",
    "            if src_idx == dst_idx:\n",
    "                break\n",
    "            source = lat_lon_coords[src_idx]\n",
    "            destination = lat_lon_coords[dst_idx]\n",
    "            loc = \"{},{};{},{}\".format(source[1], source[0], destination[1], destination[0])\n",
    "            url = \"http://router.project-osrm.org/route/v1/driving/\"\n",
    "            r = requests.get(url + loc) \n",
    "\n",
    "            res = r.json()   \n",
    "            routes = polyline.decode(res['routes'][0]['geometry'])\n",
    "\n",
    "            folium.PolyLine(\n",
    "                routes,\n",
    "                weight=5,\n",
    "                color='blue',\n",
    "                opacity=0.6\n",
    "            ).add_to(m)\n",
    "\n",
    "    return m\n",
    "get_map(lat_lon_coords)"
   ]
  },
  {
   "cell_type": "markdown",
   "id": "02184bfe",
   "metadata": {},
   "source": [
    "_____\n",
    "\n",
    "#### SPDX-FileCopyrightText: Copyright (c) 2022 NVIDIA CORPORATION & AFFILIATES. All rights reserved.\n",
    "\n",
    "#### SPDX-License-Identifier: MIT\n",
    "\n",
    "Permission is hereby granted, free of charge, to any person obtaining a\n",
    "copy of this software and associated documentation files (the \"Software\"),\n",
    "to deal in the Software without restriction, including without limitation\n",
    "the rights to use, copy, modify, merge, publish, distribute, sublicense,\n",
    "and/or sell copies of the Software, and to permit persons to whom the\n",
    "Software is furnished to do so, subject to the following conditions:\n",
    "The above copyright notice and this permission notice shall be included in\n",
    "all copies or substantial portions of the Software.\n",
    "\n",
    "THE SOFTWARE IS PROVIDED \"AS IS\", WITHOUT WARRANTY OF ANY KIND, EXPRESS OR\n",
    "IMPLIED, INCLUDING BUT NOT LIMITED TO THE WARRANTIES OF MERCHANTABILITY,\n",
    "FITNESS FOR A PARTICULAR PURPOSE AND NONINFRINGEMENT. IN NO EVENT SHALL\n",
    "THE AUTHORS OR COPYRIGHT HOLDERS BE LIABLE FOR ANY CLAIM, DAMAGES OR OTHER\n",
    "LIABILITY, WHETHER IN AN ACTION OF CONTRACT, TORT OR OTHERWISE, ARISING\n",
    "FROM, OUT OF OR IN CONNECTION WITH THE SOFTWARE OR THE USE OR OTHER\n",
    "DEALINGS IN THE SOFTWARE.\n",
    "\n",
    "---"
   ]
  }
 ],
 "metadata": {
  "kernelspec": {
   "display_name": "Python 3 (ipykernel)",
   "language": "python",
   "name": "python3"
  },
  "language_info": {
   "codemirror_mode": {
    "name": "ipython",
    "version": 3
   },
   "file_extension": ".py",
   "mimetype": "text/x-python",
   "name": "python",
   "nbconvert_exporter": "python",
   "pygments_lexer": "ipython3",
   "version": "3.8.13"
  },
  "vscode": {
   "interpreter": {
    "hash": "0f29e496949dc4ef652a1afa2d601ce2913fc84758b70efb060a954cb0e2d83f"
   }
  }
 },
 "nbformat": 4,
 "nbformat_minor": 5
}
