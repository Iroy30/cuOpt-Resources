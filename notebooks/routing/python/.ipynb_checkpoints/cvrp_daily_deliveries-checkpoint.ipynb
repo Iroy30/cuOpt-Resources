{
 "cells": [
  {
   "cell_type": "code",
   "execution_count": null,
   "id": "e67c5c1d",
   "metadata": {},
   "outputs": [],
   "source": [
    "from cuopt import routing\n",
    "from cuopt.routing import utils\n",
    "import cudf\n",
    "import pandas as pd"
   ]
  },
  {
   "cell_type": "markdown",
   "id": "ba50d71a",
   "metadata": {},
   "source": [
    "# Daily Deliveries\n",
    "## Capacitated Vehicle Routing Problem (CVRP)"
   ]
  },
  {
   "cell_type": "markdown",
   "id": "3ec34cd8",
   "metadata": {},
   "source": [
    "Micro fulfillment centers allow retailers to move predictable, high volume products closer to the end consumer allowing for lower costs and shorter overall delivery times.\n",
    "\n",
    "In this scenario we have a number of same-day delivery orders that we would like to process for a given area from a given micro fulfillment center. We have the requisite number of delivery vehicles and enough time to deliver all packages over the course of a single day. Each delivery vehicle has a maximum capacity of orders  it can carry and we are looking for the route assignment that minimizes the total distance driven by all vehicles."
   ]
  },
  {
   "cell_type": "markdown",
   "id": "4fc9ef31",
   "metadata": {},
   "source": [
    "### Problem Details:\n",
    "- 8 Locations each with an associated demand\n",
    "    - 1 MFC \n",
    "        - demand: [0]\n",
    "    - 7 Delivery Locations\n",
    "        - demand: [4, 4, 2, 2, 1, 2, 1]\n",
    "    \n",
    "\n",
    "- 3 Delivery vehicles each with an associated capacity\n",
    "    - 2 trucks\n",
    "        - capacity: [8, 8]\n",
    "    - 1 van\n",
    "        - capacity: [4]"
   ]
  },
  {
   "cell_type": "markdown",
   "id": "ed3c2736",
   "metadata": {},
   "source": [
    "Below we visualize the delivery locations with respect to the MFC.  The cost from all locations to all other locations (a cost matrix) will be required for optimization. To see an example of cost matrix generation from map data or a waypoint graph, refer to the [cost_matrix_creation.ipynb](cost_matrix_creation.ipynb) notebook.  For the purpose of this simple example we will omit the cost matrix calculation."
   ]
  },
  {
   "cell_type": "code",
   "execution_count": null,
   "id": "01b12b30",
   "metadata": {},
   "outputs": [],
   "source": [
    "location_names       = [ \"MFC\",     \"A\",    \"B\",    \"C\",    \"D\",    \"E\",    \"F\",    \"G\"  ]\n",
    "location_coordinates = [ [4, 4],    [1, 3], [8, 1], [2, 1], [6, 7], [0, 2], [7, 6], [5, 3] ]\n",
    "location_coordinates_df = pd.DataFrame(location_coordinates, columns=['xcord', 'ycord'], index=location_names)\n",
    "utils.gen_plot(location_coordinates_df).show()"
   ]
  },
  {
   "cell_type": "markdown",
   "id": "42ba94fb",
   "metadata": {},
   "source": [
    "### Cost Matrix"
   ]
  },
  {
   "cell_type": "markdown",
   "id": "82edd816",
   "metadata": {},
   "source": [
    "The cost matrix dictates the cost of travel between locations of interest.  The cost itself can be anything relevant to the user.  In this case we simply use distance as our cost.\n",
    "\n",
    "Here is the cost(distance) matrix corresponding to the above locations:"
   ]
  },
  {
   "cell_type": "code",
   "execution_count": null,
   "id": "bfa64aee",
   "metadata": {},
   "outputs": [],
   "source": [
    "distance_matrix = [\n",
    "    [0.0, 3.1, 5.0, 3.6, 3.6, 4.5, 3.6, 1.4],\n",
    "    [3.1, 0.0, 7.3, 2.2, 6.4, 1.4, 6.7, 4.0],\n",
    "    [5.0, 7.3, 0.0, 6.0, 6.3, 8.1, 5.1, 3.6],\n",
    "    [3.6, 2.2, 6.0, 0.0, 7.2, 2.2, 7.1, 3.6],\n",
    "    [3.6, 6.4, 6.3, 7.2, 0.0, 7.8, 1.4, 4.1],\n",
    "    [4.5, 1.4, 8.1, 2.2, 7.8, 0.0, 8.1, 5.1],\n",
    "    [3.6, 6.7, 5.1, 7.1, 1.4, 8.1, 0.0, 3.6],\n",
    "    [1.4, 4.0, 3.6, 3.6, 4.1, 5.1, 3.6, 0.0]\n",
    "]\n",
    "\n",
    "# Create a dataframe of this matrix\n",
    "distance_matrix  = cudf.DataFrame(distance_matrix, \n",
    "                                  index=location_coordinates_df.index, \n",
    "                                  columns=location_coordinates_df.index)\n",
    "distance_matrix"
   ]
  },
  {
   "cell_type": "markdown",
   "id": "161b18aa",
   "metadata": {},
   "source": [
    " ### Demand and Capacity"
   ]
  },
  {
   "cell_type": "markdown",
   "id": "3b038198",
   "metadata": {},
   "source": [
    "Set up the demand for each location and the capacity for each vehicle"
   ]
  },
  {
   "cell_type": "code",
   "execution_count": null,
   "id": "9cb56810",
   "metadata": {},
   "outputs": [],
   "source": [
    "#                 \"MFC\"   \"A\"    \"B\"    \"C\"    \"D\"     \"E\"     \"F\"     \"G\"\n",
    "location_demand = [ 0,     4,     4,     2,     2,      1,      2,      1]\n",
    "\n",
    "\n",
    "#                    Vehicle 0     Vehicle 1     Vehicle 2\n",
    "vehicle_capacity = [    8,             8,            4     ]"
   ]
  },
  {
   "cell_type": "markdown",
   "id": "9312c733",
   "metadata": {},
   "source": [
    "### cuOpt DataModel View"
   ]
  },
  {
   "cell_type": "markdown",
   "id": "dd9932de",
   "metadata": {},
   "source": [
    "Set up the cuOpt DataModel."
   ]
  },
  {
   "cell_type": "code",
   "execution_count": null,
   "id": "a02105ba",
   "metadata": {},
   "outputs": [],
   "source": [
    "n_locations = len(location_demand)\n",
    "n_vehicles = len(vehicle_capacity)\n",
    "\n",
    "data_model = routing.DataModel(n_locations, n_vehicles)\n",
    "\n",
    "# set the cost matrix\n",
    "data_model.add_cost_matrix(distance_matrix)\n",
    "\n",
    "# add a capacity dimension for the deliveries\n",
    "data_model.add_capacity_dimension(\n",
    "    \"deliveries\",\n",
    "    cudf.Series(location_demand),\n",
    "    cudf.Series(vehicle_capacity)\n",
    ")"
   ]
  },
  {
   "cell_type": "markdown",
   "id": "bc3d347a",
   "metadata": {},
   "source": [
    "### CuOpt SolverSettings"
   ]
  },
  {
   "cell_type": "markdown",
   "id": "32f0dafd",
   "metadata": {},
   "source": [
    "Set up cuOpt SolverSettings."
   ]
  },
  {
   "cell_type": "code",
   "execution_count": null,
   "id": "bd600ffa",
   "metadata": {},
   "outputs": [],
   "source": [
    "solver_settings = routing.SolverSettings()\n",
    "\n",
    "# set number of climbers that will try to search for an optimal routes in parallel\n",
    "solver_settings.set_number_of_climbers(128)\n",
    "\n",
    "# solver_settings will run for given time limit.  Larger and/or more complex problems may require more time.\n",
    "solver_settings.set_time_limit(0.01)\n"
   ]
  },
  {
   "cell_type": "markdown",
   "id": "e6bf223a",
   "metadata": {},
   "source": [
    "### Solution"
   ]
  },
  {
   "cell_type": "code",
   "execution_count": null,
   "id": "b4141fd5",
   "metadata": {},
   "outputs": [],
   "source": [
    "routing_solution = routing.Solve(data_model, solver_settings)\n",
    "if routing_solution.get_status() == 0:\n",
    "    print(\"Cost for the routing in distance: \", routing_solution.final_cost)\n",
    "    print(\"Vehicle count to complete routing: \", routing_solution.vehicle_count)\n",
    "    utils.show_vehicle_routes(routing_solution.route, location_names)\n",
    "    routing_solution.route\n",
    "else:\n",
    "    print(\"NVIDIA cuOpt Failed to find a solution with status : \", routing_solution.get_status())"
   ]
  },
  {
   "cell_type": "code",
   "execution_count": null,
   "id": "8618e29a",
   "metadata": {
    "scrolled": false
   },
   "outputs": [],
   "source": [
    "vehicle_colors = [\"red\", \"green\", \"blue\"]\n",
    "utils.map_vehicle_routes(location_coordinates_df, routing_solution.route, vehicle_colors).show()"
   ]
  },
  {
   "cell_type": "markdown",
   "id": "37ccafc5",
   "metadata": {},
   "source": [
    "### Additional Constraints \n",
    "##### Minimum Vehicles"
   ]
  },
  {
   "cell_type": "markdown",
   "id": "c560394e",
   "metadata": {},
   "source": [
    "cuOpt has found a solution that does not require all available vehicles because the combined capacity of the two larger vehicles (16) is equal to total location demand (16).  In some cases, this is a great solution as it gives the option to save on the costs associated with additional vehicles.  In other cases there is value to assigning all available resources.  In the latter case we can require that cuOpt use all 3 available vehicles and re-solve the problem with this constraint."
   ]
  },
  {
   "cell_type": "code",
   "execution_count": null,
   "id": "fab4aebb",
   "metadata": {},
   "outputs": [],
   "source": [
    "data_model.set_min_vehicles(n_vehicles)\n",
    "\n",
    "routing_solution = routing.Solve(data_model, solver_settings)\n",
    "if routing_solution.get_status() == 0:\n",
    "    print(\"Cost for the routing in distance: \", routing_solution.final_cost)\n",
    "    print(\"Vehicle count to complete routing: \", routing_solution.vehicle_count)\n",
    "    utils.show_vehicle_routes(routing_solution.route, location_names)\n",
    "    routing_solution.route\n",
    "else:\n",
    "    print(\"NVIDIA cuOpt Failed to find a solution with status : \", routing_solution.get_status())"
   ]
  },
  {
   "cell_type": "code",
   "execution_count": null,
   "id": "cb069a02",
   "metadata": {},
   "outputs": [],
   "source": [
    "routing_solution.route"
   ]
  },
  {
   "cell_type": "code",
   "execution_count": null,
   "id": "adb83802",
   "metadata": {},
   "outputs": [],
   "source": [
    "utils.map_vehicle_routes(location_coordinates_df, routing_solution.route, vehicle_colors).show()"
   ]
  },
  {
   "cell_type": "markdown",
   "id": "07a30d4b",
   "metadata": {},
   "source": [
    "_____\n",
    "\n",
    "#### SPDX-FileCopyrightText: Copyright (c) 2022 NVIDIA CORPORATION & AFFILIATES. All rights reserved.\n",
    "\n",
    "#### SPDX-License-Identifier: MIT\n",
    "\n",
    "Permission is hereby granted, free of charge, to any person obtaining a\n",
    "copy of this software and associated documentation files (the \"Software\"),\n",
    "to deal in the Software without restriction, including without limitation\n",
    "the rights to use, copy, modify, merge, publish, distribute, sublicense,\n",
    "and/or sell copies of the Software, and to permit persons to whom the\n",
    "Software is furnished to do so, subject to the following conditions:\n",
    "The above copyright notice and this permission notice shall be included in\n",
    "all copies or substantial portions of the Software.\n",
    "\n",
    "THE SOFTWARE IS PROVIDED \"AS IS\", WITHOUT WARRANTY OF ANY KIND, EXPRESS OR\n",
    "IMPLIED, INCLUDING BUT NOT LIMITED TO THE WARRANTIES OF MERCHANTABILITY,\n",
    "FITNESS FOR A PARTICULAR PURPOSE AND NONINFRINGEMENT. IN NO EVENT SHALL\n",
    "THE AUTHORS OR COPYRIGHT HOLDERS BE LIABLE FOR ANY CLAIM, DAMAGES OR OTHER\n",
    "LIABILITY, WHETHER IN AN ACTION OF CONTRACT, TORT OR OTHERWISE, ARISING\n",
    "FROM, OUT OF OR IN CONNECTION WITH THE SOFTWARE OR THE USE OR OTHER\n",
    "DEALINGS IN THE SOFTWARE.\n",
    "\n",
    "---"
   ]
  }
 ],
 "metadata": {
  "kernelspec": {
   "display_name": "Python 3 (ipykernel)",
   "language": "python",
   "name": "python3"
  },
  "language_info": {
   "codemirror_mode": {
    "name": "ipython",
    "version": 3
   },
   "file_extension": ".py",
   "mimetype": "text/x-python",
   "name": "python",
   "nbconvert_exporter": "python",
   "pygments_lexer": "ipython3",
   "version": "3.8.13"
  }
 },
 "nbformat": 4,
 "nbformat_minor": 5
}
