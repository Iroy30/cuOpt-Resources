{
 "cells": [
  {
   "cell_type": "code",
   "execution_count": null,
   "id": "65705fab",
   "metadata": {},
   "outputs": [],
   "source": [
    "from cuopt import routing\n",
    "from cuopt.routing import utils\n",
    "import cudf\n",
    "import pandas as pd"
   ]
  },
  {
   "cell_type": "markdown",
   "id": "fbb36201",
   "metadata": {},
   "source": [
    "# Priority Routing\n",
    "## Capacitated Vehicle Routing Problem with Soft Time Windows (CVRPSTW)"
   ]
  },
  {
   "cell_type": "markdown",
   "id": "bffb5f0c",
   "metadata": {},
   "source": [
    "Loyalty (or Preferred) customer programs help companies to reward repeat customers and enhance their overall business offering. While the best possible customer service is always the goal, loyalty programs provide a mechanism for reinforcing the relationship with the customers that drive business revenue.\n",
    "\n",
    "In this scenario we have a set of deliveries with target time windows for delivery that do not represent a feasible solution given the delivery vehicles that are available. We would still like to deliver all the packages even if some of them are a little behind schedule. However, we would like to prioritize the deliveries of customers in our loyalty program to minimize the delay these customers experience.\n",
    "\n",
    "We also want to optimize according to a business defined cost objective that is a combination of business relevant metrics. To track time window constraints we will pass a time matrix as a constraint checking \"secondary matrix\".\n"
   ]
  },
  {
   "cell_type": "markdown",
   "id": "cb33a971",
   "metadata": {},
   "source": [
    "### Problem Details:\n",
    "- 8 Locations each with an associated demand\n",
    "    - 1 Distribution Center \n",
    "        - distribution center demand: [0]\n",
    "        - hours of operation: [0,24]\n",
    "    - 7 Service Locations\n",
    "        - demand for deliveries: [1, 1, 1, 1, 1, 1, 1]\n",
    "        - delivery time windows: [[9,10],[9,10],[9,10],[10,11],[10,11],[10,11],[9,10]]\n",
    "        - service location service times: [ 0.25, 0.25, 0.25, 0.25, 0.25, 0.25, 0.25]\n",
    "        - loyalty program member: [1, 0, 0, 0, 1, 0, 1]\n",
    "\n",
    "- 3 Delivery vehicles each with an associated capacity\n",
    "    - 3 delivery vehicles\n",
    "        - capacity for deliveries: [3, 3, 3]"
   ]
  },
  {
   "cell_type": "markdown",
   "id": "baa93a42",
   "metadata": {},
   "source": [
    "Below we visualize the delivery locations with respect to the distribution center. The cost from all locations to all other locations (a cost matrix) will be required for optimization. To see an example of cost matrix generation from map data or a waypoint graph, refer to the [cost_matrix_creation.ipynb](cost_matrix_creation.ipynb) notebook.  For the purpose of this simple example we will omit the cost matrix calculation."
   ]
  },
  {
   "cell_type": "code",
   "execution_count": null,
   "id": "e747d30d",
   "metadata": {
    "scrolled": true
   },
   "outputs": [],
   "source": [
    "location_names       = [      \"DC\",          \"A\",    \"B\",    \"C\",    \"D\",    \"E\",    \"F\",    \"G\"  ]\n",
    "location_coordinates = [     [4, 4],        [1, 3], [8, 1], [2, 1], [6, 7], [0, 2], [7, 6], [5, 3] ]\n",
    "location_coordinates_df = pd.DataFrame(location_coordinates, columns=['xcord', 'ycord'], index=location_names)\n",
    "utils.gen_plot(location_coordinates_df).show()"
   ]
  },
  {
   "cell_type": "markdown",
   "id": "1307fc95",
   "metadata": {},
   "source": [
    "### Cost Matrix : Primary"
   ]
  },
  {
   "cell_type": "markdown",
   "id": "27525bf2",
   "metadata": {},
   "source": [
    "The cost matrix dictates the cost of travel between locations of interest.  The cost itself can be anything relevant to the user.  In this case we are using a business defined cost objective as a primary cost matrix and a secondary time matrix to verify our time based constraints. \n",
    "\n",
    "Here is the cost(business metric) matrix corresponding to the locations above:"
   ]
  },
  {
   "cell_type": "code",
   "execution_count": null,
   "id": "ef01144e",
   "metadata": {},
   "outputs": [],
   "source": [
    "business_metric_cost_matrix = [\n",
    "    [0.0, 3.1, 5.0, 3.6, 3.6, 4.5, 3.6, 1.4],\n",
    "    [3.1, 0.0, 7.3, 2.2, 6.4, 1.4, 6.7, 4.0],\n",
    "    [5.0, 7.3, 0.0, 6.0, 6.3, 8.1, 5.1, 3.6],\n",
    "    [3.6, 2.2, 6.0, 0.0, 7.2, 2.2, 7.1, 3.6],\n",
    "    [3.6, 6.4, 6.3, 7.2, 0.0, 7.8, 1.4, 4.1],\n",
    "    [4.5, 1.4, 8.1, 2.2, 7.8, 0.0, 8.1, 5.1],\n",
    "    [3.6, 6.7, 5.1, 7.1, 1.4, 8.1, 0.0, 3.6],\n",
    "    [1.4, 4.0, 3.6, 3.6, 4.1, 5.1, 3.6, 0.0]\n",
    "]\n",
    "\n",
    "# Create a dataframe of this matrix\n",
    "business_metric_cost_matrix  = cudf.DataFrame(business_metric_cost_matrix, \n",
    "                                              index=location_coordinates_df.index, \n",
    "                                              columns=location_coordinates_df.index)\n",
    "business_metric_cost_matrix"
   ]
  },
  {
   "cell_type": "markdown",
   "id": "9671d772",
   "metadata": {},
   "source": [
    "### Cost Matrix : Secondary"
   ]
  },
  {
   "cell_type": "markdown",
   "id": "d226f72b",
   "metadata": {},
   "source": [
    "Here is the constraint checking (time) secondary matrix:"
   ]
  },
  {
   "cell_type": "code",
   "execution_count": null,
   "id": "145a2560",
   "metadata": {},
   "outputs": [],
   "source": [
    "constraint_checking_time_matrix = [\n",
    "    [0.00, 0.39, 0.63, 0.45, 0.45, 0.55, 0.45, 0.18 ],\n",
    "    [0.39, 0.00, 0.90, 0.28, 0.80, 0.18, 0.84, 0.50 ],\n",
    "    [0.63, 0.90, 0.00, 0.75, 0.79, 1.00, 0.64, 0.45 ],\n",
    "    [0.45, 0.28, 0.75, 0.00, 0.90, 0.28, 0.88, 0.45 ],\n",
    "    [0.45, 0.80, 0.79, 0.90, 0.00, 0.96, 0.18, 0.51 ],\n",
    "    [0.55, 0.18, 1.00, 0.28, 0.96, 0.00, 1.00, 0.64 ],\n",
    "    [0.45, 0.84, 0.64, 0.88, 0.18, 1.00, 0.00, 0.45 ],\n",
    "    [0.18, 0.50, 0.45, 0.45, 0.51, 0.64, 0.45, 0.00 ]\n",
    "]\n",
    "\n",
    "# Create a dataframe of this matrix\n",
    "constraint_checking_time_matrix  = cudf.DataFrame(constraint_checking_time_matrix, \n",
    "                                                  index=location_coordinates_df.index, \n",
    "                                                  columns=location_coordinates_df.index)\n",
    "constraint_checking_time_matrix"
   ]
  },
  {
   "cell_type": "markdown",
   "id": "cbd80cd3",
   "metadata": {},
   "source": [
    "### Deliveries"
   ]
  },
  {
   "cell_type": "markdown",
   "id": "54d6af91",
   "metadata": {},
   "source": [
    "Setup the delivery data"
   ]
  },
  {
   "cell_type": "code",
   "execution_count": null,
   "id": "28e33246",
   "metadata": {},
   "outputs": [],
   "source": [
    "delivery_location_data = {\n",
    "    \"location_ids\": location_names,\n",
    "    \"delivery_demand\":        [0,  1,  1,  1,  1,  1,  1,  1 ],\n",
    "    \"location_earliest_time\": [5,  9,  9,  9,  10, 10, 10, 9 ],\n",
    "    \"location_latest_time\":   [20, 10, 10, 10, 11, 11, 11, 10],\n",
    "    \"required_service_time\":  [0,  1,  1,  1,  1,  1,  1,  1 ],\n",
    "    \"loyalty_member\":         [0,  0,  1,  0,  1,  0,  1,  0 ]\n",
    "}\n",
    "delivery_location_data = cudf.DataFrame(delivery_location_data).set_index('location_ids')\n",
    "delivery_location_data"
   ]
  },
  {
   "cell_type": "markdown",
   "id": "6bace17e",
   "metadata": {},
   "source": [
    "### Vehicles"
   ]
  },
  {
   "cell_type": "markdown",
   "id": "49cb13c9",
   "metadata": {},
   "source": [
    "Setup delivery vehicle data"
   ]
  },
  {
   "cell_type": "code",
   "execution_count": null,
   "id": "f4931236",
   "metadata": {},
   "outputs": [],
   "source": [
    "n_vehicles = 3\n",
    "vehicle_data = {\n",
    "    \"vehicle_ids\": [i for i in range(n_vehicles)],\n",
    "    \"delivery_capacity\":[3, 3, 3]\n",
    "}\n",
    "vehicle_data = cudf.DataFrame(vehicle_data).set_index('vehicle_ids')\n",
    "vehicle_data"
   ]
  },
  {
   "cell_type": "markdown",
   "id": "e5738d68",
   "metadata": {},
   "source": [
    "### cuOpt DataModel View"
   ]
  },
  {
   "cell_type": "markdown",
   "id": "fa84f4d7",
   "metadata": {},
   "source": [
    "Setup the routing.DataModel."
   ]
  },
  {
   "cell_type": "code",
   "execution_count": null,
   "id": "c0bcf99c",
   "metadata": {},
   "outputs": [],
   "source": [
    "n_locations = len(delivery_location_data)\n",
    "n_vehicles = len(vehicle_data)\n",
    "\n",
    "data_model = routing.DataModel(n_locations, n_vehicles)\n",
    "\n",
    "# set the primary cost matrix\n",
    "data_model.add_cost_matrix(business_metric_cost_matrix)\n",
    "\n",
    "# set the secondary constraint checking time matrix\n",
    "data_model.add_transit_time_matrix(constraint_checking_time_matrix)\n",
    "\n",
    "# add a capacity dimension for deliveries\n",
    "data_model.add_capacity_dimension(\n",
    "    \"deliveries\",\n",
    "    cudf.Series(delivery_location_data[\"delivery_demand\"]),\n",
    "    cudf.Series(vehicle_data[\"delivery_capacity\"])\n",
    ")\n",
    "\n",
    "# add time windows and service time for the locations\n",
    "data_model.set_order_time_windows(\n",
    "    delivery_location_data[\"location_earliest_time\"],\n",
    "    delivery_location_data[\"location_latest_time\"], \n",
    "    delivery_location_data[\"required_service_time\"]\n",
    ")"
   ]
  },
  {
   "cell_type": "markdown",
   "id": "82f4dd75",
   "metadata": {},
   "source": [
    "### CuOpt SolverSettings"
   ]
  },
  {
   "cell_type": "markdown",
   "id": "a606dd07",
   "metadata": {},
   "source": [
    "Set up routing.SolverSettings."
   ]
  },
  {
   "cell_type": "code",
   "execution_count": null,
   "id": "d0f811c5",
   "metadata": {
    "scrolled": true
   },
   "outputs": [],
   "source": [
    "solver_settings = routing.SolverSettings()\n",
    "\n",
    "# set number of climbers that will try to search for an optimal routes in parallel\n",
    "solver_settings.set_number_of_climbers(128)\n",
    "\n",
    "# solver_settings will run for given time limit.  Larger and/or more complex problems may require more time.\n",
    "solver_settings.set_time_limit(0.05)"
   ]
  },
  {
   "cell_type": "markdown",
   "id": "1d2997dd",
   "metadata": {},
   "source": [
    "### Attempted Solution"
   ]
  },
  {
   "cell_type": "markdown",
   "id": "284aaabd",
   "metadata": {},
   "source": [
    "We can attempt to solve this problem as stated but as previously discussed it is not feasible within the specified target time windows"
   ]
  },
  {
   "cell_type": "code",
   "execution_count": null,
   "id": "a63b509b",
   "metadata": {},
   "outputs": [],
   "source": [
    "routing_solution = routing.Solve(data_model, solver_settings)\n",
    "if routing_solution.get_status() == 0:\n",
    "    print(\"Cost for the routing in time: \", routing_solution.final_cost)\n",
    "    print(\"Vehicle count to complete routing: \", routing_solution.vehicle_count)\n",
    "    utils.show_vehicle_routes(routing_solution.route, location_names)\n",
    "    routing_solution.route\n",
    "else:\n",
    "    print(\"NVIDIA cuOpt Failed to find a solution with status : \", routing_solution.get_status())"
   ]
  },
  {
   "cell_type": "markdown",
   "id": "3f863e49",
   "metadata": {},
   "source": [
    "cuOpt is unable to find a feasible solution.  As previously discussed we would like to allow the deliveries to exceed the latest time windows by using soft time windows"
   ]
  },
  {
   "cell_type": "markdown",
   "id": "900028af",
   "metadata": {},
   "source": [
    "### Initial Solution"
   ]
  },
  {
   "cell_type": "code",
   "execution_count": null,
   "id": "8f6e8a2c",
   "metadata": {},
   "outputs": [],
   "source": [
    "solver_settings.set_solution_scope(routing.Scope.SOFT_TW)"
   ]
  },
  {
   "cell_type": "code",
   "execution_count": null,
   "id": "098c0061",
   "metadata": {},
   "outputs": [],
   "source": [
    "routing_solution = routing.Solve(data_model, solver_settings)\n",
    "if routing_solution.get_status() == 0:\n",
    "    print(\"Cost for the routing in time: \", routing_solution.final_cost)\n",
    "    print(\"Vehicle count to complete routing: \", routing_solution.vehicle_count)\n",
    "    utils.show_vehicle_routes(routing_solution.route, location_names)\n",
    "    routing_solution.route\n",
    "else:\n",
    "    print(\"NVIDIA cuOpt Failed to find a solution with status : \", routing_solution.get_status())"
   ]
  },
  {
   "cell_type": "markdown",
   "id": "42445bf0",
   "metadata": {},
   "source": [
    "This works but if we look at the violations of latest arrival times we can see that some of our loyalty program customers are experiencing significant delivery delays.  \n",
    "**Note** Positive value in the delay column represents how late the delivery was compared to the latest target time."
   ]
  },
  {
   "cell_type": "code",
   "execution_count": null,
   "id": "d1845a27",
   "metadata": {},
   "outputs": [],
   "source": [
    "solution_data = routing_solution.route\n",
    "solution_data['route'] = [location_names[i] for i in routing_solution.route['route'].to_arrow().to_pylist()]\n",
    "solution_data = routing_solution.route.set_index('route')\n",
    "solution_data = solution_data.join(delivery_location_data[\"location_latest_time\"])\n",
    "solution_data = solution_data.join(delivery_location_data[\"loyalty_member\"])\n",
    "solution_data[\"delay\"] = solution_data[\"arrival_stamp\"] - solution_data[\"location_latest_time\"]\n",
    "solution_data"
   ]
  },
  {
   "cell_type": "code",
   "execution_count": null,
   "id": "984c2b7c",
   "metadata": {
    "scrolled": true
   },
   "outputs": [],
   "source": [
    "priority_delay = solution_data[(solution_data['delay'] > 0) & (solution_data['loyalty_member'] == 1)]\n",
    "total_priority_delay = priority_delay['delay'].sum()\n",
    "print(f\"Total delay of priority orders is {total_priority_delay}\")"
   ]
  },
  {
   "cell_type": "markdown",
   "id": "4672f2be",
   "metadata": {},
   "source": [
    "### Improved Solution"
   ]
  },
  {
   "cell_type": "markdown",
   "id": "ccb8970b",
   "metadata": {},
   "source": [
    "##### Introducing Penalty"
   ]
  },
  {
   "cell_type": "markdown",
   "id": "e81c2d40",
   "metadata": {},
   "source": [
    "We can address this issue by assessing a large penalty for delivering late to loyalty members. "
   ]
  },
  {
   "cell_type": "code",
   "execution_count": null,
   "id": "ed8275da",
   "metadata": {},
   "outputs": [],
   "source": [
    "delivery_location_data['penalty'] = delivery_location_data[\"loyalty_member\"]*100\n",
    "delivery_location_data"
   ]
  },
  {
   "cell_type": "markdown",
   "id": "2f58006b",
   "metadata": {},
   "source": [
    "Recreate the DataModel, adding penalty to the time windows"
   ]
  },
  {
   "cell_type": "code",
   "execution_count": null,
   "id": "100986d9",
   "metadata": {},
   "outputs": [],
   "source": [
    "data_model_with_penalty = routing.DataModel(n_locations, n_vehicles)\n",
    "\n",
    "# set the primary cost matrix\n",
    "data_model_with_penalty.add_cost_matrix(business_metric_cost_matrix)\n",
    "\n",
    "# set the secondary constraint checking time matrix\n",
    "data_model_with_penalty.add_transit_time_matrix(constraint_checking_time_matrix)\n",
    "\n",
    "# add a capacity dimension for deliveries\n",
    "data_model_with_penalty.add_capacity_dimension(\n",
    "    \"deliveries\",\n",
    "    cudf.Series(delivery_location_data[\"delivery_demand\"]),\n",
    "    cudf.Series(vehicle_data[\"delivery_capacity\"])\n",
    ")\n",
    "\n",
    "# add time windows and service time for the locations\n",
    "data_model_with_penalty.set_order_time_windows(\n",
    "    delivery_location_data[\"location_earliest_time\"],\n",
    "    delivery_location_data[\"location_latest_time\"], \n",
    "    delivery_location_data[\"required_service_time\"],\n",
    "    delivery_location_data[\"penalty\"]\n",
    ")"
   ]
  },
  {
   "cell_type": "markdown",
   "id": "e6e1eda1",
   "metadata": {},
   "source": [
    "Setup another solver_settings instance"
   ]
  },
  {
   "cell_type": "code",
   "execution_count": null,
   "id": "fff016f4",
   "metadata": {},
   "outputs": [],
   "source": [
    "solver_settings = routing.SolverSettings()\n",
    "\n",
    "# set number of climbers that will try to search for an optimal routes in parallel\n",
    "solver_settings.set_number_of_climbers(128)\n",
    "\n",
    "# solver_settings will run for given time limit.  Larger and/or more complex problems may require more time.\n",
    "solver_settings.set_time_limit(0.05)\n",
    "\n",
    "# allow for soft time windows\n",
    "solver_settings.set_solution_scope(routing.Scope.SOFT_TW)"
   ]
  },
  {
   "cell_type": "code",
   "execution_count": null,
   "id": "35d19881",
   "metadata": {},
   "outputs": [],
   "source": [
    "routing_solution = routing.Solve(data_model_with_penalty, solver_settings)\n",
    "if routing_solution.get_status() == 0:\n",
    "    print(\"Cost for the routing in time: \", routing_solution.final_cost)\n",
    "    print(\"Vehicle count to complete routing: \", routing_solution.vehicle_count)\n",
    "    utils.show_vehicle_routes(routing_solution.route, location_names)\n",
    "else:\n",
    "    print(\"NVIDIA cuOpt Failed to find a solution with status : \", routing_solution.get_status())"
   ]
  },
  {
   "cell_type": "markdown",
   "id": "3ce0e0da",
   "metadata": {},
   "source": [
    "**Note**: The new solution decreases the delay seen by priority customers as seen below"
   ]
  },
  {
   "cell_type": "code",
   "execution_count": null,
   "id": "a9c2d01b",
   "metadata": {},
   "outputs": [],
   "source": [
    "solution_data_priority = routing_solution.route\n",
    "solution_data_priority['route'] = [location_names[i] for i in routing_solution.route['route'].to_arrow().to_pylist()]\n",
    "solution_data_priority = routing_solution.route.set_index('route')\n",
    "solution_data_priority = solution_data_priority.join(delivery_location_data[\"location_latest_time\"])\n",
    "solution_data_priority = solution_data_priority.join(delivery_location_data[\"loyalty_member\"])\n",
    "solution_data_priority[\"delay\"] = solution_data_priority[\"arrival_stamp\"] - solution_data_priority[\"location_latest_time\"]\n",
    "solution_data_priority"
   ]
  },
  {
   "cell_type": "markdown",
   "id": "7c9d265a",
   "metadata": {},
   "source": [
    "### Reduced Delay for Priority Orders"
   ]
  },
  {
   "cell_type": "code",
   "execution_count": null,
   "id": "8887d9a9",
   "metadata": {},
   "outputs": [],
   "source": [
    "priority_delay_penalty = solution_data_priority[(solution_data_priority['delay'] > 0) & (solution_data_priority['loyalty_member'] == 1)]\n",
    "total_priority_delay_penalty = priority_delay_penalty['delay'].sum()\n",
    "print(f\"Total delay of priority orders is now {total_priority_delay_penalty}\")\n",
    "print(f\"Reduced the total delay to loyalty customers by {total_priority_delay - total_priority_delay_penalty}.\")"
   ]
  },
  {
   "cell_type": "markdown",
   "id": "3f675726",
   "metadata": {},
   "source": [
    "_____\n",
    "\n",
    "#### SPDX-FileCopyrightText: Copyright (c) 2022 NVIDIA CORPORATION & AFFILIATES. All rights reserved.\n",
    "\n",
    "#### SPDX-License-Identifier: MIT\n",
    "\n",
    "Permission is hereby granted, free of charge, to any person obtaining a\n",
    "copy of this software and associated documentation files (the \"Software\"),\n",
    "to deal in the Software without restriction, including without limitation\n",
    "the rights to use, copy, modify, merge, publish, distribute, sublicense,\n",
    "and/or sell copies of the Software, and to permit persons to whom the\n",
    "Software is furnished to do so, subject to the following conditions:\n",
    "The above copyright notice and this permission notice shall be included in\n",
    "all copies or substantial portions of the Software.\n",
    "\n",
    "THE SOFTWARE IS PROVIDED \"AS IS\", WITHOUT WARRANTY OF ANY KIND, EXPRESS OR\n",
    "IMPLIED, INCLUDING BUT NOT LIMITED TO THE WARRANTIES OF MERCHANTABILITY,\n",
    "FITNESS FOR A PARTICULAR PURPOSE AND NONINFRINGEMENT. IN NO EVENT SHALL\n",
    "THE AUTHORS OR COPYRIGHT HOLDERS BE LIABLE FOR ANY CLAIM, DAMAGES OR OTHER\n",
    "LIABILITY, WHETHER IN AN ACTION OF CONTRACT, TORT OR OTHERWISE, ARISING\n",
    "FROM, OUT OF OR IN CONNECTION WITH THE SOFTWARE OR THE USE OR OTHER\n",
    "DEALINGS IN THE SOFTWARE.\n",
    "\n",
    "---"
   ]
  }
 ],
 "metadata": {
  "kernelspec": {
   "display_name": "Python 3 (ipykernel)",
   "language": "python",
   "name": "python3"
  },
  "language_info": {
   "codemirror_mode": {
    "name": "ipython",
    "version": 3
   },
   "file_extension": ".py",
   "mimetype": "text/x-python",
   "name": "python",
   "nbconvert_exporter": "python",
   "pygments_lexer": "ipython3",
   "version": "3.8.13"
  }
 },
 "nbformat": 4,
 "nbformat_minor": 5
}
