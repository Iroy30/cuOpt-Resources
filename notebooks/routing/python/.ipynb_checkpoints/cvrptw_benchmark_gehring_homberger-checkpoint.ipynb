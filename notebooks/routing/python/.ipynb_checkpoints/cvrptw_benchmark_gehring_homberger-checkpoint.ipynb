{
 "cells": [
  {
   "cell_type": "markdown",
   "id": "a05e01aa",
   "metadata": {},
   "source": [
    "<details><summary> </summary>\n",
    "\n",
    "# Skip notebook test\n",
    "\n",
    "</details>"
   ]
  },
  {
   "cell_type": "code",
   "execution_count": null,
   "id": "afc57ab3",
   "metadata": {},
   "outputs": [],
   "source": [
    "import cudf\n",
    "from cuopt import routing\n",
    "import numpy as np\n",
    "import os\n",
    "from cuopt.routing import utils\n",
    "from scipy.spatial import distance"
   ]
  },
  {
   "cell_type": "markdown",
   "id": "0d500386",
   "metadata": {},
   "source": [
    "# Benchmark Gehring & Homberger\n",
    "## Capacitated Vehicle Routing Problem with Time Windows (CVRPTW)"
   ]
  },
  {
   "cell_type": "markdown",
   "id": "30e63d74",
   "metadata": {},
   "source": [
    "While other notebooks such as [cvrptw_service_team_routing.ipynb](cvrptw_service_team_routing.ipynb) focus on the cuOpt API and high level problem modeling, here we focus on performance.\n",
    "\n",
    "cuOpt offers a unique benefit over other solver_settingss, specifically, time to solution.  In addition to achieving world class accuracy, cuOpt also produces these solutions in a time frame that allows for re-optimization in dynamic environments and rapid iteration over possible problem configurations.\n",
    "\n",
    "Here we are demonstrating this performance on a large popular academic [dataset by Gehing & Homberger](https://www.sintef.no/projectweb/top/vrptw/homberger-benchmark/).  These problems are well studied and used as the basis for comparison for VRP research and product offerings. The particular instance we will test with is from the group of largest (1000 location) problems.  Each problem instance has an associated best known solution, the one we will measure against is shown below"
   ]
  },
  {
   "cell_type": "code",
   "execution_count": null,
   "id": "65860d5d",
   "metadata": {},
   "outputs": [],
   "source": [
    "homberger_1000_file = 'notebook_utils/data/C1_10_1.TXT'\n",
    "\n",
    "best_known_solution = {\n",
    "    \"n_vehicles\": 100,\n",
    "    \"cost\": 42478.95\n",
    "}"
   ]
  },
  {
   "cell_type": "markdown",
   "id": "af25d3f9",
   "metadata": {},
   "source": [
    "### Problem Data\n",
    "The data for this problem instance are provided via text file.  cuOpt has a utility function available specifically for the Gehring & Homberger benchmark which converts the problem into the components required by cuOpt."
   ]
  },
  {
   "cell_type": "code",
   "execution_count": null,
   "id": "fd6089b5",
   "metadata": {},
   "outputs": [],
   "source": [
    "orders, vehicle_capacity, n_vehicles = utils.create_from_file(homberger_1000_file)\n",
    "\n",
    "print(\"Number of locations          : \", orders[\"demand\"].shape[0]-1)\n",
    "print(\"Number of vehicles available : \", n_vehicles)\n",
    "print(\"Capacity of each vehicle     : \", vehicle_capacity)\n",
    "print(\"\\nInitial Orders information\")\n",
    "print(orders)"
   ]
  },
  {
   "cell_type": "markdown",
   "id": "ba4eb34d",
   "metadata": {},
   "source": [
    "### Cost Matrix"
   ]
  },
  {
   "cell_type": "code",
   "execution_count": null,
   "id": "0cc3ced9",
   "metadata": {},
   "outputs": [],
   "source": [
    "coords = list(zip(orders['xcord'].to_arrow().to_pylist(),\n",
    "                  orders['ycord'].to_arrow().to_pylist()))\n",
    "\n",
    "cost_matrix = cudf.DataFrame(distance.cdist(coords, coords, 'euclidean')).astype(np.float32)\n",
    "print(f\"Shape of cost matrix: {cost_matrix.shape}\")"
   ]
  },
  {
   "cell_type": "markdown",
   "id": "1262221d",
   "metadata": {},
   "source": [
    "### cuOpt DataModel View"
   ]
  },
  {
   "cell_type": "markdown",
   "id": "892ad25f",
   "metadata": {},
   "source": [
    "Setup the routing.DataModel."
   ]
  },
  {
   "cell_type": "code",
   "execution_count": null,
   "id": "017f7783",
   "metadata": {},
   "outputs": [],
   "source": [
    "n_locations = len(cost_matrix)\n",
    "\n",
    "data_model = routing.DataModel(n_locations, n_vehicles)\n",
    "data_model.add_cost_matrix(cost_matrix)\n",
    "\n",
    "capacity = cudf.Series([vehicle_capacity] * n_vehicles)\n",
    "data_model.add_capacity_dimension(\"demand\", orders['demand'], capacity)\n",
    "\n",
    "data_model.set_order_time_windows(orders['earliest_time'], orders['latest_time'], orders['service_time'])"
   ]
  },
  {
   "cell_type": "markdown",
   "id": "e4f9a455",
   "metadata": {},
   "source": [
    "### CuOpt SolverSettings"
   ]
  },
  {
   "cell_type": "markdown",
   "id": "0097b2a6",
   "metadata": {},
   "source": [
    "Set up routing.SolverSettings."
   ]
  },
  {
   "cell_type": "code",
   "execution_count": null,
   "id": "3eddb994",
   "metadata": {},
   "outputs": [],
   "source": [
    "solver_settings = routing.SolverSettings()\n",
    "\n",
    "# set number of climbers that will try to search for an optimal routes in parallel\n",
    "solver_settings.set_number_of_climbers(2048)"
   ]
  },
  {
   "cell_type": "markdown",
   "id": "50e77fb4",
   "metadata": {},
   "source": [
    "### Solution"
   ]
  },
  {
   "cell_type": "markdown",
   "id": "dd5fc419",
   "metadata": {},
   "source": [
    "Here we will examine the quality of the solution we increase the time budget provided to cuOpt"
   ]
  },
  {
   "cell_type": "code",
   "execution_count": null,
   "id": "f0a0934d",
   "metadata": {},
   "outputs": [],
   "source": [
    "def solve_problem(data_model, solver_settings, problem_size):\n",
    "    routing_solution = routing.Solve(data_model, solver_settings)\n",
    "    if routing_solution.get_status() == 0:\n",
    "        print(\"Cost for the routing in time: \", routing_solution.final_cost)\n",
    "        print(\"Vehicle count to complete routing: \", routing_solution.vehicle_count)\n",
    "        utils.show_vehicle_routes(routing_solution.route, [\"Depot\"]+[str(i) for i in range(1, problem_size+1)])\n",
    "    else:\n",
    "        print(\"NVIDIA cuOpt Failed to find a solution with status : \", routing_solution.get_status())\n",
    "        \n",
    "    return(routing_solution.vehicle_count, routing_solution.final_cost)"
   ]
  },
  {
   "cell_type": "code",
   "execution_count": null,
   "id": "b8880748",
   "metadata": {},
   "outputs": [],
   "source": [
    "def solution_eval(vehicles, cost, best_known_solution):\n",
    "    \n",
    "    print(f\"- cuOpt provides a solution using {vehicles} vehicles\")\n",
    "    print(f\"- This represents {vehicles - best_known_solution['n_vehicles']} more than the best known solution\")\n",
    "    print(f\"- Vehicle Percent Difference {(vehicles/best_known_solution['n_vehicles'] - 1)*100}% \\n\\n\")\n",
    "    print(f\"- In addition cuOpt provides a solution cost of {cost}\") \n",
    "    print(f\"- Best known solution cost is {best_known_solution['cost']}\")\n",
    "    print(f\"- Cost Percent Difference {(cost/best_known_solution['cost'] - 1)*100}%\")"
   ]
  },
  {
   "cell_type": "markdown",
   "id": "0941d56f",
   "metadata": {},
   "source": [
    "**1 Second Time Limit**"
   ]
  },
  {
   "cell_type": "code",
   "execution_count": null,
   "id": "70f12ffa",
   "metadata": {},
   "outputs": [],
   "source": [
    "solver_settings.set_time_limit(1)\n",
    "vehicles, cost = solve_problem(data_model, solver_settings, len(cost_matrix))"
   ]
  },
  {
   "cell_type": "code",
   "execution_count": null,
   "id": "a2453b1b",
   "metadata": {},
   "outputs": [],
   "source": [
    "# Evaluation:\n",
    "solution_eval(vehicles, cost, best_known_solution)"
   ]
  },
  {
   "cell_type": "code",
   "execution_count": null,
   "id": "bed97098",
   "metadata": {},
   "outputs": [],
   "source": []
  },
  {
   "cell_type": "markdown",
   "id": "04ef0c21",
   "metadata": {},
   "source": [
    "**10 Second Time Limit**"
   ]
  },
  {
   "cell_type": "code",
   "execution_count": null,
   "id": "3934d8de",
   "metadata": {},
   "outputs": [],
   "source": [
    "solver_settings.set_time_limit(10)\n",
    "vehicles, cost = solve_problem(data_model, solver_settings, len(cost_matrix))"
   ]
  },
  {
   "cell_type": "code",
   "execution_count": null,
   "id": "7ab5e6d1",
   "metadata": {},
   "outputs": [],
   "source": [
    "# Evaluation:\n",
    "solution_eval(vehicles, cost, best_known_solution)"
   ]
  },
  {
   "cell_type": "markdown",
   "id": "a9a1b855",
   "metadata": {},
   "source": [
    "**20 Second Time Limit**"
   ]
  },
  {
   "cell_type": "code",
   "execution_count": null,
   "id": "e0c38643",
   "metadata": {},
   "outputs": [],
   "source": [
    "solver_settings.set_time_limit(20)\n",
    "vehicles, cost = solve_problem(data_model, solver_settings, len(cost_matrix))"
   ]
  },
  {
   "cell_type": "code",
   "execution_count": null,
   "id": "ff80118b",
   "metadata": {},
   "outputs": [],
   "source": [
    "# Evaluation:\n",
    "solution_eval(vehicles, cost, best_known_solution)"
   ]
  },
  {
   "cell_type": "markdown",
   "id": "e55b584b",
   "metadata": {},
   "source": [
    "_____\n",
    "\n",
    "#### SPDX-FileCopyrightText: Copyright (c) 2022 NVIDIA CORPORATION & AFFILIATES. All rights reserved.\n",
    "\n",
    "#### SPDX-License-Identifier: MIT\n",
    "\n",
    "Permission is hereby granted, free of charge, to any person obtaining a\n",
    "copy of this software and associated documentation files (the \"Software\"),\n",
    "to deal in the Software without restriction, including without limitation\n",
    "the rights to use, copy, modify, merge, publish, distribute, sublicense,\n",
    "and/or sell copies of the Software, and to permit persons to whom the\n",
    "Software is furnished to do so, subject to the following conditions:\n",
    "The above copyright notice and this permission notice shall be included in\n",
    "all copies or substantial portions of the Software.\n",
    "\n",
    "THE SOFTWARE IS PROVIDED \"AS IS\", WITHOUT WARRANTY OF ANY KIND, EXPRESS OR\n",
    "IMPLIED, INCLUDING BUT NOT LIMITED TO THE WARRANTIES OF MERCHANTABILITY,\n",
    "FITNESS FOR A PARTICULAR PURPOSE AND NONINFRINGEMENT. IN NO EVENT SHALL\n",
    "THE AUTHORS OR COPYRIGHT HOLDERS BE LIABLE FOR ANY CLAIM, DAMAGES OR OTHER\n",
    "LIABILITY, WHETHER IN AN ACTION OF CONTRACT, TORT OR OTHERWISE, ARISING\n",
    "FROM, OUT OF OR IN CONNECTION WITH THE SOFTWARE OR THE USE OR OTHER\n",
    "DEALINGS IN THE SOFTWARE.\n",
    "\n",
    "---"
   ]
  }
 ],
 "metadata": {
  "kernelspec": {
   "display_name": "Python 3 (ipykernel)",
   "language": "python",
   "name": "python3"
  },
  "language_info": {
   "codemirror_mode": {
    "name": "ipython",
    "version": 3
   },
   "file_extension": ".py",
   "mimetype": "text/x-python",
   "name": "python",
   "nbconvert_exporter": "python",
   "pygments_lexer": "ipython3",
   "version": "3.8.13"
  }
 },
 "nbformat": 4,
 "nbformat_minor": 5
}
