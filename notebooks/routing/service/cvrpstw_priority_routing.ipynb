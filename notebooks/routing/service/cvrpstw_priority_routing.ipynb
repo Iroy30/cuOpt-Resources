{
 "cells": [
  {
   "cell_type": "code",
   "execution_count": null,
   "id": "65705fab",
   "metadata": {},
   "outputs": [],
   "source": [
    "import pandas as pd\n",
    "import requests\n",
    "import notebook_utils.notebook_helpers as utils"
   ]
  },
  {
   "cell_type": "markdown",
   "id": "fbb36201",
   "metadata": {},
   "source": [
    "# Priority Routing\n",
    "## Capacitated Vehicle Routing Problem with Soft Time Windows (CVRPSTW)"
   ]
  },
  {
   "cell_type": "markdown",
   "id": "bffb5f0c",
   "metadata": {},
   "source": [
    "Loyalty (or Preferred) customer programs help companies to reward repeat customers and enhance their overall business offering. While the best possible customer service is always the goal, loyalty programs provide a mechanism for reinforcing the relationship with the customers that drive business revenue.\n",
    "\n",
    "In this scenario we have a set of deliveries with target time windows for delivery that do not represent a feasible solution given the delivery vehicles that are available. We would still like to deliver all the packages even if some of them are a little behind schedule. However, we would like to prioritize the deliveries of customers in our loyalty program to minimize the delay these customers experience.\n",
    "\n",
    "We also want to optimize according to a business defined cost objective that is a combination of business relevant metrics. To track time window constraints we will pass a time matrix as a constraint checking \"secondary matrix\".\n"
   ]
  },
  {
   "cell_type": "markdown",
   "id": "cb33a971",
   "metadata": {},
   "source": [
    "### Problem Details:\n",
    "- 8 Locations each with an associated demand\n",
    "    - 1 Distribution Center \n",
    "        - distribution center demand: [0]\n",
    "        - hours of operation: [0,24]\n",
    "    - 7 Service Locations\n",
    "        - demand for deliveries: [1, 1, 1, 1, 1, 1, 1]\n",
    "        - delivery time windows: [[9,10],[9,10],[9,10],[10,11],[10,11],[10,11],[9,10]]\n",
    "        - service location service times: [ 0.25, 0.25, 0.25, 0.25, 0.25, 0.25, 0.25]\n",
    "        - loyalty program member: [1, 0, 0, 0, 1, 0, 1]\n",
    "\n",
    "- 3 Delivery vehicles each with an associated capacity\n",
    "    - 3 delivery vehicles\n",
    "        - capacity for deliveries: [3, 3, 3]\n",
    "        \n",
    "**API Reference**: [cuOpt Server Documentation](https://docs.nvidia.com/cuopt/serv_api.html)"
   ]
  },
  {
   "cell_type": "markdown",
   "id": "baa93a42",
   "metadata": {},
   "source": [
    "Below we visualize the delivery locations with respect to the distribution center. The cost from all locations to all other locations (a cost matrix) will be required for optimization. To see an example of cost matrix generation from map data or a waypoint graph, refer to the [cost_matrix_creation.ipynb](cost_matrix_creation.ipynb) notebook.  For the purpose of this simple example we will omit the cost matrix calculation."
   ]
  },
  {
   "cell_type": "code",
   "execution_count": null,
   "id": "e747d30d",
   "metadata": {
    "scrolled": true
   },
   "outputs": [],
   "source": [
    "location_names       = [      \"DC\",          \"A\",    \"B\",    \"C\",    \"D\",    \"E\",    \"F\",    \"G\"  ]\n",
    "location_coordinates = [     [4, 4],        [1, 3], [8, 1], [2, 1], [6, 7], [0, 2], [7, 6], [5, 3] ]\n",
    "location_coordinates_df = pd.DataFrame(location_coordinates, columns=['xcord', 'ycord'], index=location_names)\n",
    "utils.gen_plot(location_coordinates_df).show()"
   ]
  },
  {
   "cell_type": "markdown",
   "id": "413aeb52",
   "metadata": {},
   "source": [
    "## Setup the cuOpt server and test its health\n",
    "\n",
    "**NOTE**: Please update **ip** and **port** on which the server is running."
   ]
  },
  {
   "cell_type": "code",
   "execution_count": null,
   "id": "5b5b9102",
   "metadata": {},
   "outputs": [],
   "source": [
    "ip = \"0.0.0.0\"\n",
    "port = \"5000\"\n",
    "url = \"http://\" + ip + \":\" + port + \"/cuopt/\"\n",
    "\n",
    "# Test server health\n",
    "assert requests.get(url + \"health\").status_code == 200"
   ]
  },
  {
   "cell_type": "markdown",
   "id": "1307fc95",
   "metadata": {},
   "source": [
    "### Cost Matrix : Primary"
   ]
  },
  {
   "cell_type": "markdown",
   "id": "27525bf2",
   "metadata": {},
   "source": [
    "The cost matrix dictates the cost of travel between locations of interest.  The cost itself can be anything relevant to the user.  In this case we are using a business defined cost objective as a primary cost matrix and a secondary time matrix to verify our time based constraints. \n",
    "\n",
    "Here is the cost(business metric) matrix corresponding to the locations above:"
   ]
  },
  {
   "cell_type": "code",
   "execution_count": null,
   "id": "ef01144e",
   "metadata": {},
   "outputs": [],
   "source": [
    "business_metric_cost_matrix = [\n",
    "    [0.0, 3.1, 5.0, 3.6, 3.6, 4.5, 3.6, 1.4],\n",
    "    [3.1, 0.0, 7.3, 2.2, 6.4, 1.4, 6.7, 4.0],\n",
    "    [5.0, 7.3, 0.0, 6.0, 6.3, 8.1, 5.1, 3.6],\n",
    "    [3.6, 2.2, 6.0, 0.0, 7.2, 2.2, 7.1, 3.6],\n",
    "    [3.6, 6.4, 6.3, 7.2, 0.0, 7.8, 1.4, 4.1],\n",
    "    [4.5, 1.4, 8.1, 2.2, 7.8, 0.0, 8.1, 5.1],\n",
    "    [3.6, 6.7, 5.1, 7.1, 1.4, 8.1, 0.0, 3.6],\n",
    "    [1.4, 4.0, 3.6, 3.6, 4.1, 5.1, 3.6, 0.0]\n",
    "]"
   ]
  },
  {
   "cell_type": "markdown",
   "id": "9671d772",
   "metadata": {},
   "source": [
    "### Cost Matrix : Secondary"
   ]
  },
  {
   "cell_type": "markdown",
   "id": "d226f72b",
   "metadata": {},
   "source": [
    "Here is the constraint checking (time) secondary matrix:"
   ]
  },
  {
   "cell_type": "code",
   "execution_count": null,
   "id": "145a2560",
   "metadata": {},
   "outputs": [],
   "source": [
    "constraint_checking_time_matrix = [\n",
    "    [0.00, 0.39, 0.63, 0.45, 0.45, 0.55, 0.45, 0.18 ],\n",
    "    [0.39, 0.00, 0.90, 0.28, 0.80, 0.18, 0.84, 0.50 ],\n",
    "    [0.63, 0.90, 0.00, 0.75, 0.79, 1.00, 0.64, 0.45 ],\n",
    "    [0.45, 0.28, 0.75, 0.00, 0.90, 0.28, 0.88, 0.45 ],\n",
    "    [0.45, 0.80, 0.79, 0.90, 0.00, 0.96, 0.18, 0.51 ],\n",
    "    [0.55, 0.18, 1.00, 0.28, 0.96, 0.00, 1.00, 0.64 ],\n",
    "    [0.45, 0.84, 0.64, 0.88, 0.18, 1.00, 0.00, 0.45 ],\n",
    "    [0.18, 0.50, 0.45, 0.45, 0.51, 0.64, 0.45, 0.00 ]\n",
    "]"
   ]
  },
  {
   "cell_type": "markdown",
   "id": "cbd80cd3",
   "metadata": {},
   "source": [
    "### Deliveries"
   ]
  },
  {
   "cell_type": "markdown",
   "id": "54d6af91",
   "metadata": {},
   "source": [
    "Setup the delivery data"
   ]
  },
  {
   "cell_type": "code",
   "execution_count": null,
   "id": "28e33246",
   "metadata": {},
   "outputs": [],
   "source": [
    "delivery_location_data = {\n",
    "    \"location_ids\":           [i+1 for i in range(len(location_names)-1)], # designate zeroth location as start and return points for fleet\n",
    "    \"delivery_demand\":        [1,  1,  1,  1,  1,  1,  1 ],\n",
    "    \"location_earliest_time\": [9,  9,  9,  10, 10, 10, 9 ],\n",
    "    \"location_latest_time\":   [10, 10, 10, 11, 11, 11, 10],\n",
    "    \"required_service_time\":  [1,  1,  1,  1,  1,  1,  1 ],\n",
    "    \"loyalty_member\":         [0,  1,  0,  1,  0,  1,  0 ]\n",
    "}\n",
    "print(delivery_location_data)"
   ]
  },
  {
   "cell_type": "markdown",
   "id": "dd268248",
   "metadata": {},
   "source": [
    "### Set Cost Matrix\n",
    "\n",
    "Dispatch cost matrix to server"
   ]
  },
  {
   "cell_type": "code",
   "execution_count": null,
   "id": "14b41584",
   "metadata": {},
   "outputs": [],
   "source": [
    "data_params = {\"return_data_state\": False}\n",
    "cost_data = {\"cost_matrix\": {0: business_metric_cost_matrix}}\n",
    "response_set = requests.post(\n",
    "    url + \"set_cost_matrix\", params=data_params, json=cost_data\n",
    ")\n",
    "assert response_set.status_code == 200"
   ]
  },
  {
   "cell_type": "markdown",
   "id": "8181e6f1",
   "metadata": {},
   "source": [
    "### Set Secondary Cost Matrix\n",
    "\n",
    "Dispatch secondary cost matrix to server"
   ]
  },
  {
   "cell_type": "code",
   "execution_count": null,
   "id": "a603ed5c",
   "metadata": {},
   "outputs": [],
   "source": [
    "# set the secondary constraint checking time matrix\n",
    "time_data = {\"cost_matrix\": {0: constraint_checking_time_matrix}}\n",
    "response_set = requests.post(\n",
    "    url + \"set_travel_time_matrix\", params=data_params, json=time_data\n",
    ")\n",
    "assert response_set.status_code == 200"
   ]
  },
  {
   "cell_type": "markdown",
   "id": "6bace17e",
   "metadata": {},
   "source": [
    "### Set Vehicle Data\n",
    "Dispatch vehicle data to server"
   ]
  },
  {
   "cell_type": "code",
   "execution_count": null,
   "id": "f4931236",
   "metadata": {},
   "outputs": [],
   "source": [
    "n_vehicles = 3\n",
    "vehicle_capacity = 3 # As per problem statement, all vehicles have capacities of 3\n",
    "\n",
    "# Build the fleet data\n",
    "fleet_data = {\n",
    "    # Vehicle start and end at location 0, since 0 is distribution center\n",
    "    \"vehicle_locations\": [[0,0]] * n_vehicles,\n",
    "    \"capacities\": [[vehicle_capacity] * n_vehicles],\n",
    "    \"vehicle_time_windows\": [[5, 20]] * n_vehicles\n",
    "}\n",
    "\n",
    "# Dispatch the fleet data request to the server\n",
    "response_set = requests.post(url + \"set_fleet_data\", json=fleet_data)\n",
    "assert response_set.status_code == 200"
   ]
  },
  {
   "cell_type": "markdown",
   "id": "e5738d68",
   "metadata": {},
   "source": [
    "### Set Task Data\n",
    "Dispatch task data to server"
   ]
  },
  {
   "cell_type": "code",
   "execution_count": null,
   "id": "c0bcf99c",
   "metadata": {},
   "outputs": [],
   "source": [
    "# Build the task data\n",
    "task_data = {\n",
    "    \"task_locations\": delivery_location_data[\"location_ids\"],\n",
    "    \"demand\": [delivery_location_data[\"delivery_demand\"]],\n",
    "}\n",
    "\n",
    "# add time window constraints and service time for the locations\n",
    "task_data[\"task_time_windows\"] = list(zip(delivery_location_data[\"location_earliest_time\"],\n",
    "                                          delivery_location_data[\"location_latest_time\"]))\n",
    "\n",
    "task_data[\"service_times\"] = delivery_location_data[\"required_service_time\"]\n",
    "\n",
    "# Dispatch the task request to the server\n",
    "response_set = requests.post(url + \"set_task_data\", json=task_data)\n",
    "assert response_set.status_code == 200"
   ]
  },
  {
   "cell_type": "markdown",
   "id": "82f4dd75",
   "metadata": {},
   "source": [
    "### Set CuOpt Solver Configuration"
   ]
  },
  {
   "cell_type": "code",
   "execution_count": null,
   "id": "d0f811c5",
   "metadata": {
    "scrolled": true
   },
   "outputs": [],
   "source": [
    "# Setup the solver settings json datastructure\n",
    "solver_settings = {\n",
    "    # solver_settings will run for given time limit.  Larger and/or more complex problems may require more time.\n",
    "    \"time_limit\": 0.05,\n",
    "    # set number of climbers that will try to search for an optimal routes in parallel\n",
    "    \"number_of_climbers\": 128,\n",
    "}\n",
    "\n",
    "# dispatch the solver settings to the server\n",
    "response_set = requests.post(\n",
    "    url + \"set_solver_config\", json=solver_settings\n",
    ")\n",
    "assert response_set.status_code == 200"
   ]
  },
  {
   "cell_type": "markdown",
   "id": "1d2997dd",
   "metadata": {},
   "source": [
    "### Attempt to obtain optimized routes\n",
    "We can attempt to solve this problem as stated, but as previously discussed it is not feasible within the specified target time windows"
   ]
  },
  {
   "cell_type": "code",
   "execution_count": null,
   "id": "a63b509b",
   "metadata": {},
   "outputs": [],
   "source": [
    "solver_response = requests.get(url + \"get_optimized_routes\")\n",
    "\n",
    "if solver_response.status_code == 200:\n",
    "    print(\"Cost for the routing in time: \", solver_response[\"solution_cost\"])\n",
    "    print(\"Vehicle count to complete routing: \", solver_response[\"num_vehicles\"])\n",
    "else:\n",
    "    print(\"NVIDIA cuOpt Failed to find a solution with status : \", solver_response.status_code)"
   ]
  },
  {
   "cell_type": "markdown",
   "id": "3f863e49",
   "metadata": {},
   "source": [
    "cuOpt is unable to find a feasible solution.  As previously discussed we would like to allow the deliveries to exceed the latest time windows by using soft time windows"
   ]
  },
  {
   "cell_type": "markdown",
   "id": "900028af",
   "metadata": {},
   "source": [
    "### Initial Solution\n",
    "\n",
    "With soft time window option, we can relax time window constraints along with penality to come up with a solution but at a additional cost. \n",
    "\n",
    "#### Update solver configuration to use Soft Time windows"
   ]
  },
  {
   "cell_type": "code",
   "execution_count": null,
   "id": "8f6e8a2c",
   "metadata": {},
   "outputs": [],
   "source": [
    "solver_settings[\"solution_scope\"] = 1\n",
    "# Update the solver settings to the server\n",
    "response_set = requests.put(\n",
    "    url + \"update_solver_config\", json=solver_settings\n",
    ")\n",
    "assert response_set.status_code == 200"
   ]
  },
  {
   "cell_type": "markdown",
   "id": "65bcae7d",
   "metadata": {},
   "source": [
    "#### Add Penalty\n",
    "\n",
    "With this, we can prioritize order/customers by providing higher penalties to such jobs compared to others."
   ]
  },
  {
   "cell_type": "code",
   "execution_count": null,
   "id": "720d9692",
   "metadata": {},
   "outputs": [],
   "source": [
    "delivery_location_data['penalty'] = [x * 100 for x in delivery_location_data[\"loyalty_member\"]]\n",
    "delivery_location_data\n",
    "\n",
    "\n",
    "task_data = {\n",
    "    \"penalties\": delivery_location_data[\"penalty\"]\n",
    "}\n",
    "\n",
    "# Update the task request to the server\n",
    "response_set = requests.put(url + \"update_task_data\", json=task_data)\n",
    "assert response_set.status_code == 200"
   ]
  },
  {
   "cell_type": "markdown",
   "id": "1eb424b0",
   "metadata": {},
   "source": [
    "#### Re-optimize "
   ]
  },
  {
   "cell_type": "code",
   "execution_count": null,
   "id": "098c0061",
   "metadata": {},
   "outputs": [],
   "source": [
    "solver_response = requests.get(url + \"get_optimized_routes\")\n",
    "solver_resp = solver_response.json()[\"response\"][\"solver_response\"]\n",
    "\n",
    "if solver_resp[\"status\"] == 0: \n",
    "    solver_resp_df = utils.get_solution_df(solver_resp)\n",
    "    print(\"Cost for the routing in time: \", solver_resp[\"solution_cost\"])\n",
    "    print(\"Vehicle count to complete routing: \", solver_resp[\"num_vehicles\"])\n",
    "    print(solver_resp_df)\n",
    "else:\n",
    "    print(\"NVIDIA cuOpt Failed to find a solution with status : \", solver_resp[\"status\"])"
   ]
  },
  {
   "cell_type": "code",
   "execution_count": null,
   "id": "d1845a27",
   "metadata": {},
   "outputs": [],
   "source": [
    "solution_data_priority = utils.get_solution_df(solver_resp)\n",
    "solution_data_priority['route'] = [location_names[i] for i in solution_data_priority['route'].to_list()]\n",
    "solution_data_priority = solution_data_priority.set_index('route')\n",
    "solution_data_priority"
   ]
  },
  {
   "cell_type": "markdown",
   "id": "38bc3217",
   "metadata": {},
   "source": [
    "_____\n",
    "\n",
    "#### SPDX-FileCopyrightText: Copyright (c) 2022 NVIDIA CORPORATION & AFFILIATES. All rights reserved.\n",
    "\n",
    "#### SPDX-License-Identifier: MIT\n",
    "\n",
    "Permission is hereby granted, free of charge, to any person obtaining a\n",
    "copy of this software and associated documentation files (the \"Software\"),\n",
    "to deal in the Software without restriction, including without limitation\n",
    "the rights to use, copy, modify, merge, publish, distribute, sublicense,\n",
    "and/or sell copies of the Software, and to permit persons to whom the\n",
    "Software is furnished to do so, subject to the following conditions:\n",
    "The above copyright notice and this permission notice shall be included in\n",
    "all copies or substantial portions of the Software.\n",
    "\n",
    "THE SOFTWARE IS PROVIDED \"AS IS\", WITHOUT WARRANTY OF ANY KIND, EXPRESS OR\n",
    "IMPLIED, INCLUDING BUT NOT LIMITED TO THE WARRANTIES OF MERCHANTABILITY,\n",
    "FITNESS FOR A PARTICULAR PURPOSE AND NONINFRINGEMENT. IN NO EVENT SHALL\n",
    "THE AUTHORS OR COPYRIGHT HOLDERS BE LIABLE FOR ANY CLAIM, DAMAGES OR OTHER\n",
    "LIABILITY, WHETHER IN AN ACTION OF CONTRACT, TORT OR OTHERWISE, ARISING\n",
    "FROM, OUT OF OR IN CONNECTION WITH THE SOFTWARE OR THE USE OR OTHER\n",
    "DEALINGS IN THE SOFTWARE.\n",
    "\n",
    "---"
   ]
  }
 ],
 "metadata": {
  "kernelspec": {
   "display_name": "Python 3 (ipykernel)",
   "language": "python",
   "name": "python3"
  },
  "language_info": {
   "codemirror_mode": {
    "name": "ipython",
    "version": 3
   },
   "file_extension": ".py",
   "mimetype": "text/x-python",
   "name": "python",
   "nbconvert_exporter": "python",
   "pygments_lexer": "ipython3",
   "version": "3.9.15"
  },
  "vscode": {
   "interpreter": {
    "hash": "0f29e496949dc4ef652a1afa2d601ce2913fc84758b70efb060a954cb0e2d83f"
   }
  }
 },
 "nbformat": 4,
 "nbformat_minor": 5
}
