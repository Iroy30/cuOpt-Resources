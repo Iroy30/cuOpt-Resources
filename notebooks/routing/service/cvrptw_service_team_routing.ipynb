{
 "cells": [
  {
   "cell_type": "code",
   "execution_count": null,
   "id": "b2cba47f",
   "metadata": {},
   "outputs": [],
   "source": [
    "import requests\n",
    "import pandas as pd\n",
    "import notebook_utils.notebook_helpers as utils"
   ]
  },
  {
   "cell_type": "markdown",
   "id": "371f38f1",
   "metadata": {},
   "source": [
    "# Service Team Routing\n",
    "## Capacitated Vehicle Routing Problem with Time Windows (CVRPTW)"
   ]
  },
  {
   "cell_type": "markdown",
   "id": "25e90f86",
   "metadata": {},
   "source": [
    "The ability of service providers to set service time windows allows for easier and more dependable coordination between the service provider and their customers, while increasing overall customer satisfaction.\n",
    "\n",
    "In this scenario we have a number of service order locations with associated time windows and service times (time on-site to complete service). Each technician has an associated availability, ability to complete certain types of service, and a maximum number of service appointments per day."
   ]
  },
  {
   "cell_type": "markdown",
   "id": "63093d54",
   "metadata": {},
   "source": [
    "### Problem Details:\n",
    "- 8 Locations each with an associated demand\n",
    "    - 1 Headquarters \n",
    "        - service type 1 demand: [0]\n",
    "        - service type 2 demand: [1]\n",
    "        - headquarters hours of operation: [5,20]\n",
    "    - 7 Service Locations\n",
    "        - service type 1 demand: [1, 1, 1, 0, 0, 0, 0]\n",
    "        - service type 2 demand: [0, 0, 1, 1, 1, 1, 1]\n",
    "        - service locations time windows: [[9,12],[9,12],[11,14],[13,16],[13,16],[13,16],[13,16]]\n",
    "        - service location service times: [ 1, 1, 1.5, 0.5, 0.5, 0.5]\n",
    "\n",
    "- 3 Delivery vehicles each with an associated capacity\n",
    "    - 3 service technicians\n",
    "        - capacity for service type 1: [2, 1, 0]\n",
    "        - capacity for service type 2: [0, 1, 4]\n",
    "        - technician availability [[9,17], [12,15], [9,17]]\n",
    "        \n",
    "**API Reference**: [cuOpt Server Documentation](https://docs.nvidia.com/cuopt/serv_api.html)"
   ]
  },
  {
   "cell_type": "markdown",
   "id": "baeeee39",
   "metadata": {},
   "source": [
    "Below we visualize the service locations with respect to the service company headquarters. The cost from all locations to all other locations (a cost matrix) will be required for optimization. To see an example of cost matrix generation from map data or a waypoint graph, refer to the [cost_matrix_creation.ipynb](cost_matrix_creation.ipynb) notebook.  For the purpose of this simple example we will omit the cost matrix calculation."
   ]
  },
  {
   "cell_type": "code",
   "execution_count": null,
   "id": "c8a0847d",
   "metadata": {},
   "outputs": [],
   "source": [
    "location_names       = [ \"Headquarters\",     \"A\",    \"B\",    \"C\",    \"D\",    \"E\",    \"F\",    \"G\"  ]\n",
    "location_coordinates = [     [4, 4],        [1, 3], [8, 1], [2, 1], [6, 7], [0, 2], [7, 6], [5, 3] ]\n",
    "location_coordinates_df = pd.DataFrame(location_coordinates, columns=['xcord', 'ycord'], index=location_names)\n",
    "utils.gen_plot(location_coordinates_df).show()"
   ]
  },
  {
   "cell_type": "markdown",
   "id": "ff1d68f2",
   "metadata": {},
   "source": [
    "### Cost Matrix"
   ]
  },
  {
   "cell_type": "markdown",
   "id": "210a57e9",
   "metadata": {},
   "source": [
    "The cost matrix dictates the cost of travel between locations of interest.  The cost itself can be anything relevant to the user.  In this case we are constraining time window constraints.  When constraining time windows for locations or vehicles it is assumed (if only a single cost matrix is provided) that it represents time. \n",
    "\n",
    "Here is the cost(time) matrix corresponding to the locations above:"
   ]
  },
  {
   "cell_type": "code",
   "execution_count": null,
   "id": "1054c7e3",
   "metadata": {
    "scrolled": true
   },
   "outputs": [],
   "source": [
    "time_matrix = [\n",
    " [0.00, 0.31, 0.50, 0.36, 0.36, 0.44, 0.36, 0.14],\n",
    " [0.31, 0.00, 0.72, 0.22, 0.64, 0.14, 0.67, 0.40],\n",
    " [0.50, 0.72, 0.00, 0.60, 0.63, 0.80, 0.51, 0.36],\n",
    " [0.36, 0.22, 0.60, 0.00, 0.72, 0.22, 0.70, 0.36],\n",
    " [0.36, 0.64, 0.63, 0.72, 0.00, 0.77, 0.14, 0.41],\n",
    " [0.44, 0.14, 0.80, 0.22, 0.77, 0.00, 0.80, 0.51],\n",
    " [0.36, 0.67, 0.51, 0.70, 0.14, 0.80, 0.00, 0.36],\n",
    " [0.14, 0.40, 0.36, 0.36, 0.41, 0.51, 0.36, 0.00]\n",
    "]\n",
    "\n",
    "# Create a dataframe of this matrix\n",
    "time_matrix_df  = pd.DataFrame(time_matrix, \n",
    "                              index=location_coordinates_df.index, \n",
    "                              columns=location_coordinates_df.index)\n",
    "time_matrix_df"
   ]
  },
  {
   "cell_type": "markdown",
   "id": "3397b254",
   "metadata": {},
   "source": [
    "### Service Locations"
   ]
  },
  {
   "cell_type": "markdown",
   "id": "ce7b7af7",
   "metadata": {},
   "source": [
    "Setup the service location data"
   ]
  },
  {
   "cell_type": "code",
   "execution_count": null,
   "id": "dc98afdf",
   "metadata": {
    "scrolled": true
   },
   "outputs": [],
   "source": [
    "# exclude head quarters from service location names\n",
    "service_location_ids = [1, 2, 3, 4, 5, 6, 7]\n",
    "service_location_names = [location_names[i] for i in service_location_ids]\n",
    "service_location_data = {\n",
    "    \"service_location_names\": service_location_names,\n",
    "    \"service_location_ids\": service_location_ids,\n",
    "    \"service_type1_demand\": [1, 1, 1, 0, 0, 0, 0],\n",
    "    \"service_type2_demand\": [0, 0, 1, 1, 1, 1, 1],\n",
    "    \"location_earliest_time\": [9, 9, 11, 13, 13, 13, 13],\n",
    "    \"location_latest_time\": [12, 12, 14, 16, 16, 16,16],\n",
    "    \"required_service_time\": [1, 1, 1.5, 0.5, 0.5, 0.5, 0.5]\n",
    "}\n",
    "service_location_data_df = pd.DataFrame(service_location_data).set_index('service_location_names')\n",
    "service_location_data_df"
   ]
  },
  {
   "cell_type": "markdown",
   "id": "cd27971f",
   "metadata": {},
   "source": [
    "### Vehicles"
   ]
  },
  {
   "cell_type": "markdown",
   "id": "d66df281",
   "metadata": {},
   "source": [
    "Setup vehicle/technician data"
   ]
  },
  {
   "cell_type": "code",
   "execution_count": null,
   "id": "248e1add",
   "metadata": {
    "scrolled": true
   },
   "outputs": [],
   "source": [
    "n_vehicles = 3\n",
    "vehicle_data = {\n",
    "    \"vehicle_ids\": [i for i in range(n_vehicles)],\n",
    "    \"capacity_service_type1\":[2, 1, 0],\n",
    "    \"capacity_service_type2\":[0, 1, 4],\n",
    "    \"vehicle_availability_earliest\":[9, 11, 9],\n",
    "    \"vehicle_availability_latest\":[17, 15, 17]\n",
    "}\n",
    "vehicle_data_df = pd.DataFrame(vehicle_data).set_index('vehicle_ids')\n",
    "vehicle_data_df"
   ]
  },
  {
   "cell_type": "markdown",
   "id": "40cc2676",
   "metadata": {},
   "source": [
    "# Setup the cuOpt server and test its health\n",
    "\n",
    "**NOTE**: Please update **ip** and **port** on which the server is running."
   ]
  },
  {
   "cell_type": "code",
   "execution_count": null,
   "id": "cf2a003f",
   "metadata": {},
   "outputs": [],
   "source": [
    "ip = \"0.0.0.0\"\n",
    "port = \"5000\"\n",
    "url = \"http://\" + ip + \":\" + port + \"/cuopt/\"\n",
    "\n",
    "# Test health\n",
    "assert requests.get(url + \"health\").status_code == 200"
   ]
  },
  {
   "cell_type": "markdown",
   "id": "8c70e5b3",
   "metadata": {},
   "source": [
    "### Set Cost Matrix"
   ]
  },
  {
   "cell_type": "code",
   "execution_count": null,
   "id": "15214631",
   "metadata": {},
   "outputs": [],
   "source": [
    "# set the cost matrix\n",
    "data_params = {\"return_data_state\": False}\n",
    "cost_data = {\"cost_matrix\": {0: time_matrix}}\n",
    "response_set = requests.post(\n",
    "    url + \"set_cost_matrix\", params=data_params, json=cost_data\n",
    ")\n",
    "assert response_set.status_code == 200"
   ]
  },
  {
   "cell_type": "markdown",
   "id": "6cb27e14",
   "metadata": {},
   "source": [
    "### Set Fleet Data"
   ]
  },
  {
   "cell_type": "code",
   "execution_count": null,
   "id": "9b07f8ad",
   "metadata": {},
   "outputs": [],
   "source": [
    "# Build the vehicle data\n",
    "fleet_data = {\n",
    "    \"vehicle_locations\": [[0,0]] * n_vehicles,\n",
    "    \"capacities\": [vehicle_data[\"capacity_service_type1\"], vehicle_data[\"capacity_service_type2\"]],\n",
    "}\n",
    "\n",
    "# add time windows for vehicle availability\n",
    "fleet_data[\"vehicle_time_windows\"] = list(zip(vehicle_data['vehicle_availability_earliest'],\n",
    "                                              vehicle_data['vehicle_availability_latest']))\n",
    "\n",
    "# Dispatch the vehicle data to the cuOpt server\n",
    "response_set = requests.post(\n",
    "    url + \"set_fleet_data\", json=fleet_data\n",
    ")\n",
    "assert response_set.status_code == 200"
   ]
  },
  {
   "cell_type": "markdown",
   "id": "d6fce836",
   "metadata": {},
   "source": [
    "### Set Task Data"
   ]
  },
  {
   "cell_type": "code",
   "execution_count": null,
   "id": "2b28f01c",
   "metadata": {},
   "outputs": [],
   "source": [
    "n_vehicles = len(vehicle_data_df)\n",
    "\n",
    "# Build the task data\n",
    "task_data = {\n",
    "    \"task_locations\": service_location_ids,\n",
    "    # demand for service type 1 and service type 2\n",
    "    \"demand\": [service_location_data[\"service_type1_demand\"], service_location_data[\"service_type2_demand\"]],\n",
    "}\n",
    "\n",
    "# add time window constraints and service time for the service locations\n",
    "task_data[\"task_time_windows\"] = list(zip(service_location_data[\"location_earliest_time\"],\n",
    "                                          service_location_data[\"location_latest_time\"]))\n",
    "task_data[\"service_times\"] = service_location_data[\"required_service_time\"]\n",
    "\n",
    "# Dispatch the task data to the cuOpt server\n",
    "response_set = requests.post(\n",
    "    url + \"set_task_data\", json=task_data\n",
    ")\n",
    "assert response_set.status_code == 200"
   ]
  },
  {
   "cell_type": "markdown",
   "id": "be4c7654",
   "metadata": {},
   "source": [
    "### Set Solver Configuration"
   ]
  },
  {
   "cell_type": "code",
   "execution_count": null,
   "id": "fd528c7e",
   "metadata": {},
   "outputs": [],
   "source": [
    "# Set the time limit \n",
    "# Set number of climbers that will try to search for an optimal routes in parallel\n",
    "solver_settings = {\n",
    "    \"time_limit\": 0.05,\n",
    "    \"number_of_climbers\": 128,\n",
    "}\n",
    "# Dispatch the solver settings to the cuOpt server\n",
    "response_set = requests.post(\n",
    "    url + \"set_solver_config\", json=solver_settings\n",
    ")\n",
    "assert response_set.status_code == 200"
   ]
  },
  {
   "cell_type": "markdown",
   "id": "c1994f6a",
   "metadata": {},
   "source": [
    "### Get Optimized Routes"
   ]
  },
  {
   "cell_type": "code",
   "execution_count": null,
   "id": "d243bdef",
   "metadata": {},
   "outputs": [],
   "source": [
    "# Solve the problem\n",
    "solver_response = requests.get(url + \"get_optimized_routes\")\n",
    "\n",
    "assert solver_response.status_code == 200\n",
    "\n",
    "# Process the solver results\n",
    "solver_resp = solver_response.json()[\"response\"][\"solver_response\"]\n",
    "\n",
    "if solver_resp[\"status\"] == 0:\n",
    "    print(\"Cost for the routing in distance: \", solver_resp[\"solution_cost\"])\n",
    "    print(\"Vehicle count to complete routing: \", solver_resp[\"num_vehicles\"])\n",
    "    utils.show_vehicle_routes(solver_resp, location_names)\n",
    "else:\n",
    "    print(\"NVIDIA cuOpt Failed to find a solution with status : \", solver_resp[\"status\"])"
   ]
  },
  {
   "cell_type": "markdown",
   "id": "68b89b87",
   "metadata": {},
   "source": [
    "**Notice** that this solution leverages the fact that vehicle 1 is the only vehicle with the ability to perform both service type 1 and service type 2.  In addition, vehicle 0 and vehicle 2 also serve the locations they are suited to service and minimize the time taken along these routes."
   ]
  },
  {
   "cell_type": "code",
   "execution_count": null,
   "id": "617cdd8e",
   "metadata": {},
   "outputs": [],
   "source": [
    "vehicle_colors = [\"red\", \"green\", \"blue\"]\n",
    "utils.map_vehicle_routes(location_coordinates_df, solver_resp, vehicle_colors).show()"
   ]
  },
  {
   "cell_type": "markdown",
   "id": "47eb4eed",
   "metadata": {},
   "source": [
    "_____\n",
    "\n",
    "#### SPDX-FileCopyrightText: Copyright (c) 2022 NVIDIA CORPORATION & AFFILIATES. All rights reserved.\n",
    "\n",
    "#### SPDX-License-Identifier: MIT\n",
    "\n",
    "Permission is hereby granted, free of charge, to any person obtaining a\n",
    "copy of this software and associated documentation files (the \"Software\"),\n",
    "to deal in the Software without restriction, including without limitation\n",
    "the rights to use, copy, modify, merge, publish, distribute, sublicense,\n",
    "and/or sell copies of the Software, and to permit persons to whom the\n",
    "Software is furnished to do so, subject to the following conditions:\n",
    "The above copyright notice and this permission notice shall be included in\n",
    "all copies or substantial portions of the Software.\n",
    "\n",
    "THE SOFTWARE IS PROVIDED \"AS IS\", WITHOUT WARRANTY OF ANY KIND, EXPRESS OR\n",
    "IMPLIED, INCLUDING BUT NOT LIMITED TO THE WARRANTIES OF MERCHANTABILITY,\n",
    "FITNESS FOR A PARTICULAR PURPOSE AND NONINFRINGEMENT. IN NO EVENT SHALL\n",
    "THE AUTHORS OR COPYRIGHT HOLDERS BE LIABLE FOR ANY CLAIM, DAMAGES OR OTHER\n",
    "LIABILITY, WHETHER IN AN ACTION OF CONTRACT, TORT OR OTHERWISE, ARISING\n",
    "FROM, OUT OF OR IN CONNECTION WITH THE SOFTWARE OR THE USE OR OTHER\n",
    "DEALINGS IN THE SOFTWARE.\n",
    "\n",
    "---"
   ]
  }
 ],
 "metadata": {
  "kernelspec": {
   "display_name": "Python 3 (ipykernel)",
   "language": "python",
   "name": "python3"
  },
  "language_info": {
   "codemirror_mode": {
    "name": "ipython",
    "version": 3
   },
   "file_extension": ".py",
   "mimetype": "text/x-python",
   "name": "python",
   "nbconvert_exporter": "python",
   "pygments_lexer": "ipython3",
   "version": "3.9.15"
  },
  "vscode": {
   "interpreter": {
    "hash": "0f29e496949dc4ef652a1afa2d601ce2913fc84758b70efb060a954cb0e2d83f"
   }
  }
 },
 "nbformat": 4,
 "nbformat_minor": 5
}
